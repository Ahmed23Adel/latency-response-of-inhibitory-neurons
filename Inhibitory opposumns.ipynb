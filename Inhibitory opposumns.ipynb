{
 "cells": [
  {
   "cell_type": "markdown",
   "id": "39b3df8b",
   "metadata": {},
   "source": [
    "# Info"
   ]
  },
  {
   "cell_type": "markdown",
   "id": "97a2d9db",
   "metadata": {},
   "source": [
    "vip: inhibitory neurons.\n",
    "- The `cell_roi_id` column contains unique roi ids for all cells in a given experiment, which do not repeat across ophys sessions. \n",
    "- The `cell_specimen_id` column contains unique ids for cells that were matched across ophys sessions. Thus, a cell that was imaged in more than one session has multiple roi ids but one cell specimen id. "
   ]
  },
  {
   "cell_type": "markdown",
   "id": "d1e3dbc2",
   "metadata": {},
   "source": [
    "# Reminders"
   ]
  },
  {
   "cell_type": "markdown",
   "id": "72ddc52d",
   "metadata": {},
   "source": [
    "1- is the difference in age cause any deviation?.\n",
    "2- is difference in sex cause any difference?"
   ]
  },
  {
   "cell_type": "markdown",
   "id": "08533de4",
   "metadata": {},
   "source": [
    "# Setup"
   ]
  },
  {
   "cell_type": "code",
   "execution_count": 14,
   "id": "97af0049",
   "metadata": {
    "scrolled": false
   },
   "outputs": [
    {
     "name": "stdout",
     "output_type": "stream",
     "text": [
      "Requirement already satisfied: pip in /Users/ahmed/opt/anaconda3/lib/python3.8/site-packages (21.1.3)\n",
      "Requirement already satisfied: mindscope_utilities in /Users/ahmed/opt/anaconda3/lib/python3.8/site-packages (0.1.7)\n",
      "Requirement already satisfied: allensdk==2.11.2 in /Users/ahmed/opt/anaconda3/lib/python3.8/site-packages (from mindscope_utilities) (2.11.2)\n",
      "Requirement already satisfied: flake8 in /Users/ahmed/opt/anaconda3/lib/python3.8/site-packages (from mindscope_utilities) (3.9.0)\n",
      "Requirement already satisfied: pytest in /Users/ahmed/opt/anaconda3/lib/python3.8/site-packages (from mindscope_utilities) (6.2.3)\n",
      "Requirement already satisfied: semver in /Users/ahmed/opt/anaconda3/lib/python3.8/site-packages (from allensdk==2.11.2->mindscope_utilities) (2.13.0)\n",
      "Requirement already satisfied: h5py<3.0.0,>=2.8 in /Users/ahmed/opt/anaconda3/lib/python3.8/site-packages (from allensdk==2.11.2->mindscope_utilities) (2.10.0)\n",
      "Requirement already satisfied: pynrrd<1.0.0,>=0.2.1 in /Users/ahmed/opt/anaconda3/lib/python3.8/site-packages (from allensdk==2.11.2->mindscope_utilities) (0.4.2)\n",
      "Requirement already satisfied: boto3==1.17.21 in /Users/ahmed/opt/anaconda3/lib/python3.8/site-packages (from allensdk==2.11.2->mindscope_utilities) (1.17.21)\n",
      "Requirement already satisfied: xarray<0.16.0 in /Users/ahmed/opt/anaconda3/lib/python3.8/site-packages (from allensdk==2.11.2->mindscope_utilities) (0.15.1)\n",
      "Requirement already satisfied: future<1.0.0,>=0.14.3 in /Users/ahmed/opt/anaconda3/lib/python3.8/site-packages (from allensdk==2.11.2->mindscope_utilities) (0.18.2)\n",
      "Requirement already satisfied: pynwb<2.0.0,>=1.3.2 in /Users/ahmed/opt/anaconda3/lib/python3.8/site-packages (from allensdk==2.11.2->mindscope_utilities) (1.4.0)\n",
      "Requirement already satisfied: scikit-build<1.0.0 in /Users/ahmed/opt/anaconda3/lib/python3.8/site-packages (from allensdk==2.11.2->mindscope_utilities) (0.11.1)\n",
      "Requirement already satisfied: jinja2<2.12.0,>=2.7.3 in /Users/ahmed/opt/anaconda3/lib/python3.8/site-packages (from allensdk==2.11.2->mindscope_utilities) (2.11.3)\n",
      "Requirement already satisfied: aiohttp==3.7.4 in /Users/ahmed/opt/anaconda3/lib/python3.8/site-packages (from allensdk==2.11.2->mindscope_utilities) (3.7.4)\n",
      "Requirement already satisfied: six<2.0.0,>=1.9.0 in /Users/ahmed/opt/anaconda3/lib/python3.8/site-packages (from allensdk==2.11.2->mindscope_utilities) (1.15.0)\n",
      "Requirement already satisfied: simplejson<4.0.0,>=3.10.0 in /Users/ahmed/opt/anaconda3/lib/python3.8/site-packages (from allensdk==2.11.2->mindscope_utilities) (3.17.3)\n",
      "Requirement already satisfied: psycopg2-binary<3.0.0,>=2.7 in /Users/ahmed/opt/anaconda3/lib/python3.8/site-packages (from allensdk==2.11.2->mindscope_utilities) (2.9.1)\n",
      "Requirement already satisfied: seaborn<1.0.0 in /Users/ahmed/opt/anaconda3/lib/python3.8/site-packages (from allensdk==2.11.2->mindscope_utilities) (0.11.1)\n",
      "Requirement already satisfied: tqdm>=4.27 in /Users/ahmed/opt/anaconda3/lib/python3.8/site-packages (from allensdk==2.11.2->mindscope_utilities) (4.59.0)\n",
      "Requirement already satisfied: pandas<=0.25.3,>=0.25.1 in /Users/ahmed/opt/anaconda3/lib/python3.8/site-packages (from allensdk==2.11.2->mindscope_utilities) (0.25.3)\n",
      "Requirement already satisfied: scipy<2.0.0,>=1.4.0 in /Users/ahmed/opt/anaconda3/lib/python3.8/site-packages (from allensdk==2.11.2->mindscope_utilities) (1.6.2)\n",
      "Requirement already satisfied: tables<4.0.0,>=3.6.0 in /Users/ahmed/opt/anaconda3/lib/python3.8/site-packages (from allensdk==2.11.2->mindscope_utilities) (3.6.1)\n",
      "Requirement already satisfied: argschema<3.0.0 in /Users/ahmed/opt/anaconda3/lib/python3.8/site-packages (from allensdk==2.11.2->mindscope_utilities) (2.0.2)\n",
      "Requirement already satisfied: requests<3.0.0 in /Users/ahmed/opt/anaconda3/lib/python3.8/site-packages (from allensdk==2.11.2->mindscope_utilities) (2.25.1)\n",
      "Requirement already satisfied: ndx-events<=0.2.0 in /Users/ahmed/opt/anaconda3/lib/python3.8/site-packages (from allensdk==2.11.2->mindscope_utilities) (0.2.0)\n",
      "Requirement already satisfied: matplotlib<4.0.0,>=1.4.3 in /Users/ahmed/opt/anaconda3/lib/python3.8/site-packages (from allensdk==2.11.2->mindscope_utilities) (3.3.4)\n",
      "Requirement already satisfied: scikit-image<0.17.0,>=0.14.0 in /Users/ahmed/opt/anaconda3/lib/python3.8/site-packages (from allensdk==2.11.2->mindscope_utilities) (0.16.2)\n",
      "Requirement already satisfied: glymur==0.8.19 in /Users/ahmed/opt/anaconda3/lib/python3.8/site-packages (from allensdk==2.11.2->mindscope_utilities) (0.8.19)\n",
      "Requirement already satisfied: statsmodels<=0.13.0 in /Users/ahmed/opt/anaconda3/lib/python3.8/site-packages (from allensdk==2.11.2->mindscope_utilities) (0.12.2)\n",
      "Requirement already satisfied: numpy<1.19.0,>=1.15.4 in /Users/ahmed/opt/anaconda3/lib/python3.8/site-packages (from allensdk==2.11.2->mindscope_utilities) (1.18.5)\n",
      "Requirement already satisfied: hdmf<2.5.0 in /Users/ahmed/opt/anaconda3/lib/python3.8/site-packages (from allensdk==2.11.2->mindscope_utilities) (2.4.0)\n",
      "Requirement already satisfied: nest-asyncio==1.2.0 in /Users/ahmed/opt/anaconda3/lib/python3.8/site-packages (from allensdk==2.11.2->mindscope_utilities) (1.2.0)\n",
      "Requirement already satisfied: marshmallow==3.0.0rc6 in /Users/ahmed/opt/anaconda3/lib/python3.8/site-packages (from allensdk==2.11.2->mindscope_utilities) (3.0.0rc6)\n",
      "Requirement already satisfied: requests-toolbelt<1.0.0 in /Users/ahmed/opt/anaconda3/lib/python3.8/site-packages (from allensdk==2.11.2->mindscope_utilities) (0.9.1)\n",
      "Requirement already satisfied: simpleitk<3.0.0,>=2.0.2 in /Users/ahmed/opt/anaconda3/lib/python3.8/site-packages (from allensdk==2.11.2->mindscope_utilities) (2.0.2)\n",
      "Requirement already satisfied: typing-extensions>=3.6.5 in /Users/ahmed/opt/anaconda3/lib/python3.8/site-packages (from aiohttp==3.7.4->allensdk==2.11.2->mindscope_utilities) (3.7.4.3)\n",
      "Requirement already satisfied: async-timeout<4.0,>=3.0 in /Users/ahmed/opt/anaconda3/lib/python3.8/site-packages (from aiohttp==3.7.4->allensdk==2.11.2->mindscope_utilities) (3.0.1)\n",
      "Requirement already satisfied: yarl<2.0,>=1.0 in /Users/ahmed/opt/anaconda3/lib/python3.8/site-packages (from aiohttp==3.7.4->allensdk==2.11.2->mindscope_utilities) (1.6.3)\n",
      "Requirement already satisfied: chardet<4.0,>=2.0 in /Users/ahmed/opt/anaconda3/lib/python3.8/site-packages (from aiohttp==3.7.4->allensdk==2.11.2->mindscope_utilities) (3.0.4)\n",
      "Requirement already satisfied: attrs>=17.3.0 in /Users/ahmed/opt/anaconda3/lib/python3.8/site-packages (from aiohttp==3.7.4->allensdk==2.11.2->mindscope_utilities) (20.3.0)\n",
      "Requirement already satisfied: multidict<7.0,>=4.5 in /Users/ahmed/opt/anaconda3/lib/python3.8/site-packages (from aiohttp==3.7.4->allensdk==2.11.2->mindscope_utilities) (5.1.0)\n",
      "Requirement already satisfied: s3transfer<0.4.0,>=0.3.0 in /Users/ahmed/opt/anaconda3/lib/python3.8/site-packages (from boto3==1.17.21->allensdk==2.11.2->mindscope_utilities) (0.3.7)\n",
      "Requirement already satisfied: botocore<1.21.0,>=1.20.21 in /Users/ahmed/opt/anaconda3/lib/python3.8/site-packages (from boto3==1.17.21->allensdk==2.11.2->mindscope_utilities) (1.20.109)\n",
      "Requirement already satisfied: jmespath<1.0.0,>=0.7.1 in /Users/ahmed/opt/anaconda3/lib/python3.8/site-packages (from boto3==1.17.21->allensdk==2.11.2->mindscope_utilities) (0.10.0)\n",
      "Requirement already satisfied: setuptools in /Users/ahmed/opt/anaconda3/lib/python3.8/site-packages (from glymur==0.8.19->allensdk==2.11.2->mindscope_utilities) (52.0.0.post20210125)\n",
      "Requirement already satisfied: python-dateutil<3.0.0,>=2.1 in /Users/ahmed/opt/anaconda3/lib/python3.8/site-packages (from botocore<1.21.0,>=1.20.21->boto3==1.17.21->allensdk==2.11.2->mindscope_utilities) (2.8.1)\n",
      "Requirement already satisfied: urllib3<1.27,>=1.25.4 in /Users/ahmed/opt/anaconda3/lib/python3.8/site-packages (from botocore<1.21.0,>=1.20.21->boto3==1.17.21->allensdk==2.11.2->mindscope_utilities) (1.26.4)\n",
      "Requirement already satisfied: ruamel.yaml<1,>=0.15 in /Users/ahmed/opt/anaconda3/lib/python3.8/site-packages (from hdmf<2.5.0->allensdk==2.11.2->mindscope_utilities) (0.17.10)\n",
      "Requirement already satisfied: jsonschema<4,>=2.6.0 in /Users/ahmed/opt/anaconda3/lib/python3.8/site-packages (from hdmf<2.5.0->allensdk==2.11.2->mindscope_utilities) (3.2.0)\n",
      "Requirement already satisfied: MarkupSafe>=0.23 in /Users/ahmed/opt/anaconda3/lib/python3.8/site-packages (from jinja2<2.12.0,>=2.7.3->allensdk==2.11.2->mindscope_utilities) (1.1.1)\n",
      "Requirement already satisfied: pyrsistent>=0.14.0 in /Users/ahmed/opt/anaconda3/lib/python3.8/site-packages (from jsonschema<4,>=2.6.0->hdmf<2.5.0->allensdk==2.11.2->mindscope_utilities) (0.17.3)\n",
      "Requirement already satisfied: pyparsing!=2.0.4,!=2.1.2,!=2.1.6,>=2.0.3 in /Users/ahmed/opt/anaconda3/lib/python3.8/site-packages (from matplotlib<4.0.0,>=1.4.3->allensdk==2.11.2->mindscope_utilities) (2.4.7)\n",
      "Requirement already satisfied: cycler>=0.10 in /Users/ahmed/opt/anaconda3/lib/python3.8/site-packages (from matplotlib<4.0.0,>=1.4.3->allensdk==2.11.2->mindscope_utilities) (0.10.0)\n",
      "Requirement already satisfied: pillow>=6.2.0 in /Users/ahmed/opt/anaconda3/lib/python3.8/site-packages (from matplotlib<4.0.0,>=1.4.3->allensdk==2.11.2->mindscope_utilities) (8.2.0)\n",
      "Requirement already satisfied: kiwisolver>=1.0.1 in /Users/ahmed/opt/anaconda3/lib/python3.8/site-packages (from matplotlib<4.0.0,>=1.4.3->allensdk==2.11.2->mindscope_utilities) (1.3.1)\n"
     ]
    },
    {
     "name": "stdout",
     "output_type": "stream",
     "text": [
      "Requirement already satisfied: pytz>=2017.2 in /Users/ahmed/opt/anaconda3/lib/python3.8/site-packages (from pandas<=0.25.3,>=0.25.1->allensdk==2.11.2->mindscope_utilities) (2021.1)\n",
      "Requirement already satisfied: certifi>=2017.4.17 in /Users/ahmed/opt/anaconda3/lib/python3.8/site-packages (from requests<3.0.0->allensdk==2.11.2->mindscope_utilities) (2020.12.5)\n",
      "Requirement already satisfied: idna<3,>=2.5 in /Users/ahmed/opt/anaconda3/lib/python3.8/site-packages (from requests<3.0.0->allensdk==2.11.2->mindscope_utilities) (2.10)\n",
      "Requirement already satisfied: ruamel.yaml.clib>=0.1.2 in /Users/ahmed/opt/anaconda3/lib/python3.8/site-packages (from ruamel.yaml<1,>=0.15->hdmf<2.5.0->allensdk==2.11.2->mindscope_utilities) (0.2.6)\n",
      "Requirement already satisfied: wheel>=0.29.0 in /Users/ahmed/opt/anaconda3/lib/python3.8/site-packages (from scikit-build<1.0.0->allensdk==2.11.2->mindscope_utilities) (0.36.2)\n",
      "Requirement already satisfied: packaging in /Users/ahmed/opt/anaconda3/lib/python3.8/site-packages (from scikit-build<1.0.0->allensdk==2.11.2->mindscope_utilities) (20.9)\n",
      "Requirement already satisfied: distro in /Users/ahmed/opt/anaconda3/lib/python3.8/site-packages (from scikit-build<1.0.0->allensdk==2.11.2->mindscope_utilities) (1.5.0)\n",
      "Requirement already satisfied: PyWavelets>=0.4.0 in /Users/ahmed/opt/anaconda3/lib/python3.8/site-packages (from scikit-image<0.17.0,>=0.14.0->allensdk==2.11.2->mindscope_utilities) (1.1.1)\n",
      "Requirement already satisfied: networkx>=2.0 in /Users/ahmed/opt/anaconda3/lib/python3.8/site-packages (from scikit-image<0.17.0,>=0.14.0->allensdk==2.11.2->mindscope_utilities) (2.5)\n",
      "Requirement already satisfied: imageio>=2.3.0 in /Users/ahmed/opt/anaconda3/lib/python3.8/site-packages (from scikit-image<0.17.0,>=0.14.0->allensdk==2.11.2->mindscope_utilities) (2.9.0)\n",
      "Requirement already satisfied: decorator>=4.3.0 in /Users/ahmed/opt/anaconda3/lib/python3.8/site-packages (from networkx>=2.0->scikit-image<0.17.0,>=0.14.0->allensdk==2.11.2->mindscope_utilities) (5.0.6)\n",
      "Requirement already satisfied: patsy>=0.5 in /Users/ahmed/opt/anaconda3/lib/python3.8/site-packages (from statsmodels<=0.13.0->allensdk==2.11.2->mindscope_utilities) (0.5.1)\n",
      "Requirement already satisfied: numexpr>=2.6.2 in /Users/ahmed/opt/anaconda3/lib/python3.8/site-packages (from tables<4.0.0,>=3.6.0->allensdk==2.11.2->mindscope_utilities) (2.7.3)\n",
      "Requirement already satisfied: mccabe<0.7.0,>=0.6.0 in /Users/ahmed/opt/anaconda3/lib/python3.8/site-packages (from flake8->mindscope_utilities) (0.6.1)\n",
      "Requirement already satisfied: pyflakes<2.4.0,>=2.3.0 in /Users/ahmed/opt/anaconda3/lib/python3.8/site-packages (from flake8->mindscope_utilities) (2.3.1)\n",
      "Requirement already satisfied: pycodestyle<2.8.0,>=2.7.0 in /Users/ahmed/opt/anaconda3/lib/python3.8/site-packages (from flake8->mindscope_utilities) (2.7.0)\n",
      "Requirement already satisfied: iniconfig in /Users/ahmed/opt/anaconda3/lib/python3.8/site-packages (from pytest->mindscope_utilities) (1.1.1)\n",
      "Requirement already satisfied: pluggy<1.0.0a1,>=0.12 in /Users/ahmed/opt/anaconda3/lib/python3.8/site-packages (from pytest->mindscope_utilities) (0.13.1)\n",
      "Requirement already satisfied: py>=1.8.2 in /Users/ahmed/opt/anaconda3/lib/python3.8/site-packages (from pytest->mindscope_utilities) (1.10.0)\n",
      "Requirement already satisfied: toml in /Users/ahmed/opt/anaconda3/lib/python3.8/site-packages (from pytest->mindscope_utilities) (0.10.2)\n"
     ]
    }
   ],
   "source": [
    "!python -m pip install --upgrade pip\n",
    "!pip install mindscope_utilities --upgrade"
   ]
  },
  {
   "cell_type": "code",
   "execution_count": 15,
   "id": "47936a1a",
   "metadata": {},
   "outputs": [],
   "source": [
    "import os\n",
    "import numpy as np\n",
    "import pandas as pd\n",
    "from tqdm import tqdm\n",
    "import seaborn as sns\n",
    "import matplotlib.pyplot as plt\n",
    "from scipy.misc import electrocardiogram\n",
    "from scipy.signal import find_peaks\n",
    "import numpy as np\n",
    "import collections\n",
    "\n",
    "\n",
    "import mindscope_utilities\n",
    "import mindscope_utilities.visual_behavior_ophys as ophys\n",
    "\n",
    "from allensdk.brain_observatory.behavior.behavior_project_cache import VisualBehaviorOphysProjectCache\n",
    "\n",
    "pd.set_option('display.max_columns', 500)"
   ]
  },
  {
   "cell_type": "markdown",
   "id": "eb391b1e",
   "metadata": {},
   "source": [
    "## Linked list"
   ]
  },
  {
   "cell_type": "code",
   "execution_count": 15,
   "id": "f1a11fb9",
   "metadata": {},
   "outputs": [],
   "source": []
  },
  {
   "cell_type": "code",
   "execution_count": 26,
   "id": "98165627",
   "metadata": {},
   "outputs": [],
   "source": [
    "# A single node of a singly linked list\n",
    "class Node:\n",
    "  # constructor\n",
    "  def __init__(self, data = None, next=None): \n",
    "    self.data = data\n",
    "    self.next = next\n",
    "\n",
    "# A Linked List class with a single head node\n",
    "class LinkedList:\n",
    "  def __init__(self):  \n",
    "    self.head = None\n",
    "  \n",
    "  # insertion method for the linked list\n",
    "  def insert(self, data):\n",
    "    newNode = Node(data)\n",
    "    if(self.head):\n",
    "        newNode.next=self.head\n",
    "        self.head=newNode\n",
    "    else:\n",
    "        self.head = newNode\n",
    "  \n",
    "  # print method for the linked list\n",
    "  def printLL(self):\n",
    "    current = self.head\n",
    "    while(current):\n",
    "      print(current.data)\n",
    "      current = current.next\n",
    "\n",
    "# Singly Linked List with insertion and print methods\n"
   ]
  },
  {
   "cell_type": "code",
   "execution_count": 27,
   "id": "3f58aaca",
   "metadata": {},
   "outputs": [
    {
     "name": "stdout",
     "output_type": "stream",
     "text": [
      "5\n",
      "4\n",
      "3\n"
     ]
    }
   ],
   "source": [
    "LL = LinkedList()\n",
    "LL.insert(3)\n",
    "LL.insert(4)\n",
    "LL.insert(5)\n",
    "\n",
    "\n",
    "current = LL.head\n",
    "while(current):\n",
    "  print(current.data)\n",
    "  current = current.next"
   ]
  },
  {
   "cell_type": "markdown",
   "id": "4cce13bc",
   "metadata": {},
   "source": [
    "# Loading experiment and session table"
   ]
  },
  {
   "cell_type": "code",
   "execution_count": 16,
   "id": "c64ebda4",
   "metadata": {},
   "outputs": [],
   "source": [
    "data_storage_directory = \"temp\" # Note: this path must exist on your local drive\n",
    "cache = VisualBehaviorOphysProjectCache.from_s3_cache(cache_dir=data_storage_directory)"
   ]
  },
  {
   "cell_type": "code",
   "execution_count": 17,
   "id": "16590251",
   "metadata": {},
   "outputs": [],
   "source": [
    "session_table = cache.get_ophys_session_table()\n",
    "experiment_table = cache.get_ophys_experiment_table()"
   ]
  },
  {
   "cell_type": "code",
   "execution_count": 5,
   "id": "8cc6c21c",
   "metadata": {},
   "outputs": [
    {
     "data": {
      "text/html": [
       "<div>\n",
       "<style scoped>\n",
       "    .dataframe tbody tr th:only-of-type {\n",
       "        vertical-align: middle;\n",
       "    }\n",
       "\n",
       "    .dataframe tbody tr th {\n",
       "        vertical-align: top;\n",
       "    }\n",
       "\n",
       "    .dataframe thead th {\n",
       "        text-align: right;\n",
       "    }\n",
       "</style>\n",
       "<table border=\"1\" class=\"dataframe\">\n",
       "  <thead>\n",
       "    <tr style=\"text-align: right;\">\n",
       "      <th></th>\n",
       "      <th>equipment_name</th>\n",
       "      <th>full_genotype</th>\n",
       "      <th>mouse_id</th>\n",
       "      <th>reporter_line</th>\n",
       "      <th>driver_line</th>\n",
       "      <th>sex</th>\n",
       "      <th>age_in_days</th>\n",
       "      <th>cre_line</th>\n",
       "      <th>indicator</th>\n",
       "      <th>session_number</th>\n",
       "      <th>prior_exposures_to_session_type</th>\n",
       "      <th>prior_exposures_to_image_set</th>\n",
       "      <th>prior_exposures_to_omissions</th>\n",
       "      <th>behavior_session_id</th>\n",
       "      <th>ophys_experiment_id</th>\n",
       "      <th>ophys_container_id</th>\n",
       "      <th>project_code</th>\n",
       "      <th>date_of_acquisition</th>\n",
       "      <th>session_type</th>\n",
       "    </tr>\n",
       "    <tr>\n",
       "      <th>ophys_session_id</th>\n",
       "      <th></th>\n",
       "      <th></th>\n",
       "      <th></th>\n",
       "      <th></th>\n",
       "      <th></th>\n",
       "      <th></th>\n",
       "      <th></th>\n",
       "      <th></th>\n",
       "      <th></th>\n",
       "      <th></th>\n",
       "      <th></th>\n",
       "      <th></th>\n",
       "      <th></th>\n",
       "      <th></th>\n",
       "      <th></th>\n",
       "      <th></th>\n",
       "      <th></th>\n",
       "      <th></th>\n",
       "      <th></th>\n",
       "    </tr>\n",
       "  </thead>\n",
       "  <tbody>\n",
       "    <tr>\n",
       "      <th>951410079</th>\n",
       "      <td>MESO.1</td>\n",
       "      <td>Sst-IRES-Cre/wt;Ai148(TIT2L-GC6f-ICL-tTA2)/wt</td>\n",
       "      <td>457841</td>\n",
       "      <td>Ai148(TIT2L-GC6f-ICL-tTA2)</td>\n",
       "      <td>[Sst-IRES-Cre]</td>\n",
       "      <td>F</td>\n",
       "      <td>206.0</td>\n",
       "      <td>Sst-IRES-Cre</td>\n",
       "      <td>GCaMP6f</td>\n",
       "      <td>1.0</td>\n",
       "      <td>0</td>\n",
       "      <td>65.0</td>\n",
       "      <td>0</td>\n",
       "      <td>951520319</td>\n",
       "      <td>[951980471, 951980473, 951980475, 951980479, 9...</td>\n",
       "      <td>[1018028339, 1018028342, 1018028345, 101802835...</td>\n",
       "      <td>VisualBehaviorMultiscope</td>\n",
       "      <td>2019-09-20 09:45:29.897856</td>\n",
       "      <td>OPHYS_1_images_A</td>\n",
       "    </tr>\n",
       "    <tr>\n",
       "      <th>952430817</th>\n",
       "      <td>MESO.1</td>\n",
       "      <td>Sst-IRES-Cre/wt;Ai148(TIT2L-GC6f-ICL-tTA2)/wt</td>\n",
       "      <td>457841</td>\n",
       "      <td>Ai148(TIT2L-GC6f-ICL-tTA2)</td>\n",
       "      <td>[Sst-IRES-Cre]</td>\n",
       "      <td>F</td>\n",
       "      <td>209.0</td>\n",
       "      <td>Sst-IRES-Cre</td>\n",
       "      <td>GCaMP6f</td>\n",
       "      <td>2.0</td>\n",
       "      <td>0</td>\n",
       "      <td>66.0</td>\n",
       "      <td>1</td>\n",
       "      <td>952554548</td>\n",
       "      <td>[953659743, 953659745, 953659749, 953659752]</td>\n",
       "      <td>[1018028339, 1018028345, 1018028354, 1018028357]</td>\n",
       "      <td>VisualBehaviorMultiscope</td>\n",
       "      <td>2019-09-23 08:13:07.627573</td>\n",
       "      <td>OPHYS_2_images_A_passive</td>\n",
       "    </tr>\n",
       "    <tr>\n",
       "      <th>954954402</th>\n",
       "      <td>MESO.1</td>\n",
       "      <td>Sst-IRES-Cre/wt;Ai148(TIT2L-GC6f-ICL-tTA2)/wt</td>\n",
       "      <td>457841</td>\n",
       "      <td>Ai148(TIT2L-GC6f-ICL-tTA2)</td>\n",
       "      <td>[Sst-IRES-Cre]</td>\n",
       "      <td>F</td>\n",
       "      <td>210.0</td>\n",
       "      <td>Sst-IRES-Cre</td>\n",
       "      <td>GCaMP6f</td>\n",
       "      <td>3.0</td>\n",
       "      <td>0</td>\n",
       "      <td>67.0</td>\n",
       "      <td>2</td>\n",
       "      <td>953982960</td>\n",
       "      <td>[958527464, 958527471, 958527474, 958527479, 9...</td>\n",
       "      <td>[1018028339, 1018028342, 1018028345, 101802835...</td>\n",
       "      <td>VisualBehaviorMultiscope</td>\n",
       "      <td>2019-09-24 16:00:00.000000</td>\n",
       "      <td>OPHYS_3_images_A</td>\n",
       "    </tr>\n",
       "    <tr>\n",
       "      <th>955775716</th>\n",
       "      <td>MESO.1</td>\n",
       "      <td>Sst-IRES-Cre/wt;Ai148(TIT2L-GC6f-ICL-tTA2)/wt</td>\n",
       "      <td>457841</td>\n",
       "      <td>Ai148(TIT2L-GC6f-ICL-tTA2)</td>\n",
       "      <td>[Sst-IRES-Cre]</td>\n",
       "      <td>F</td>\n",
       "      <td>212.0</td>\n",
       "      <td>Sst-IRES-Cre</td>\n",
       "      <td>GCaMP6f</td>\n",
       "      <td>3.0</td>\n",
       "      <td>1</td>\n",
       "      <td>68.0</td>\n",
       "      <td>3</td>\n",
       "      <td>956010809</td>\n",
       "      <td>[956941841, 956941844, 956941846]</td>\n",
       "      <td>[1018028339, 1018028342, 1018028345]</td>\n",
       "      <td>VisualBehaviorMultiscope</td>\n",
       "      <td>2019-09-26 08:44:37.199778</td>\n",
       "      <td>OPHYS_3_images_A</td>\n",
       "    </tr>\n",
       "    <tr>\n",
       "      <th>957020350</th>\n",
       "      <td>MESO.1</td>\n",
       "      <td>Sst-IRES-Cre/wt;Ai148(TIT2L-GC6f-ICL-tTA2)/wt</td>\n",
       "      <td>457841</td>\n",
       "      <td>Ai148(TIT2L-GC6f-ICL-tTA2)</td>\n",
       "      <td>[Sst-IRES-Cre]</td>\n",
       "      <td>F</td>\n",
       "      <td>213.0</td>\n",
       "      <td>Sst-IRES-Cre</td>\n",
       "      <td>GCaMP6f</td>\n",
       "      <td>4.0</td>\n",
       "      <td>0</td>\n",
       "      <td>0.0</td>\n",
       "      <td>4</td>\n",
       "      <td>957032492</td>\n",
       "      <td>[957759562, 957759564, 957759566, 957759570, 9...</td>\n",
       "      <td>[1018028339, 1018028342, 1018028345, 101802835...</td>\n",
       "      <td>VisualBehaviorMultiscope</td>\n",
       "      <td>2019-09-27 08:28:05.415005</td>\n",
       "      <td>OPHYS_4_images_B</td>\n",
       "    </tr>\n",
       "  </tbody>\n",
       "</table>\n",
       "</div>"
      ],
      "text/plain": [
       "                 equipment_name  \\\n",
       "ophys_session_id                  \n",
       "951410079                MESO.1   \n",
       "952430817                MESO.1   \n",
       "954954402                MESO.1   \n",
       "955775716                MESO.1   \n",
       "957020350                MESO.1   \n",
       "\n",
       "                                                  full_genotype  mouse_id  \\\n",
       "ophys_session_id                                                            \n",
       "951410079         Sst-IRES-Cre/wt;Ai148(TIT2L-GC6f-ICL-tTA2)/wt    457841   \n",
       "952430817         Sst-IRES-Cre/wt;Ai148(TIT2L-GC6f-ICL-tTA2)/wt    457841   \n",
       "954954402         Sst-IRES-Cre/wt;Ai148(TIT2L-GC6f-ICL-tTA2)/wt    457841   \n",
       "955775716         Sst-IRES-Cre/wt;Ai148(TIT2L-GC6f-ICL-tTA2)/wt    457841   \n",
       "957020350         Sst-IRES-Cre/wt;Ai148(TIT2L-GC6f-ICL-tTA2)/wt    457841   \n",
       "\n",
       "                               reporter_line     driver_line sex  age_in_days  \\\n",
       "ophys_session_id                                                                \n",
       "951410079         Ai148(TIT2L-GC6f-ICL-tTA2)  [Sst-IRES-Cre]   F        206.0   \n",
       "952430817         Ai148(TIT2L-GC6f-ICL-tTA2)  [Sst-IRES-Cre]   F        209.0   \n",
       "954954402         Ai148(TIT2L-GC6f-ICL-tTA2)  [Sst-IRES-Cre]   F        210.0   \n",
       "955775716         Ai148(TIT2L-GC6f-ICL-tTA2)  [Sst-IRES-Cre]   F        212.0   \n",
       "957020350         Ai148(TIT2L-GC6f-ICL-tTA2)  [Sst-IRES-Cre]   F        213.0   \n",
       "\n",
       "                      cre_line indicator  session_number  \\\n",
       "ophys_session_id                                           \n",
       "951410079         Sst-IRES-Cre   GCaMP6f             1.0   \n",
       "952430817         Sst-IRES-Cre   GCaMP6f             2.0   \n",
       "954954402         Sst-IRES-Cre   GCaMP6f             3.0   \n",
       "955775716         Sst-IRES-Cre   GCaMP6f             3.0   \n",
       "957020350         Sst-IRES-Cre   GCaMP6f             4.0   \n",
       "\n",
       "                  prior_exposures_to_session_type  \\\n",
       "ophys_session_id                                    \n",
       "951410079                                       0   \n",
       "952430817                                       0   \n",
       "954954402                                       0   \n",
       "955775716                                       1   \n",
       "957020350                                       0   \n",
       "\n",
       "                  prior_exposures_to_image_set  prior_exposures_to_omissions  \\\n",
       "ophys_session_id                                                               \n",
       "951410079                                 65.0                             0   \n",
       "952430817                                 66.0                             1   \n",
       "954954402                                 67.0                             2   \n",
       "955775716                                 68.0                             3   \n",
       "957020350                                  0.0                             4   \n",
       "\n",
       "                  behavior_session_id  \\\n",
       "ophys_session_id                        \n",
       "951410079                   951520319   \n",
       "952430817                   952554548   \n",
       "954954402                   953982960   \n",
       "955775716                   956010809   \n",
       "957020350                   957032492   \n",
       "\n",
       "                                                ophys_experiment_id  \\\n",
       "ophys_session_id                                                      \n",
       "951410079         [951980471, 951980473, 951980475, 951980479, 9...   \n",
       "952430817              [953659743, 953659745, 953659749, 953659752]   \n",
       "954954402         [958527464, 958527471, 958527474, 958527479, 9...   \n",
       "955775716                         [956941841, 956941844, 956941846]   \n",
       "957020350         [957759562, 957759564, 957759566, 957759570, 9...   \n",
       "\n",
       "                                                 ophys_container_id  \\\n",
       "ophys_session_id                                                      \n",
       "951410079         [1018028339, 1018028342, 1018028345, 101802835...   \n",
       "952430817          [1018028339, 1018028345, 1018028354, 1018028357]   \n",
       "954954402         [1018028339, 1018028342, 1018028345, 101802835...   \n",
       "955775716                      [1018028339, 1018028342, 1018028345]   \n",
       "957020350         [1018028339, 1018028342, 1018028345, 101802835...   \n",
       "\n",
       "                              project_code         date_of_acquisition  \\\n",
       "ophys_session_id                                                         \n",
       "951410079         VisualBehaviorMultiscope  2019-09-20 09:45:29.897856   \n",
       "952430817         VisualBehaviorMultiscope  2019-09-23 08:13:07.627573   \n",
       "954954402         VisualBehaviorMultiscope  2019-09-24 16:00:00.000000   \n",
       "955775716         VisualBehaviorMultiscope  2019-09-26 08:44:37.199778   \n",
       "957020350         VisualBehaviorMultiscope  2019-09-27 08:28:05.415005   \n",
       "\n",
       "                              session_type  \n",
       "ophys_session_id                            \n",
       "951410079                 OPHYS_1_images_A  \n",
       "952430817         OPHYS_2_images_A_passive  \n",
       "954954402                 OPHYS_3_images_A  \n",
       "955775716                 OPHYS_3_images_A  \n",
       "957020350                 OPHYS_4_images_B  "
      ]
     },
     "execution_count": 5,
     "metadata": {},
     "output_type": "execute_result"
    }
   ],
   "source": [
    "session_table.head()"
   ]
  },
  {
   "cell_type": "code",
   "execution_count": 5,
   "id": "94dbb8a4",
   "metadata": {},
   "outputs": [
    {
     "data": {
      "text/html": [
       "<div>\n",
       "<style scoped>\n",
       "    .dataframe tbody tr th:only-of-type {\n",
       "        vertical-align: middle;\n",
       "    }\n",
       "\n",
       "    .dataframe tbody tr th {\n",
       "        vertical-align: top;\n",
       "    }\n",
       "\n",
       "    .dataframe thead th {\n",
       "        text-align: right;\n",
       "    }\n",
       "</style>\n",
       "<table border=\"1\" class=\"dataframe\">\n",
       "  <thead>\n",
       "    <tr style=\"text-align: right;\">\n",
       "      <th></th>\n",
       "      <th>equipment_name</th>\n",
       "      <th>full_genotype</th>\n",
       "      <th>mouse_id</th>\n",
       "      <th>reporter_line</th>\n",
       "      <th>driver_line</th>\n",
       "      <th>sex</th>\n",
       "      <th>age_in_days</th>\n",
       "      <th>cre_line</th>\n",
       "      <th>indicator</th>\n",
       "      <th>session_number</th>\n",
       "      <th>prior_exposures_to_session_type</th>\n",
       "      <th>prior_exposures_to_image_set</th>\n",
       "      <th>prior_exposures_to_omissions</th>\n",
       "      <th>ophys_session_id</th>\n",
       "      <th>behavior_session_id</th>\n",
       "      <th>ophys_container_id</th>\n",
       "      <th>project_code</th>\n",
       "      <th>imaging_depth</th>\n",
       "      <th>targeted_structure</th>\n",
       "      <th>date_of_acquisition</th>\n",
       "      <th>session_type</th>\n",
       "      <th>file_id</th>\n",
       "    </tr>\n",
       "    <tr>\n",
       "      <th>ophys_experiment_id</th>\n",
       "      <th></th>\n",
       "      <th></th>\n",
       "      <th></th>\n",
       "      <th></th>\n",
       "      <th></th>\n",
       "      <th></th>\n",
       "      <th></th>\n",
       "      <th></th>\n",
       "      <th></th>\n",
       "      <th></th>\n",
       "      <th></th>\n",
       "      <th></th>\n",
       "      <th></th>\n",
       "      <th></th>\n",
       "      <th></th>\n",
       "      <th></th>\n",
       "      <th></th>\n",
       "      <th></th>\n",
       "      <th></th>\n",
       "      <th></th>\n",
       "      <th></th>\n",
       "      <th></th>\n",
       "    </tr>\n",
       "  </thead>\n",
       "  <tbody>\n",
       "    <tr>\n",
       "      <th>951980471</th>\n",
       "      <td>MESO.1</td>\n",
       "      <td>Sst-IRES-Cre/wt;Ai148(TIT2L-GC6f-ICL-tTA2)/wt</td>\n",
       "      <td>457841</td>\n",
       "      <td>Ai148(TIT2L-GC6f-ICL-tTA2)</td>\n",
       "      <td>[Sst-IRES-Cre]</td>\n",
       "      <td>F</td>\n",
       "      <td>206.0</td>\n",
       "      <td>Sst-IRES-Cre</td>\n",
       "      <td>GCaMP6f</td>\n",
       "      <td>1.0</td>\n",
       "      <td>0</td>\n",
       "      <td>65.0</td>\n",
       "      <td>0</td>\n",
       "      <td>951410079</td>\n",
       "      <td>951520319</td>\n",
       "      <td>1018028342</td>\n",
       "      <td>VisualBehaviorMultiscope</td>\n",
       "      <td>150</td>\n",
       "      <td>VISp</td>\n",
       "      <td>2019-09-20 09:45:29.897856</td>\n",
       "      <td>OPHYS_1_images_A</td>\n",
       "      <td>1085394308</td>\n",
       "    </tr>\n",
       "    <tr>\n",
       "      <th>951980484</th>\n",
       "      <td>MESO.1</td>\n",
       "      <td>Sst-IRES-Cre/wt;Ai148(TIT2L-GC6f-ICL-tTA2)/wt</td>\n",
       "      <td>457841</td>\n",
       "      <td>Ai148(TIT2L-GC6f-ICL-tTA2)</td>\n",
       "      <td>[Sst-IRES-Cre]</td>\n",
       "      <td>F</td>\n",
       "      <td>206.0</td>\n",
       "      <td>Sst-IRES-Cre</td>\n",
       "      <td>GCaMP6f</td>\n",
       "      <td>1.0</td>\n",
       "      <td>0</td>\n",
       "      <td>65.0</td>\n",
       "      <td>0</td>\n",
       "      <td>951410079</td>\n",
       "      <td>951520319</td>\n",
       "      <td>1018028351</td>\n",
       "      <td>VisualBehaviorMultiscope</td>\n",
       "      <td>75</td>\n",
       "      <td>VISl</td>\n",
       "      <td>2019-09-20 09:45:29.897856</td>\n",
       "      <td>OPHYS_1_images_A</td>\n",
       "      <td>1085400876</td>\n",
       "    </tr>\n",
       "    <tr>\n",
       "      <th>951980473</th>\n",
       "      <td>MESO.1</td>\n",
       "      <td>Sst-IRES-Cre/wt;Ai148(TIT2L-GC6f-ICL-tTA2)/wt</td>\n",
       "      <td>457841</td>\n",
       "      <td>Ai148(TIT2L-GC6f-ICL-tTA2)</td>\n",
       "      <td>[Sst-IRES-Cre]</td>\n",
       "      <td>F</td>\n",
       "      <td>206.0</td>\n",
       "      <td>Sst-IRES-Cre</td>\n",
       "      <td>GCaMP6f</td>\n",
       "      <td>1.0</td>\n",
       "      <td>0</td>\n",
       "      <td>65.0</td>\n",
       "      <td>0</td>\n",
       "      <td>951410079</td>\n",
       "      <td>951520319</td>\n",
       "      <td>1018028345</td>\n",
       "      <td>VisualBehaviorMultiscope</td>\n",
       "      <td>225</td>\n",
       "      <td>VISp</td>\n",
       "      <td>2019-09-20 09:45:29.897856</td>\n",
       "      <td>OPHYS_1_images_A</td>\n",
       "      <td>1085400919</td>\n",
       "    </tr>\n",
       "    <tr>\n",
       "      <th>951980479</th>\n",
       "      <td>MESO.1</td>\n",
       "      <td>Sst-IRES-Cre/wt;Ai148(TIT2L-GC6f-ICL-tTA2)/wt</td>\n",
       "      <td>457841</td>\n",
       "      <td>Ai148(TIT2L-GC6f-ICL-tTA2)</td>\n",
       "      <td>[Sst-IRES-Cre]</td>\n",
       "      <td>F</td>\n",
       "      <td>206.0</td>\n",
       "      <td>Sst-IRES-Cre</td>\n",
       "      <td>GCaMP6f</td>\n",
       "      <td>1.0</td>\n",
       "      <td>0</td>\n",
       "      <td>65.0</td>\n",
       "      <td>0</td>\n",
       "      <td>951410079</td>\n",
       "      <td>951520319</td>\n",
       "      <td>1018028354</td>\n",
       "      <td>VisualBehaviorMultiscope</td>\n",
       "      <td>150</td>\n",
       "      <td>VISl</td>\n",
       "      <td>2019-09-20 09:45:29.897856</td>\n",
       "      <td>OPHYS_1_images_A</td>\n",
       "      <td>1085400977</td>\n",
       "    </tr>\n",
       "    <tr>\n",
       "      <th>951980475</th>\n",
       "      <td>MESO.1</td>\n",
       "      <td>Sst-IRES-Cre/wt;Ai148(TIT2L-GC6f-ICL-tTA2)/wt</td>\n",
       "      <td>457841</td>\n",
       "      <td>Ai148(TIT2L-GC6f-ICL-tTA2)</td>\n",
       "      <td>[Sst-IRES-Cre]</td>\n",
       "      <td>F</td>\n",
       "      <td>206.0</td>\n",
       "      <td>Sst-IRES-Cre</td>\n",
       "      <td>GCaMP6f</td>\n",
       "      <td>1.0</td>\n",
       "      <td>0</td>\n",
       "      <td>65.0</td>\n",
       "      <td>0</td>\n",
       "      <td>951410079</td>\n",
       "      <td>951520319</td>\n",
       "      <td>1018028339</td>\n",
       "      <td>VisualBehaviorMultiscope</td>\n",
       "      <td>75</td>\n",
       "      <td>VISp</td>\n",
       "      <td>2019-09-20 09:45:29.897856</td>\n",
       "      <td>OPHYS_1_images_A</td>\n",
       "      <td>1085400920</td>\n",
       "    </tr>\n",
       "  </tbody>\n",
       "</table>\n",
       "</div>"
      ],
      "text/plain": [
       "                    equipment_name  \\\n",
       "ophys_experiment_id                  \n",
       "951980471                   MESO.1   \n",
       "951980484                   MESO.1   \n",
       "951980473                   MESO.1   \n",
       "951980479                   MESO.1   \n",
       "951980475                   MESO.1   \n",
       "\n",
       "                                                     full_genotype  mouse_id  \\\n",
       "ophys_experiment_id                                                            \n",
       "951980471            Sst-IRES-Cre/wt;Ai148(TIT2L-GC6f-ICL-tTA2)/wt    457841   \n",
       "951980484            Sst-IRES-Cre/wt;Ai148(TIT2L-GC6f-ICL-tTA2)/wt    457841   \n",
       "951980473            Sst-IRES-Cre/wt;Ai148(TIT2L-GC6f-ICL-tTA2)/wt    457841   \n",
       "951980479            Sst-IRES-Cre/wt;Ai148(TIT2L-GC6f-ICL-tTA2)/wt    457841   \n",
       "951980475            Sst-IRES-Cre/wt;Ai148(TIT2L-GC6f-ICL-tTA2)/wt    457841   \n",
       "\n",
       "                                  reporter_line     driver_line sex  \\\n",
       "ophys_experiment_id                                                   \n",
       "951980471            Ai148(TIT2L-GC6f-ICL-tTA2)  [Sst-IRES-Cre]   F   \n",
       "951980484            Ai148(TIT2L-GC6f-ICL-tTA2)  [Sst-IRES-Cre]   F   \n",
       "951980473            Ai148(TIT2L-GC6f-ICL-tTA2)  [Sst-IRES-Cre]   F   \n",
       "951980479            Ai148(TIT2L-GC6f-ICL-tTA2)  [Sst-IRES-Cre]   F   \n",
       "951980475            Ai148(TIT2L-GC6f-ICL-tTA2)  [Sst-IRES-Cre]   F   \n",
       "\n",
       "                     age_in_days      cre_line indicator  session_number  \\\n",
       "ophys_experiment_id                                                        \n",
       "951980471                  206.0  Sst-IRES-Cre   GCaMP6f             1.0   \n",
       "951980484                  206.0  Sst-IRES-Cre   GCaMP6f             1.0   \n",
       "951980473                  206.0  Sst-IRES-Cre   GCaMP6f             1.0   \n",
       "951980479                  206.0  Sst-IRES-Cre   GCaMP6f             1.0   \n",
       "951980475                  206.0  Sst-IRES-Cre   GCaMP6f             1.0   \n",
       "\n",
       "                     prior_exposures_to_session_type  \\\n",
       "ophys_experiment_id                                    \n",
       "951980471                                          0   \n",
       "951980484                                          0   \n",
       "951980473                                          0   \n",
       "951980479                                          0   \n",
       "951980475                                          0   \n",
       "\n",
       "                     prior_exposures_to_image_set  \\\n",
       "ophys_experiment_id                                 \n",
       "951980471                                    65.0   \n",
       "951980484                                    65.0   \n",
       "951980473                                    65.0   \n",
       "951980479                                    65.0   \n",
       "951980475                                    65.0   \n",
       "\n",
       "                     prior_exposures_to_omissions  ophys_session_id  \\\n",
       "ophys_experiment_id                                                   \n",
       "951980471                                       0         951410079   \n",
       "951980484                                       0         951410079   \n",
       "951980473                                       0         951410079   \n",
       "951980479                                       0         951410079   \n",
       "951980475                                       0         951410079   \n",
       "\n",
       "                     behavior_session_id  ophys_container_id  \\\n",
       "ophys_experiment_id                                            \n",
       "951980471                      951520319          1018028342   \n",
       "951980484                      951520319          1018028351   \n",
       "951980473                      951520319          1018028345   \n",
       "951980479                      951520319          1018028354   \n",
       "951980475                      951520319          1018028339   \n",
       "\n",
       "                                 project_code  imaging_depth  \\\n",
       "ophys_experiment_id                                            \n",
       "951980471            VisualBehaviorMultiscope            150   \n",
       "951980484            VisualBehaviorMultiscope             75   \n",
       "951980473            VisualBehaviorMultiscope            225   \n",
       "951980479            VisualBehaviorMultiscope            150   \n",
       "951980475            VisualBehaviorMultiscope             75   \n",
       "\n",
       "                    targeted_structure         date_of_acquisition  \\\n",
       "ophys_experiment_id                                                  \n",
       "951980471                         VISp  2019-09-20 09:45:29.897856   \n",
       "951980484                         VISl  2019-09-20 09:45:29.897856   \n",
       "951980473                         VISp  2019-09-20 09:45:29.897856   \n",
       "951980479                         VISl  2019-09-20 09:45:29.897856   \n",
       "951980475                         VISp  2019-09-20 09:45:29.897856   \n",
       "\n",
       "                         session_type     file_id  \n",
       "ophys_experiment_id                                \n",
       "951980471            OPHYS_1_images_A  1085394308  \n",
       "951980484            OPHYS_1_images_A  1085400876  \n",
       "951980473            OPHYS_1_images_A  1085400919  \n",
       "951980479            OPHYS_1_images_A  1085400977  \n",
       "951980475            OPHYS_1_images_A  1085400920  "
      ]
     },
     "execution_count": 5,
     "metadata": {},
     "output_type": "execute_result"
    }
   ],
   "source": [
    "experiment_table.head()"
   ]
  },
  {
   "cell_type": "markdown",
   "id": "488ceb8d",
   "metadata": {},
   "source": [
    "# Downloading certain sesssions"
   ]
  },
  {
   "cell_type": "markdown",
   "id": "9a8af580",
   "metadata": {},
   "source": [
    "getting sample session from different familiarity levels"
   ]
  },
  {
   "cell_type": "code",
   "execution_count": 18,
   "id": "c349de3a",
   "metadata": {},
   "outputs": [],
   "source": [
    "x1=np.array([0,1])\n",
    "x2=np.arange(2,65,2)\n",
    "x3=np.concatenate((x1,x2))\n",
    "fam_groups=np.array(x3)\n",
    "\n"
   ]
  },
  {
   "cell_type": "code",
   "execution_count": 19,
   "id": "126fd674",
   "metadata": {},
   "outputs": [],
   "source": [
    "downloadable_sesssions=[]\n",
    "for fam_lvl in np.arange(0,65,2):\n",
    "    for x in experiment_table[((experiment_table['prior_exposures_to_image_set']==fam_lvl)&(experiment_table['full_genotype'].str.contains('Vip'))) ]['ophys_session_id'][0:2]:\n",
    "         downloadable_sesssions.append(x)"
   ]
  },
  {
   "cell_type": "code",
   "execution_count": 20,
   "id": "452414e8",
   "metadata": {},
   "outputs": [],
   "source": [
    "experiments = {}\n",
    "for tmp_ophys_session_id in downloadable_sesssions:\n",
    "    ophys_experiment_ids = session_table.loc[tmp_ophys_session_id]['ophys_experiment_id']\n",
    "    for ophys_experiment_id in ophys_experiment_ids:\n",
    "        experiments[ophys_experiment_id] = cache.get_behavior_ophys_experiment(ophys_experiment_id)\n"
   ]
  },
  {
   "cell_type": "code",
   "execution_count": null,
   "id": "649d6bef",
   "metadata": {
    "scrolled": true
   },
   "outputs": [],
   "source": [
    "for s in downloadable_sesssions:\n",
    "    print(experiment_table[experiment_table['ophys_session_id']==s].index.values)\n",
    "    print(experiment_table[experiment_table['ophys_session_id']==s]['prior_exposures_to_image_set'].unique())    \n",
    "    print(\"#######\")"
   ]
  },
  {
   "cell_type": "code",
   "execution_count": 21,
   "id": "8e97b252",
   "metadata": {
    "scrolled": true
   },
   "outputs": [
    {
     "name": "stderr",
     "output_type": "stream",
     "text": [
      "\r",
      "  0%|          | 0/86 [00:00<?, ?it/s]"
     ]
    },
    {
     "name": "stdout",
     "output_type": "stream",
     "text": [
      "795953296\n"
     ]
    },
    {
     "name": "stderr",
     "output_type": "stream",
     "text": [
      "\r",
      "  1%|          | 1/86 [00:09<13:54,  9.82s/it]"
     ]
    },
    {
     "name": "stdout",
     "output_type": "stream",
     "text": [
      "830093338\n"
     ]
    },
    {
     "name": "stderr",
     "output_type": "stream",
     "text": [
      "\r",
      "  2%|▏         | 2/86 [00:39<30:03, 21.47s/it]"
     ]
    },
    {
     "name": "stdout",
     "output_type": "stream",
     "text": [
      "796308505\n"
     ]
    },
    {
     "name": "stderr",
     "output_type": "stream",
     "text": [
      "\r",
      "  3%|▎         | 3/86 [00:51<23:41, 17.12s/it]"
     ]
    },
    {
     "name": "stdout",
     "output_type": "stream",
     "text": [
      "938001540\n"
     ]
    },
    {
     "name": "stderr",
     "output_type": "stream",
     "text": [
      "\r",
      "  5%|▍         | 4/86 [00:57<17:40, 12.93s/it]"
     ]
    },
    {
     "name": "stdout",
     "output_type": "stream",
     "text": [
      "833631914\n"
     ]
    },
    {
     "name": "stderr",
     "output_type": "stream",
     "text": [
      "\r",
      "  6%|▌         | 5/86 [01:06<15:20, 11.36s/it]"
     ]
    },
    {
     "name": "stdout",
     "output_type": "stream",
     "text": [
      "940354181\n"
     ]
    },
    {
     "name": "stderr",
     "output_type": "stream",
     "text": [
      "\r",
      "  7%|▋         | 6/86 [01:13<13:04,  9.81s/it]"
     ]
    },
    {
     "name": "stdout",
     "output_type": "stream",
     "text": [
      "1071070929\n"
     ]
    },
    {
     "name": "stderr",
     "output_type": "stream",
     "text": [
      "\r",
      "  8%|▊         | 7/86 [01:20<11:54,  9.04s/it]"
     ]
    },
    {
     "name": "stdout",
     "output_type": "stream",
     "text": [
      "1056171522\n"
     ]
    },
    {
     "name": "stderr",
     "output_type": "stream",
     "text": [
      "\r",
      "  9%|▉         | 8/86 [01:27<10:39,  8.20s/it]"
     ]
    },
    {
     "name": "stdout",
     "output_type": "stream",
     "text": [
      "1056171531\n"
     ]
    },
    {
     "name": "stderr",
     "output_type": "stream",
     "text": [
      "\r",
      " 10%|█         | 9/86 [01:34<10:16,  8.01s/it]"
     ]
    },
    {
     "name": "stdout",
     "output_type": "stream",
     "text": [
      "1065523118\n"
     ]
    },
    {
     "name": "stderr",
     "output_type": "stream",
     "text": [
      "\r",
      " 12%|█▏        | 10/86 [01:45<11:14,  8.87s/it]"
     ]
    },
    {
     "name": "stdout",
     "output_type": "stream",
     "text": [
      "992868972\n"
     ]
    },
    {
     "name": "stderr",
     "output_type": "stream",
     "text": [
      "\r",
      " 13%|█▎        | 11/86 [01:52<10:31,  8.42s/it]"
     ]
    },
    {
     "name": "stdout",
     "output_type": "stream",
     "text": [
      "993590480\n",
      "993590480 : OUT\n",
      "1065966776\n"
     ]
    },
    {
     "name": "stderr",
     "output_type": "stream",
     "text": [
      "\r",
      " 15%|█▌        | 13/86 [02:02<08:15,  6.79s/it]"
     ]
    },
    {
     "name": "stdout",
     "output_type": "stream",
     "text": [
      "1003444808\n"
     ]
    },
    {
     "name": "stderr",
     "output_type": "stream",
     "text": [
      "\r",
      " 16%|█▋        | 14/86 [02:13<09:17,  7.74s/it]"
     ]
    },
    {
     "name": "stdout",
     "output_type": "stream",
     "text": [
      "1067133170\n"
     ]
    },
    {
     "name": "stderr",
     "output_type": "stream",
     "text": [
      "\r",
      " 17%|█▋        | 15/86 [02:21<09:23,  7.94s/it]"
     ]
    },
    {
     "name": "stdout",
     "output_type": "stream",
     "text": [
      "1004136916\n"
     ]
    },
    {
     "name": "stderr",
     "output_type": "stream",
     "text": [
      "\r",
      " 19%|█▊        | 16/86 [02:33<10:35,  9.08s/it]"
     ]
    },
    {
     "name": "stdout",
     "output_type": "stream",
     "text": [
      "836911939\n"
     ]
    },
    {
     "name": "stderr",
     "output_type": "stream",
     "text": [
      "\r",
      " 20%|█▉        | 17/86 [02:44<10:51,  9.44s/it]"
     ]
    },
    {
     "name": "stdout",
     "output_type": "stream",
     "text": [
      "1004889552\n"
     ]
    },
    {
     "name": "stderr",
     "output_type": "stream",
     "text": [
      "\r",
      " 21%|██        | 18/86 [02:52<10:10,  8.97s/it]"
     ]
    },
    {
     "name": "stdout",
     "output_type": "stream",
     "text": [
      "945473009\n"
     ]
    },
    {
     "name": "stderr",
     "output_type": "stream",
     "text": [
      "\r",
      " 22%|██▏       | 19/86 [03:01<10:05,  9.03s/it]"
     ]
    },
    {
     "name": "stdout",
     "output_type": "stream",
     "text": [
      "847267616\n"
     ]
    },
    {
     "name": "stderr",
     "output_type": "stream",
     "text": [
      "\r",
      " 23%|██▎       | 20/86 [03:11<10:11,  9.27s/it]"
     ]
    },
    {
     "name": "stdout",
     "output_type": "stream",
     "text": [
      "847267622\n"
     ]
    },
    {
     "name": "stderr",
     "output_type": "stream",
     "text": [
      "\r",
      " 24%|██▍       | 21/86 [03:17<09:01,  8.34s/it]"
     ]
    },
    {
     "name": "stdout",
     "output_type": "stream",
     "text": [
      "847267624\n"
     ]
    },
    {
     "name": "stderr",
     "output_type": "stream",
     "text": [
      "\r",
      " 26%|██▌       | 22/86 [03:27<09:34,  8.98s/it]"
     ]
    },
    {
     "name": "stdout",
     "output_type": "stream",
     "text": [
      "847267626\n"
     ]
    },
    {
     "name": "stderr",
     "output_type": "stream",
     "text": [
      "\r",
      " 27%|██▋       | 23/86 [03:37<09:40,  9.22s/it]"
     ]
    },
    {
     "name": "stdout",
     "output_type": "stream",
     "text": [
      "847267628\n"
     ]
    },
    {
     "name": "stderr",
     "output_type": "stream",
     "text": [
      "\r",
      " 28%|██▊       | 24/86 [03:42<08:09,  7.90s/it]"
     ]
    },
    {
     "name": "stdout",
     "output_type": "stream",
     "text": [
      "847267630\n"
     ]
    },
    {
     "name": "stderr",
     "output_type": "stream",
     "text": [
      "\r",
      " 29%|██▉       | 25/86 [03:52<08:40,  8.53s/it]"
     ]
    },
    {
     "name": "stdout",
     "output_type": "stream",
     "text": [
      "798404219\n"
     ]
    },
    {
     "name": "stderr",
     "output_type": "stream",
     "text": [
      "\r",
      " 30%|███       | 26/86 [04:00<08:19,  8.33s/it]"
     ]
    },
    {
     "name": "stdout",
     "output_type": "stream",
     "text": [
      "948507789\n"
     ]
    },
    {
     "name": "stderr",
     "output_type": "stream",
     "text": [
      "\r",
      " 31%|███▏      | 27/86 [04:09<08:34,  8.73s/it]"
     ]
    },
    {
     "name": "stdout",
     "output_type": "stream",
     "text": [
      "960953590\n"
     ]
    },
    {
     "name": "stderr",
     "output_type": "stream",
     "text": [
      "\r",
      " 33%|███▎      | 28/86 [04:21<09:21,  9.68s/it]"
     ]
    },
    {
     "name": "stdout",
     "output_type": "stream",
     "text": [
      "932331541\n"
     ]
    },
    {
     "name": "stderr",
     "output_type": "stream",
     "text": [
      "\r",
      " 34%|███▎      | 29/86 [04:32<09:26,  9.94s/it]"
     ]
    },
    {
     "name": "stdout",
     "output_type": "stream",
     "text": [
      "962473308\n"
     ]
    },
    {
     "name": "stderr",
     "output_type": "stream",
     "text": [
      "\r",
      " 35%|███▍      | 30/86 [04:38<08:19,  8.93s/it]"
     ]
    },
    {
     "name": "stdout",
     "output_type": "stream",
     "text": [
      "934476801\n"
     ]
    },
    {
     "name": "stderr",
     "output_type": "stream",
     "text": [
      "\r",
      " 36%|███▌      | 31/86 [04:50<08:56,  9.75s/it]"
     ]
    },
    {
     "name": "stdout",
     "output_type": "stream",
     "text": [
      "942596349\n"
     ]
    },
    {
     "name": "stderr",
     "output_type": "stream",
     "text": [
      "\r",
      " 37%|███▋      | 32/86 [04:56<07:47,  8.66s/it]"
     ]
    },
    {
     "name": "stdout",
     "output_type": "stream",
     "text": [
      "942596353\n"
     ]
    },
    {
     "name": "stderr",
     "output_type": "stream",
     "text": [
      "\r",
      " 38%|███▊      | 33/86 [05:07<08:06,  9.19s/it]"
     ]
    },
    {
     "name": "stdout",
     "output_type": "stream",
     "text": [
      "942596355\n"
     ]
    },
    {
     "name": "stderr",
     "output_type": "stream",
     "text": [
      "\r",
      " 40%|███▉      | 34/86 [05:18<08:32,  9.85s/it]"
     ]
    },
    {
     "name": "stdout",
     "output_type": "stream",
     "text": [
      "942596357\n"
     ]
    },
    {
     "name": "stderr",
     "output_type": "stream",
     "text": [
      "\r",
      " 41%|████      | 35/86 [05:25<07:36,  8.95s/it]"
     ]
    },
    {
     "name": "stdout",
     "output_type": "stream",
     "text": [
      "942596359\n"
     ]
    },
    {
     "name": "stderr",
     "output_type": "stream",
     "text": [
      "\r",
      " 42%|████▏     | 36/86 [05:36<08:03,  9.68s/it]"
     ]
    },
    {
     "name": "stdout",
     "output_type": "stream",
     "text": [
      "942596361\n"
     ]
    },
    {
     "name": "stderr",
     "output_type": "stream",
     "text": [
      "\r",
      " 43%|████▎     | 37/86 [05:46<07:58,  9.77s/it]"
     ]
    },
    {
     "name": "stdout",
     "output_type": "stream",
     "text": [
      "942596363\n"
     ]
    },
    {
     "name": "stderr",
     "output_type": "stream",
     "text": [
      "\r",
      " 44%|████▍     | 38/86 [05:51<06:38,  8.30s/it]"
     ]
    },
    {
     "name": "stdout",
     "output_type": "stream",
     "text": [
      "1052412559\n"
     ]
    },
    {
     "name": "stderr",
     "output_type": "stream",
     "text": [
      "\r",
      " 45%|████▌     | 39/86 [06:00<06:41,  8.55s/it]"
     ]
    },
    {
     "name": "stdout",
     "output_type": "stream",
     "text": [
      "1052412568\n"
     ]
    },
    {
     "name": "stderr",
     "output_type": "stream",
     "text": [
      "\r",
      " 47%|████▋     | 40/86 [06:11<07:10,  9.36s/it]"
     ]
    },
    {
     "name": "stdout",
     "output_type": "stream",
     "text": [
      "881001210\n"
     ]
    },
    {
     "name": "stderr",
     "output_type": "stream",
     "text": [
      "\r",
      " 48%|████▊     | 41/86 [06:17<06:10,  8.22s/it]"
     ]
    },
    {
     "name": "stdout",
     "output_type": "stream",
     "text": [
      "881001212\n"
     ]
    },
    {
     "name": "stderr",
     "output_type": "stream",
     "text": [
      "\r",
      " 49%|████▉     | 42/86 [06:28<06:37,  9.03s/it]"
     ]
    },
    {
     "name": "stdout",
     "output_type": "stream",
     "text": [
      "881001216\n"
     ]
    },
    {
     "name": "stderr",
     "output_type": "stream",
     "text": [
      "\r",
      " 50%|█████     | 43/86 [06:38<06:43,  9.38s/it]"
     ]
    },
    {
     "name": "stdout",
     "output_type": "stream",
     "text": [
      "881001218\n"
     ]
    },
    {
     "name": "stderr",
     "output_type": "stream",
     "text": [
      "\r",
      " 51%|█████     | 44/86 [06:46<06:19,  9.04s/it]"
     ]
    },
    {
     "name": "stdout",
     "output_type": "stream",
     "text": [
      "882551933\n"
     ]
    },
    {
     "name": "stderr",
     "output_type": "stream",
     "text": [
      "\r",
      " 52%|█████▏    | 45/86 [06:58<06:36,  9.66s/it]"
     ]
    },
    {
     "name": "stdout",
     "output_type": "stream",
     "text": [
      "882551935\n"
     ]
    },
    {
     "name": "stderr",
     "output_type": "stream",
     "text": [
      "\r",
      " 53%|█████▎    | 46/86 [07:10<06:55, 10.38s/it]"
     ]
    },
    {
     "name": "stdout",
     "output_type": "stream",
     "text": [
      "882551937\n"
     ]
    },
    {
     "name": "stderr",
     "output_type": "stream",
     "text": [
      "\r",
      " 55%|█████▍    | 47/86 [07:14<05:38,  8.68s/it]"
     ]
    },
    {
     "name": "stdout",
     "output_type": "stream",
     "text": [
      "882551939\n"
     ]
    },
    {
     "name": "stderr",
     "output_type": "stream",
     "text": [
      "\r",
      " 56%|█████▌    | 48/86 [07:25<05:54,  9.34s/it]"
     ]
    },
    {
     "name": "stdout",
     "output_type": "stream",
     "text": [
      "882551943\n"
     ]
    },
    {
     "name": "stderr",
     "output_type": "stream",
     "text": [
      "\r",
      " 57%|█████▋    | 49/86 [07:37<06:08,  9.97s/it]"
     ]
    },
    {
     "name": "stdout",
     "output_type": "stream",
     "text": [
      "882551945\n"
     ]
    },
    {
     "name": "stderr",
     "output_type": "stream",
     "text": [
      "\r",
      " 58%|█████▊    | 50/86 [07:44<05:26,  9.07s/it]"
     ]
    },
    {
     "name": "stdout",
     "output_type": "stream",
     "text": [
      "882551947\n"
     ]
    },
    {
     "name": "stderr",
     "output_type": "stream",
     "text": [
      "\r",
      " 59%|█████▉    | 51/86 [07:54<05:32,  9.50s/it]"
     ]
    },
    {
     "name": "stdout",
     "output_type": "stream",
     "text": [
      "882551950\n"
     ]
    },
    {
     "name": "stderr",
     "output_type": "stream",
     "text": [
      "\r",
      " 60%|██████    | 52/86 [08:06<05:45, 10.17s/it]"
     ]
    },
    {
     "name": "stdout",
     "output_type": "stream",
     "text": [
      "916803619\n"
     ]
    },
    {
     "name": "stderr",
     "output_type": "stream",
     "text": [
      "\r",
      " 62%|██████▏   | 53/86 [08:11<04:44,  8.63s/it]"
     ]
    },
    {
     "name": "stdout",
     "output_type": "stream",
     "text": [
      "916803621\n"
     ]
    },
    {
     "name": "stderr",
     "output_type": "stream",
     "text": [
      "\r",
      " 63%|██████▎   | 54/86 [08:21<04:54,  9.21s/it]"
     ]
    },
    {
     "name": "stdout",
     "output_type": "stream",
     "text": [
      "916803626\n"
     ]
    },
    {
     "name": "stderr",
     "output_type": "stream",
     "text": [
      "\r",
      " 64%|██████▍   | 55/86 [08:32<04:57,  9.59s/it]"
     ]
    },
    {
     "name": "stdout",
     "output_type": "stream",
     "text": [
      "967008454\n"
     ]
    },
    {
     "name": "stderr",
     "output_type": "stream",
     "text": [
      "\r",
      " 65%|██████▌   | 56/86 [08:38<04:15,  8.50s/it]"
     ]
    },
    {
     "name": "stdout",
     "output_type": "stream",
     "text": [
      "1049610116\n"
     ]
    },
    {
     "name": "stderr",
     "output_type": "stream",
     "text": [
      "\r",
      " 66%|██████▋   | 57/86 [08:48<04:22,  9.06s/it]"
     ]
    },
    {
     "name": "stdout",
     "output_type": "stream",
     "text": [
      "1049610120\n"
     ]
    },
    {
     "name": "stderr",
     "output_type": "stream",
     "text": [
      "\r",
      " 67%|██████▋   | 58/86 [08:59<04:31,  9.71s/it]"
     ]
    },
    {
     "name": "stdout",
     "output_type": "stream",
     "text": [
      "1049610123\n"
     ]
    },
    {
     "name": "stderr",
     "output_type": "stream",
     "text": [
      "\r",
      " 69%|██████▊   | 59/86 [09:04<03:40,  8.17s/it]"
     ]
    },
    {
     "name": "stdout",
     "output_type": "stream",
     "text": [
      "1049610125\n"
     ]
    },
    {
     "name": "stderr",
     "output_type": "stream",
     "text": [
      "\r",
      " 70%|██████▉   | 60/86 [09:14<03:49,  8.81s/it]"
     ]
    },
    {
     "name": "stdout",
     "output_type": "stream",
     "text": [
      "1049610126\n"
     ]
    },
    {
     "name": "stderr",
     "output_type": "stream",
     "text": [
      "\r",
      " 71%|███████   | 61/86 [09:25<03:53,  9.33s/it]"
     ]
    },
    {
     "name": "stdout",
     "output_type": "stream",
     "text": [
      "1049610129\n"
     ]
    },
    {
     "name": "stderr",
     "output_type": "stream",
     "text": [
      "\r",
      " 72%|███████▏  | 62/86 [09:29<03:09,  7.91s/it]"
     ]
    },
    {
     "name": "stdout",
     "output_type": "stream",
     "text": [
      "920288843\n"
     ]
    },
    {
     "name": "stderr",
     "output_type": "stream",
     "text": [
      "\r",
      " 73%|███████▎  | 63/86 [09:40<03:21,  8.77s/it]"
     ]
    },
    {
     "name": "stdout",
     "output_type": "stream",
     "text": [
      "920288845\n"
     ]
    },
    {
     "name": "stderr",
     "output_type": "stream",
     "text": [
      "\r",
      " 74%|███████▍  | 64/86 [09:45<02:47,  7.63s/it]"
     ]
    },
    {
     "name": "stdout",
     "output_type": "stream",
     "text": [
      "920288849\n"
     ]
    },
    {
     "name": "stderr",
     "output_type": "stream",
     "text": [
      "\r",
      " 76%|███████▌  | 65/86 [09:56<03:02,  8.69s/it]"
     ]
    },
    {
     "name": "stdout",
     "output_type": "stream",
     "text": [
      "920288851\n"
     ]
    },
    {
     "name": "stderr",
     "output_type": "stream",
     "text": [
      "\r",
      " 77%|███████▋  | 66/86 [10:07<03:06,  9.32s/it]"
     ]
    },
    {
     "name": "stdout",
     "output_type": "stream",
     "text": [
      "920288853\n"
     ]
    },
    {
     "name": "stderr",
     "output_type": "stream",
     "text": [
      "\r",
      " 78%|███████▊  | 67/86 [10:12<02:33,  8.09s/it]"
     ]
    },
    {
     "name": "stdout",
     "output_type": "stream",
     "text": [
      "920288855\n"
     ]
    },
    {
     "name": "stderr",
     "output_type": "stream",
     "text": [
      "\r",
      " 79%|███████▉  | 68/86 [10:23<02:38,  8.82s/it]"
     ]
    },
    {
     "name": "stdout",
     "output_type": "stream",
     "text": [
      "939471245\n"
     ]
    },
    {
     "name": "stderr",
     "output_type": "stream",
     "text": [
      "\r",
      " 80%|████████  | 69/86 [10:34<02:42,  9.55s/it]"
     ]
    },
    {
     "name": "stdout",
     "output_type": "stream",
     "text": [
      "939471248\n"
     ]
    },
    {
     "name": "stderr",
     "output_type": "stream",
     "text": [
      "\r",
      " 81%|████████▏ | 70/86 [10:39<02:10,  8.16s/it]"
     ]
    },
    {
     "name": "stdout",
     "output_type": "stream",
     "text": [
      "939471250\n"
     ]
    },
    {
     "name": "stderr",
     "output_type": "stream",
     "text": [
      "\r",
      " 83%|████████▎ | 71/86 [10:50<02:16,  9.09s/it]"
     ]
    },
    {
     "name": "stdout",
     "output_type": "stream",
     "text": [
      "939471256\n"
     ]
    },
    {
     "name": "stderr",
     "output_type": "stream",
     "text": [
      "\r",
      " 84%|████████▎ | 72/86 [11:01<02:13,  9.52s/it]"
     ]
    },
    {
     "name": "stdout",
     "output_type": "stream",
     "text": [
      "939471259\n"
     ]
    },
    {
     "name": "stderr",
     "output_type": "stream",
     "text": [
      "\r",
      " 85%|████████▍ | 73/86 [11:06<01:47,  8.26s/it]"
     ]
    },
    {
     "name": "stdout",
     "output_type": "stream",
     "text": [
      "944115804\n"
     ]
    },
    {
     "name": "stderr",
     "output_type": "stream",
     "text": [
      "\r",
      " 86%|████████▌ | 74/86 [11:19<01:56,  9.73s/it]"
     ]
    },
    {
     "name": "stdout",
     "output_type": "stream",
     "text": [
      "944115808\n",
      "944115808 : OUT\n",
      "944115814\n"
     ]
    },
    {
     "name": "stderr",
     "output_type": "stream",
     "text": [
      "\r",
      " 88%|████████▊ | 76/86 [11:24<01:03,  6.37s/it]"
     ]
    },
    {
     "name": "stdout",
     "output_type": "stream",
     "text": [
      "944115820\n"
     ]
    },
    {
     "name": "stderr",
     "output_type": "stream",
     "text": [
      "\r",
      " 90%|████████▉ | 77/86 [11:38<01:14,  8.25s/it]"
     ]
    },
    {
     "name": "stdout",
     "output_type": "stream",
     "text": [
      "944115825\n"
     ]
    },
    {
     "name": "stderr",
     "output_type": "stream",
     "text": [
      "\r",
      " 91%|█████████ | 78/86 [11:50<01:13,  9.19s/it]"
     ]
    },
    {
     "name": "stdout",
     "output_type": "stream",
     "text": [
      "944115831\n"
     ]
    },
    {
     "name": "stderr",
     "output_type": "stream",
     "text": [
      "\r",
      " 92%|█████████▏| 79/86 [11:55<00:56,  8.13s/it]"
     ]
    },
    {
     "name": "stdout",
     "output_type": "stream",
     "text": [
      "939471269\n"
     ]
    },
    {
     "name": "stderr",
     "output_type": "stream",
     "text": [
      "\r",
      " 93%|█████████▎| 80/86 [12:07<00:54,  9.03s/it]"
     ]
    },
    {
     "name": "stdout",
     "output_type": "stream",
     "text": [
      "939471272\n"
     ]
    },
    {
     "name": "stderr",
     "output_type": "stream",
     "text": [
      "\r",
      " 94%|█████████▍| 81/86 [12:18<00:48,  9.77s/it]"
     ]
    },
    {
     "name": "stdout",
     "output_type": "stream",
     "text": [
      "939471278\n"
     ]
    },
    {
     "name": "stderr",
     "output_type": "stream",
     "text": [
      "\r",
      " 95%|█████████▌| 82/86 [12:24<00:33,  8.49s/it]"
     ]
    },
    {
     "name": "stdout",
     "output_type": "stream",
     "text": [
      "939471282\n"
     ]
    },
    {
     "name": "stderr",
     "output_type": "stream",
     "text": [
      "\r",
      " 97%|█████████▋| 83/86 [12:36<00:28,  9.47s/it]"
     ]
    },
    {
     "name": "stdout",
     "output_type": "stream",
     "text": [
      "939471285\n"
     ]
    },
    {
     "name": "stderr",
     "output_type": "stream",
     "text": [
      "\r",
      " 98%|█████████▊| 84/86 [12:47<00:20, 10.12s/it]"
     ]
    },
    {
     "name": "stdout",
     "output_type": "stream",
     "text": [
      "939471290\n"
     ]
    },
    {
     "name": "stderr",
     "output_type": "stream",
     "text": [
      "\r",
      " 99%|█████████▉| 85/86 [12:52<00:08,  8.47s/it]"
     ]
    },
    {
     "name": "stdout",
     "output_type": "stream",
     "text": [
      "939471298\n"
     ]
    },
    {
     "name": "stderr",
     "output_type": "stream",
     "text": [
      "100%|██████████| 86/86 [13:04<00:00,  9.13s/it]\n"
     ]
    }
   ],
   "source": [
    "neural_data = []\n",
    "for ophys_experiment_id in tqdm(experiments.keys()): #tqdm is a package that shows progress bars for items that are iterated over\n",
    "    print(ophys_experiment_id)\n",
    "    #Here some experiments gives error while downloading them, 'it can't open file under the name ...` so i excluded them\n",
    "    try:\n",
    "        this_experiment = experiments[ophys_experiment_id]\n",
    "        this_experiment_neural_data = ophys.build_tidy_cell_df(this_experiment)\n",
    "    except:\n",
    "        print(ophys_experiment_id,': OUT')\n",
    "        continue\n",
    "    \n",
    "    # add some columns with metadata for the experiment\n",
    "    metadata_keys = [\n",
    "        'ophys_experiment_id',\n",
    "        'ophys_session_id',\n",
    "        'imaging_depth',\n",
    "        'stimulus_frame_rate',\n",
    "        'mouse_id',\n",
    "        'sex',\n",
    "        'age_in_days',\n",
    "        'targeted_structure',\n",
    "    ]\n",
    "    for metadata_key in metadata_keys:\n",
    "        this_experiment_neural_data[metadata_key] = this_experiment.metadata[metadata_key]\n",
    "        \n",
    "    # append the data for this experiment to a list\n",
    "    neural_data.append(this_experiment_neural_data)\n",
    "    \n",
    "# concatate the list of dataframes into a single dataframe\n",
    "neural_data = pd.concat(neural_data)"
   ]
  },
  {
   "cell_type": "code",
   "execution_count": null,
   "id": "b7bce4d2",
   "metadata": {},
   "outputs": [],
   "source": [
    "#Number of neurons"
   ]
  },
  {
   "cell_type": "markdown",
   "id": "21a44f7e",
   "metadata": {},
   "source": [
    "Experiment couldn't be downloaded: 993590480"
   ]
  },
  {
   "cell_type": "code",
   "execution_count": 10,
   "id": "ff591a20",
   "metadata": {},
   "outputs": [
    {
     "data": {
      "text/html": [
       "<div>\n",
       "<style scoped>\n",
       "    .dataframe tbody tr th:only-of-type {\n",
       "        vertical-align: middle;\n",
       "    }\n",
       "\n",
       "    .dataframe tbody tr th {\n",
       "        vertical-align: top;\n",
       "    }\n",
       "\n",
       "    .dataframe thead th {\n",
       "        text-align: right;\n",
       "    }\n",
       "</style>\n",
       "<table border=\"1\" class=\"dataframe\">\n",
       "  <thead>\n",
       "    <tr style=\"text-align: right;\">\n",
       "      <th></th>\n",
       "      <th>timestamps</th>\n",
       "      <th>dff</th>\n",
       "      <th>events</th>\n",
       "      <th>filtered_events</th>\n",
       "      <th>cell_roi_id</th>\n",
       "      <th>cell_specimen_id</th>\n",
       "      <th>ophys_experiment_id</th>\n",
       "      <th>ophys_session_id</th>\n",
       "      <th>imaging_depth</th>\n",
       "      <th>stimulus_frame_rate</th>\n",
       "      <th>mouse_id</th>\n",
       "      <th>sex</th>\n",
       "      <th>age_in_days</th>\n",
       "      <th>targeted_structure</th>\n",
       "    </tr>\n",
       "  </thead>\n",
       "  <tbody>\n",
       "    <tr>\n",
       "      <th>0</th>\n",
       "      <td>3.17722</td>\n",
       "      <td>0.665995</td>\n",
       "      <td>0.0</td>\n",
       "      <td>0.0</td>\n",
       "      <td>1080895959</td>\n",
       "      <td>1086493416</td>\n",
       "      <td>795953296</td>\n",
       "      <td>795625712</td>\n",
       "      <td>175</td>\n",
       "      <td>60.0</td>\n",
       "      <td>412036</td>\n",
       "      <td>F</td>\n",
       "      <td>162</td>\n",
       "      <td>VISp</td>\n",
       "    </tr>\n",
       "    <tr>\n",
       "      <th>1</th>\n",
       "      <td>3.20953</td>\n",
       "      <td>0.319544</td>\n",
       "      <td>0.0</td>\n",
       "      <td>0.0</td>\n",
       "      <td>1080895959</td>\n",
       "      <td>1086493416</td>\n",
       "      <td>795953296</td>\n",
       "      <td>795625712</td>\n",
       "      <td>175</td>\n",
       "      <td>60.0</td>\n",
       "      <td>412036</td>\n",
       "      <td>F</td>\n",
       "      <td>162</td>\n",
       "      <td>VISp</td>\n",
       "    </tr>\n",
       "    <tr>\n",
       "      <th>2</th>\n",
       "      <td>3.24183</td>\n",
       "      <td>0.568772</td>\n",
       "      <td>0.0</td>\n",
       "      <td>0.0</td>\n",
       "      <td>1080895959</td>\n",
       "      <td>1086493416</td>\n",
       "      <td>795953296</td>\n",
       "      <td>795625712</td>\n",
       "      <td>175</td>\n",
       "      <td>60.0</td>\n",
       "      <td>412036</td>\n",
       "      <td>F</td>\n",
       "      <td>162</td>\n",
       "      <td>VISp</td>\n",
       "    </tr>\n",
       "    <tr>\n",
       "      <th>3</th>\n",
       "      <td>3.27414</td>\n",
       "      <td>0.414089</td>\n",
       "      <td>0.0</td>\n",
       "      <td>0.0</td>\n",
       "      <td>1080895959</td>\n",
       "      <td>1086493416</td>\n",
       "      <td>795953296</td>\n",
       "      <td>795625712</td>\n",
       "      <td>175</td>\n",
       "      <td>60.0</td>\n",
       "      <td>412036</td>\n",
       "      <td>F</td>\n",
       "      <td>162</td>\n",
       "      <td>VISp</td>\n",
       "    </tr>\n",
       "    <tr>\n",
       "      <th>4</th>\n",
       "      <td>3.30644</td>\n",
       "      <td>0.352505</td>\n",
       "      <td>0.0</td>\n",
       "      <td>0.0</td>\n",
       "      <td>1080895959</td>\n",
       "      <td>1086493416</td>\n",
       "      <td>795953296</td>\n",
       "      <td>795625712</td>\n",
       "      <td>175</td>\n",
       "      <td>60.0</td>\n",
       "      <td>412036</td>\n",
       "      <td>F</td>\n",
       "      <td>162</td>\n",
       "      <td>VISp</td>\n",
       "    </tr>\n",
       "  </tbody>\n",
       "</table>\n",
       "</div>"
      ],
      "text/plain": [
       "   timestamps       dff  events  filtered_events  cell_roi_id  \\\n",
       "0     3.17722  0.665995     0.0              0.0   1080895959   \n",
       "1     3.20953  0.319544     0.0              0.0   1080895959   \n",
       "2     3.24183  0.568772     0.0              0.0   1080895959   \n",
       "3     3.27414  0.414089     0.0              0.0   1080895959   \n",
       "4     3.30644  0.352505     0.0              0.0   1080895959   \n",
       "\n",
       "   cell_specimen_id  ophys_experiment_id  ophys_session_id  imaging_depth  \\\n",
       "0        1086493416            795953296         795625712            175   \n",
       "1        1086493416            795953296         795625712            175   \n",
       "2        1086493416            795953296         795625712            175   \n",
       "3        1086493416            795953296         795625712            175   \n",
       "4        1086493416            795953296         795625712            175   \n",
       "\n",
       "   stimulus_frame_rate  mouse_id sex  age_in_days targeted_structure  \n",
       "0                 60.0    412036   F          162               VISp  \n",
       "1                 60.0    412036   F          162               VISp  \n",
       "2                 60.0    412036   F          162               VISp  \n",
       "3                 60.0    412036   F          162               VISp  \n",
       "4                 60.0    412036   F          162               VISp  "
      ]
     },
     "execution_count": 10,
     "metadata": {},
     "output_type": "execute_result"
    }
   ],
   "source": [
    "neural_data.head()"
   ]
  },
  {
   "cell_type": "markdown",
   "id": "d938a20f",
   "metadata": {},
   "source": [
    "# Splitting the experiments ids"
   ]
  },
  {
   "cell_type": "markdown",
   "id": "5eeed311",
   "metadata": {},
   "source": [
    "Getting all experiments ids with same familiarty level into one group"
   ]
  },
  {
   "cell_type": "code",
   "execution_count": 22,
   "id": "e545b7bc",
   "metadata": {},
   "outputs": [],
   "source": [
    "exp_ids_groups={}\n",
    "cnt=0\n",
    "for i in range(len(fam_groups)):\n",
    "    current_fam=fam_groups[i]    \n",
    "    if fam_groups[i]==0:\n",
    "        exp_ids_groups[current_fam]=experiment_table.loc[experiment_table['prior_exposures_to_image_set']==0].index.values\n",
    "    else:\n",
    "        try:\n",
    "            next_fam=fam_groups[i+1]\n",
    "            exp_ids_groups[current_fam]=experiment_table.loc[((experiment_table['prior_exposures_to_image_set']>=current_fam)  & (experiment_table['prior_exposures_to_image_set']<next_fam))].index.values\n",
    "        except:\n",
    "            exp_ids_groups[current_fam]=experiment_table.loc[(experiment_table['prior_exposures_to_image_set']>=current_fam)].index.values"
   ]
  },
  {
   "cell_type": "code",
   "execution_count": 23,
   "id": "5edd04ef",
   "metadata": {},
   "outputs": [
    {
     "name": "stdout",
     "output_type": "stream",
     "text": [
      "{0: {0: {}, 'Sst': array([ 957759562,  957759576,  957759572,  957759566,  957759574,\n",
      "        957759570,  957759564,  994955425,  965228792, 1051423446,\n",
      "       1008318518,  993344860,  982183920, 1044095203,  978296100,\n",
      "        978296104,  978296102,  978296114,  978296110,  853363749,\n",
      "        853363743,  853363745,  853363756,  853363751,  853363747,\n",
      "        853363739,  988542529]), 'Vip': array([ 795953296,  830093338,  968651977, 1050762972, 1050762969,\n",
      "       1050762966, 1050762977, 1050762974, 1050762975,  950833329,\n",
      "        932372699,  932372707,  932372711,  932372701,  932372705,\n",
      "       1067647876, 1067648397, 1053997501,  993862120,  849233390,\n",
      "        849233398,  849233402,  849233396,  849233404,  849233400,\n",
      "        882968566,  882968574,  882968568,  882968562,  882968564,\n",
      "        948689207,  948689205,  948689203,  948689192,  948689198,\n",
      "        948689196, 1004403369, 1005123568,  877669824,  877669819,\n",
      "        877669826,  877669815,  877669811,  877669817,  877669822,\n",
      "        921024195,  921024189,  921024201,  921024197,  921024187,\n",
      "        921024193,  964440177]), 'Slc': array([ 880375092,  994278291,  879331157,  942043482,  990400779,\n",
      "        990400783,  990400777,  990400775,  990400778,  990400782,\n",
      "        990400780,  990400781,  940352367,  923100531, 1042895986,\n",
      "        853962951, 1048044013,  974945686,  956820482,  892805315,\n",
      "       1038360130,  892799212, 1060759278,  808619543,  817267785,\n",
      "        967007328,  845037476,  993891842,  993891843,  993891850,\n",
      "        993891846,  993891849,  993891845,  993891844,  851056106,\n",
      "        848694639,  967008471,  962471847,  834279496,  974358971,\n",
      "        974358967,  974358969,  974358975,  974358977,  974358973,\n",
      "        974358979,  974358981,  906910612,  906910616,  906910623,\n",
      "        906910614,  906910627,  906910621,  914536934,  889775742,\n",
      "        795076128, 1057706462,  808621034,  851060467,  903405627,\n",
      "        907694954,  907694952,  907694950])}, 1: {1: {}, 'Sst': array([ 959388792,  959388802,  959388796,  959388790,  959388788,\n",
      "        959388800,  959388798,  995280513,  965930965, 1051989532,\n",
      "       1008738092,  993593393,  982862427, 1044446322,  873963891,\n",
      "        873963889,  853988430,  853988446,  853988448,  853988454,\n",
      "        853988437,  989191384]), 'Vip': array([ 796108483,  830700800,  969809655,  953443028,  946513780,\n",
      "        946513790,  946513782,  946513788, 1068173247, 1054266228,\n",
      "        994053909,  851085109,  851085092,  851085105,  851085100,\n",
      "        851085103,  851085107,  885146237,  885146239,  885146245,\n",
      "        885146243,  885146249,  949723715,  949723713,  949723709,\n",
      "        949723723,  949723721,  949723719,  949723717, 1004890922,\n",
      "       1005299957,  877057349,  877057357,  877057341,  877057354,\n",
      "        877057351,  877057344,  877057336,  922122734,  922122728,\n",
      "        922122730,  922122742,  965228771]), 'Slc': array([ 994790553,  880374622,  869969393,  943151552,  990681014,\n",
      "        990681012,  990681006,  990681009,  990681010,  990681013,\n",
      "        990681007,  990681008,  888666715,  940852112,  924108253,\n",
      "        854703305,  957655294,  893831526,  884271253,  884271257,\n",
      "        884271262,  884271249,  967877560,  846487947,  994082671,\n",
      "        994082676,  994082673,  994082677,  994082680,  994082674,\n",
      "        994082683,  851932055,  967876219,  963397268,  835006071,\n",
      "        974362751,  974362762,  974362764,  974362753,  974362767,\n",
      "        974362760,  974362758,  974362756,  908381676,  908381680,\n",
      "        908381674,  908381682,  908381686,  915150256,  891067673,\n",
      "        795952471, 1057956396,  904155155,  908381700,  908381694])}, 2: {2: {}, 'Sst': array([ 960410026,  960410028,  960410023,  960410042,  960410038,\n",
      "        995439942,  995622557,  967005387, 1052391266, 1009114207,\n",
      "        959337347,  960351917,  993864050,  986415685,  988542657,\n",
      "       1044678595, 1012112426, 1012467113, 1003122317,  875587489,\n",
      "        875587491,  875587495,  981178526,  981178539,  981178537,\n",
      "        981178529,  981178542,  981178532,  982343738,  982343741,\n",
      "        982343736,  982343730,  982343728,  982343732,  854759898,\n",
      "        854759900,  854759903,  854759896,  854759894,  854759890,\n",
      "        989594023,  990381322]), 'Vip': array([ 796308505,  832115263,  938001540,  939319851,  971280274,\n",
      "        972200901, 1051249031, 1051249026, 1051249029, 1051460018,\n",
      "       1051460016,  958435448,  948704864,  948704866,  948704870,\n",
      "        948704862,  948704868,  948704860,  935514362,  935514373,\n",
      "        935514378,  935514360,  935514368,  935514375,  935514366,\n",
      "       1069286458, 1069286452, 1054813047,  994791582,  994956406,\n",
      "        853362765,  853362775,  853362777,  853362771,  853362773,\n",
      "        886587170,  886587164,  886587166,  886587172,  886587174,\n",
      "        886587162,  886587168,  886587160,  951213217,  951213209,\n",
      "        951213207,  951213203,  951213215,  951213211, 1006270853,\n",
      "        924198889,  924198895,  924198891,  924198883,  924198885,\n",
      "        929653466,  929653479,  929653468,  929653474,  805784331,\n",
      "        965928394]), 'Slc': array([ 881881171,  882935355,  994955433,  880961028,  877691075,\n",
      "        944366183,  991852004,  991852002,  991852000,  991852001,\n",
      "        991852008,  991852005,  991852003,  991852006,  889777243,\n",
      "        943151492,  924798932, 1043834889,  855577488, 1049332776,\n",
      "        855582981,  977132456,  977937585,  958681110,  894726001,\n",
      "       1039360017, 1039656273,  885146791,  885146789,  885146785,\n",
      "        885146787,  885146781,  885146783,  885146779,  885146793,\n",
      "        887386955,  887386958,  887386953,  887386964,  887386947,\n",
      "        887386968,  887386970,  887386949,  894727297,  898747791,\n",
      "       1061327688,  969807132,  847241639,  853962969,  847125577,\n",
      "        848698709,  968651957,  964460159,  965218395,  836258936,\n",
      "        974994099,  974994105,  974994109,  974994107,  974994101,\n",
      "        974994093,  974994097,  974994095,  908381652,  908381668,\n",
      "        908381660,  908381656,  916093599,  796105304,  909090479,\n",
      "       1058275574,  809501118,  811458048,  852691524,  855582961,\n",
      "        908350502,  909177759,  914107592,  914107600,  914107611,\n",
      "        914107595,  914107608, 1050725735, 1050730732])}, 4: {4: {}, 'Vip': array([ 833631914,  940354181,  936500611,  936500596,  936500623,\n",
      "        936500631,  936500602,  936500617,  936500627,  940433470,\n",
      "        940433468,  940433478,  940433466,  940433476,  940433474,\n",
      "        940433480,  887386989,  887386977,  887386979,  887386974,\n",
      "        887386991,  887386981,  888876949,  888876943,  888876941,\n",
      "        888876947,  888876951,  888876939, 1006511150, 1006813726,\n",
      "        807753318,  808621958]), 'Slc': array([ 884218326,  878358326,  927048127,  929132798, 1044448293,\n",
      "       1050730726,  856096766,  857660011,  788490510,  888879671,\n",
      "        888879669,  888879678,  888879682,  888879680,  888879667,\n",
      "        888879676,  888879674, 1061787719,  825120601,  813083478,\n",
      "        820307518,  837729902,  910600099,  911146705, 1058813457,\n",
      "       1059340828,  914580660,  914580670,  914580664,  914580662,\n",
      "        916220443,  916220441,  916220450,  916220452, 1051011761,\n",
      "       1051216600]), 'Sst': array([ 960960480,  989192360, 1012746738, 1012910704, 1003456269,\n",
      "       1003771249,  984914594,  984914599,  984914585,  984914588])}, 6: {6: {}, 'Slc': array([893830436, 895422187, 862848066, 825623170, 826585773, 923100548]), 'Vip': array([1071070929, 1071440875, 1056171522, 1056171531, 1057725798,\n",
      "       1057725806, 1057725804,  891108763,  891108765,  891108767,\n",
      "        891108758,  891108769,  891108773,  891108760]), 'Sst': array([1013063357,  986518870,  986518852,  986518865,  986518863,\n",
      "        986518847,  986518858])}, 8: {8: {}, 'Slc': array([ 896160394,  796106850,  929136322,  929591721, 1059549281,\n",
      "        806456687,  815652334,  806455766,  806989729]), 'Sst': array([1007107386,  866518316,  866518314,  866518320])}, 10: {10: {}, 'Vip': array([ 826587940, 1065523118,  992868972,  993341877]), 'Slc': array([ 848697604,  930785836, 1059768347, 1059963010,  807752719,\n",
      "        963391867,  964422360,  958435363,  971813760,  971813754,\n",
      "        971813756,  971813758,  971813767,  971813762,  971813769,\n",
      "        971813765,  792813858, 1056150752,  807753334,  848697625,\n",
      "        899085531, 1048044018]), 'Sst': array([1050406399, 1050720434, 1007372463, 1007929142,  867410516,\n",
      "        867410512,  867410509])}, 12: {12: {}, 'Slc': array([ 992870935,  993344852,  849203586,  915136302,  889771676,\n",
      "       1060184782,  811456530,  822647135,  842975542,  843520488,\n",
      "        842973730,  843519218,  965218519,  956903412,  972233181,\n",
      "        972233189,  972233195,  972233193,  972233187,  972233175,\n",
      "        972233183,  972233173,  974433386,  974433390,  974433392,\n",
      "        974433397,  974433401,  974433399,  974433395,  974433388,\n",
      "        911149119,  911642167,  794381992, 1056561863,  849203565,\n",
      "        850479305,  901559828,  902487182]), 'Vip': array([1067133175, 1065523124,  993590480, 1003123177]), 'Sst': array([1051009897, 1051217227,  868870085,  868870097,  868870092])}, 14: {14: {}, 'Slc': array([ 993594789,  993863108,  853328115,  857658471, 1047025008,\n",
      "       1047612322,  856938751,  918566488,  919325924,  891052180,\n",
      "        891994418,  825130141,  844395446,  959337328,  960351943,\n",
      "        914062456,  797255551,  902487200, 1057070365, 1049332782]), 'Vip': array([ 938003662, 1065966776, 1066177684, 1003444808, 1003770203,\n",
      "        875564408,  875564411,  875564417,  875564398,  875564370,\n",
      "        875564401,  875564420,  872499158,  872499144,  872499154,\n",
      "        872499160,  872499152,  872499156,  872499150,  803736273]), 'Sst': array([1010256573, 1010530054,  871196371,  871196365,  871196367])}, 16: {16: {}, 'Vip': array([ 836258957,  940352989, 1067133170, 1004136916, 1004405226,\n",
      "        873970527,  873970535,  873970531,  873970521,  873970533,\n",
      "        873970525,  873970529,  809497730]), 'Slc': array([ 994056251,  859147033, 1047824550,  830700781,  903403819,\n",
      "        904155140]), 'Sst': array([1010812025])}, 18: {18: {}, 'Vip': array([ 792815735,  836911939,  943134119, 1004889552,  875808247,\n",
      "        875808249,  875808245,  875808253,  875808255,  875808251,\n",
      "        875808238]), 'Slc': array([884221469, 863735602, 864370674, 889772922, 891054695, 962473290,\n",
      "       963394065, 882520593]), 'Sst': array([992296756, 850517350, 850517346, 850517352, 850517354, 850517358,\n",
      "       850517348, 850517344, 851093291, 851093289, 851093285, 851093287])}, 20: {20: {}, 'Vip': array([795073741, 945473009, 947716576, 847267616, 847267622, 847267624,\n",
      "       847267628, 847267630, 847267626, 848039121, 848039123, 848039125]), 'Slc': array([871155338, 872433717, 873154932, 873968820, 885067826, 885933191,\n",
      "       919314793, 920211809, 891996193, 881003484, 881003493, 881003496,\n",
      "       881003487, 881003498, 822024770, 822641265, 964955813, 965231035,\n",
      "       833629926, 837296345, 885067844]), 'Sst': array([955276580, 956903375, 992572516, 992870927])}, 22: {22: {}, 'Vip': array([798404219, 948507789, 848760988, 848760990, 848760985, 848760983]), 'Slc': array([873156540, 873972085, 875045489, 920976741, 972701564, 882551954,\n",
      "       882551968, 882551966, 882551962, 882551958, 882551960, 882551964,\n",
      "       882551956, 823392290]), 'Sst': array([957652800, 856123134, 856123117, 856123124, 856123126, 856123119,\n",
      "       857698018, 857698014, 857698006])}, 24: {24: {}, 'Slc': array([ 877018118, 1042126970,  886003529,  886003535,  886003523,\n",
      "        886003527,  886003525,  886003521,  886003533,  886003531,\n",
      "        886585126,  886585123,  886585128,  886585132,  886585136,\n",
      "        886585138,  886585130,  886585134,  888666698]), 'Sst': array([975608400, 975608394, 975608402, 975608398, 975608392, 975608390]), 'Vip': array([960953590, 961281512])}, 26: {26: {}, 'Slc': array([ 877022592, 1042387062, 1042639858,  973927944,  974384470,\n",
      "       1037804399]), 'Vip': array([932331541, 933338719, 962473308, 963394081]), 'Sst': array([ 960957793, 1042387068,  976300305,  976300299,  976300303,\n",
      "        976300295,  976300297,  976300307,  977247466,  977247468,\n",
      "        977247472,  977247476,  977247474])}, 28: {28: {}, 'Slc': array([ 877696762,  878363088, 1038171965, 1038848242,  992084635,\n",
      "        992084633,  992084628,  992084625,  992084626,  992084624,\n",
      "        992084627]), 'Vip': array([934476801]), 'Sst': array([ 961283857,  962471831, 1042639868,  977978321,  977978323,\n",
      "        977978327,  977978331,  977978329,  977978319])}, 30: {30: {}, 'Slc': array([879332693, 992620388, 992620396, 992620397, 992620390, 992620391,\n",
      "       992620392, 992620393, 993369857, 993369863, 993369864, 993369858,\n",
      "       993369860, 993369859, 993369861]), 'Sst': array([1043218895, 1043831389,  982862443,  984551228])}, 32: {32: {}, 'Slc': array([986518885, 986518891, 986518889, 986518893, 986518880, 986518876,\n",
      "       986518878, 986518887, 989213058, 989213062, 989213064, 989213061,\n",
      "       989213060, 989213059, 989213065, 989213063, 993619371, 993619367,\n",
      "       993619366, 993619368, 993619369, 993619372, 993619364, 904363928,\n",
      "       904363923, 904363930, 904363934, 904363938, 905955230, 905955240,\n",
      "       905955238, 905955232, 905955228]), 'Vip': array([942596363, 942596349, 942596361, 942596353, 942596359, 942596355,\n",
      "       942596357]), 'Sst': array([1000743008,  986402309])}, 34: {34: {}, 'Slc': array([989610989, 989610992, 989610986, 989610985, 989610987, 989610990,\n",
      "       989610991, 989610988, 848692970, 903485720, 903485705, 903485716,\n",
      "       903485710, 903485714, 903485708, 904352700, 904352696, 904352694,\n",
      "       904352686, 904352688, 904352690, 906910595]), 'Vip': array([1052212181, 1052212179, 1052212170,  945586431,  945586433,\n",
      "        945586438,  945586440,  945586425,  945586429,  945586435]), 'Sst': array([1001535125])}, 36: {36: {}, 'Vip': array([1052412559, 1052412568, 1052637588, 1052637596, 1052637594,\n",
      "        947798783,  947798779,  947798777,  947798775,  947798785,\n",
      "        947798781,  947798771]), 'Slc': array([849199228, 850489605, 905955207, 905955215, 905955204, 905955219,\n",
      "       905955213, 905955209, 912791345, 912791341, 912791343]), 'Sst': array([1002314807])}, 38: {38: {}, 'Sst': array([993862620]), 'Slc': array([915243092, 915243090, 915243101, 915243099])}, 40: {40: {}, 'Sst': array([994053903, 994278281])}, 42: {42: {}, 'Sst': array([994790561]), 'Vip': array([ 881001218,  881001210,  881001212,  881001216,  881949073,\n",
      "        881949079,  881949075,  881949066,  881949070,  881949077,\n",
      "        881949068,  881949081, 1003771765, 1004136930])}, 44: {44: {}, 'Slc': array([775614751]), 'Sst': array([977935606]), 'Vip': array([882551933, 882551947, 882551945, 882551939, 882551943, 882551937,\n",
      "       882551935, 882551950])}, 46: {46: {}, 'Vip': array([ 965224600, 1048483608, 1048483613, 1048483611, 1048483604,\n",
      "       1048483616, 1048483614,  916803621,  916803626,  916803619,\n",
      "        917820358,  917820362,  917820379,  917820375,  917820370,\n",
      "        917820372]), 'Slc': array([778644591]), 'Sst': array([978827848])}, 48: {48: {}, 'Vip': array([ 967008454,  967876201, 1049610125, 1049610129, 1049610126,\n",
      "       1049610116, 1049610123, 1049610120,  919418503,  919418507,\n",
      "        919418513,  919418501]), 'Sst': array([979668410, 980673831])}, 50: {50: {}, 'Vip': array([1050485657, 1050485654, 1050485649, 1050485652, 1050485655,\n",
      "       1050485645,  938002058,  938002062,  938002068,  938002066,\n",
      "        938002060, 1052609309,  920288853,  920288851,  920288845,\n",
      "        920288849,  920288843,  920288855])}, 52: {52: {}, 'Slc': array([935440133]), 'Vip': array([ 939471259,  939471250,  939471245,  939471256,  939471248,\n",
      "        940433495,  940433490,  940433499,  940433497,  940433488,\n",
      "        940433493, 1053605418,  925843758,  925843756,  925843771,\n",
      "        925843765,  925843763])}, 54: {54: {}, 'Slc': array([936494970]), 'Vip': array([ 944115814,  944115820,  944115825,  944115808,  944115831,\n",
      "        944115804,  930996067,  930996069,  930996076,  930996073,\n",
      "        930996078,  930996080,  930996082,  938002083,  938002073,\n",
      "        938002077,  938002081,  938002088,  938002071,  938002079,\n",
      "       1053774037])}, 56: {56: {}, 'Slc': array([939327156, 939327085]), 'Vip': array([939471285, 939471298, 939471290, 939471278, 939471272, 939471282,\n",
      "       939471269])}, 58: {58: {}, 'Slc': array([940354166, 940852658])}, 60: {60: {}, 'Slc': array([946476556, 947724724])}, 62: {62: {}, 'Slc': array([948514870, 949637002])}, 64: {64: {}, 'Sst': array([951980471, 951980484, 951980473, 951980479, 951980475, 951980481,\n",
      "       951980486, 953659752, 953659745, 953659749, 953659743, 958527481,\n",
      "       958527488, 958527471, 958527474, 958527479, 958527485, 958527464,\n",
      "       956941846, 956941841, 956941844, 958741222, 958741230, 958741232,\n",
      "       958741219, 958741234]), 'Slc': array([950852107, 951932454, 953452368, 955278565])}}\n"
     ]
    }
   ],
   "source": [
    "full_cat_exp_id={}\n",
    "for key in exp_ids_groups.keys():\n",
    "  #Now we have key could be 0,1,2,4,6,810,12,14,......\n",
    "  if not key in full_cat_exp_id:\n",
    "    tmp_dict={}\n",
    "    tmp_dict[key]={}\n",
    "    full_cat_exp_id[key]=tmp_dict\n",
    "\n",
    "  current_ids_in_key=exp_ids_groups[key]# all ids in specific key\n",
    "  for exp_id in current_ids_in_key:\n",
    "    if experiment_table.loc[exp_id,'full_genotype'][0:3]=='Vip':\n",
    "      if 'Vip' in full_cat_exp_id[key]:\n",
    "        full_cat_exp_id[key]['Vip']=np.concatenate([full_cat_exp_id[key]['Vip'],[exp_id] ])\n",
    "      else:\n",
    "        full_cat_exp_id[key]['Vip']=np.array([exp_id])\n",
    "\n",
    "    if experiment_table.loc[exp_id,'full_genotype'][0:3]=='Slc':\n",
    "      if 'Slc' in full_cat_exp_id[key]:\n",
    "        full_cat_exp_id[key]['Slc']=np.concatenate([full_cat_exp_id[key]['Slc'],[exp_id] ])\n",
    "      else:\n",
    "        full_cat_exp_id[key]['Slc']=np.array([exp_id])\n",
    "        \n",
    "    if experiment_table.loc[exp_id,'full_genotype'][0:3]=='Sst':\n",
    "      if 'Sst' in full_cat_exp_id[key]:\n",
    "        full_cat_exp_id[key]['Sst']=np.concatenate([full_cat_exp_id[key]['Sst'],[exp_id] ])\n",
    "      else:\n",
    "        full_cat_exp_id[key]['Sst']=np.array([exp_id])\n",
    "        \n",
    "print(full_cat_exp_id)\n"
   ]
  },
  {
   "cell_type": "code",
   "execution_count": 24,
   "id": "1612eff9",
   "metadata": {},
   "outputs": [
    {
     "name": "stdout",
     "output_type": "stream",
     "text": [
      "8 #####\n",
      "30 #####\n",
      "38 #####\n",
      "40 #####\n",
      "58 #####\n",
      "60 #####\n",
      "62 #####\n",
      "64 #####\n"
     ]
    }
   ],
   "source": [
    "full_cat_exp_id_cells={}\n",
    "for i in fam_groups:\n",
    "    try:\n",
    "        current_vip_ids=full_cat_exp_id[i]['Vip']\n",
    "        full_cat_exp_id_cells.update({i:{}})\n",
    "        full_cat_exp_id_cells[i].update({'Vip':{}})\n",
    "        for vip_exp_id in current_vip_ids:\n",
    "            cell_ids= neural_data[neural_data['ophys_experiment_id']==vip_exp_id]['cell_specimen_id'].unique()\n",
    "            full_cat_exp_id_cells[i]['Vip'].update({vip_exp_id:np.array(cell_ids)})\n",
    "    except:\n",
    "        print(i,'#####')\n",
    "\n",
    "\n",
    "            "
   ]
  },
  {
   "cell_type": "markdown",
   "id": "ac96c2c7",
   "metadata": {},
   "source": [
    "there are certain familiarty levels that don't have vip nueron which are: 8,30,38,40,58,60,62,64"
   ]
  },
  {
   "cell_type": "code",
   "execution_count": null,
   "id": "bc170b0b",
   "metadata": {},
   "outputs": [],
   "source": [
    "print(full_cat_exp_id_cells)"
   ]
  },
  {
   "cell_type": "code",
   "execution_count": 26,
   "id": "b6c6b8e1",
   "metadata": {},
   "outputs": [
    {
     "name": "stdout",
     "output_type": "stream",
     "text": [
      "1574\n"
     ]
    }
   ],
   "source": [
    "#Number of neurons\n",
    "count=0\n",
    "for lvl in fam_groups:\n",
    "    \n",
    "    if lvl in full_cat_exp_id_cells.keys():\n",
    "        for exp_key in full_cat_exp_id_cells[lvl]['Vip'].keys():\n",
    "            if not full_cat_exp_id_cells[lvl]['Vip'][exp_key].size==0:\n",
    "                for n_id in full_cat_exp_id_cells[lvl]['Vip'][exp_key]:\n",
    "                    count +=1\n",
    "print(count)"
   ]
  },
  {
   "cell_type": "markdown",
   "id": "88599a71",
   "metadata": {},
   "source": [
    "## Getting average of each familiarty level in all neurons"
   ]
  },
  {
   "cell_type": "markdown",
   "id": "25fcf040",
   "metadata": {},
   "source": [
    "i choose 550 as this the average for number of times till they change it."
   ]
  },
  {
   "cell_type": "code",
   "execution_count": null,
   "id": "e97848ea",
   "metadata": {},
   "outputs": [],
   "source": [
    "resp={}\n",
    "max_resp={}\n",
    "min_resp={}\n",
    "common_start_time=310\n",
    "num_of_iter=550\n",
    "\n",
    "\n",
    "for lvl in fam_groups:\n",
    "    resp.update({lvl:{}})\n",
    "    max_resp.update({lvl:{}})\n",
    "    min_resp.update({lvl:{}})\n",
    "    if lvl in full_cat_exp_id_cells.keys():\n",
    "        for exp_key in full_cat_exp_id_cells[lvl]['Vip'].keys():\n",
    "            if not full_cat_exp_id_cells[lvl]['Vip'][exp_key].size==0:\n",
    "                stimulus_table_tmp = experiments[exp_key].stimulus_presentations.drop(columns = ['image_set']) \n",
    "                lst_lat=[]\n",
    "                lst_max=[]\n",
    "                lst_min=[]\n",
    "                for n_id in full_cat_exp_id_cells[lvl]['Vip'][exp_key]:\n",
    "                    start_time_stimuli=stimulus_table_tmp[stimulus_table_tmp['start_time']>=common_start_time]['start_time'].values[0]\n",
    "                    tmp_test__ =neural_data[((neural_data['ophys_experiment_id']==exp_key)&(neural_data['cell_specimen_id']==n_id)&(neural_data['timestamps']>start_time_stimuli))]\n",
    "\n",
    "                    max_size=0\n",
    "                    #get max size of array(Approximation)\n",
    "                    for i in range(0,num_of_iter):\n",
    "                        tmp_tst=tmp_test__[((tmp_test__['timestamps']>=(i*0.75)+start_time_stimuli )&(tmp_test__['timestamps']<=((i*0.75)+start_time_stimuli+0.75)))]\n",
    "                        max_size=max(max_size,len(tmp_tst['dff'].values))\n",
    "\n",
    "                    count=0;\n",
    "                    avg_resp={'resp':np.zeros(max_size)}\n",
    "                    for i in range(0,num_of_iter):\n",
    "                        tmp_tst=tmp_test__[((tmp_test__['timestamps']>=(i*0.75)+start_time_stimuli )&(tmp_test__['timestamps']<=((i*0.75)+start_time_stimuli+0.75)))]\n",
    "                        for j in range(len(tmp_tst['dff'].values)):\n",
    "                            avg_resp['resp'][j] +=tmp_tst['dff'].values[j]\n",
    "                        if not tmp_tst['timestamps'].values.size==0:\n",
    "                                count +=1\n",
    "\n",
    "                    response=(avg_resp['resp']/count)\n",
    "                    time=np.linspace(0,0.75,len(response))\n",
    "                    lst_lat.append(time[np.where(response == np.amax(response))])\n",
    "                    lst_max.append(max(response))\n",
    "                    lst_min.append(min(response))\n",
    "                tmp_dict={exp_key:np.array(lst_lat).mean()}\n",
    "                tmp_dict_max={exp_key:np.array(lst_max).mean()}\n",
    "                tmp_dict_min={exp_key:np.array(lst_min).mean()}\n",
    "                resp[lvl].update(tmp_dict)\n",
    "                max_resp[lvl].update(tmp_dict_max)\n",
    "                min_resp[lvl].update(tmp_dict_min)\n",
    "print(resp)\n",
    "\n",
    "\n",
    "\n",
    "\n"
   ]
  },
  {
   "cell_type": "code",
   "execution_count": 53,
   "id": "c8e36e29",
   "metadata": {},
   "outputs": [],
   "source": [
    "avg=[]\n",
    "for lvl in fam_groups:\n",
    "    exps=list(resp[lvl].keys())\n",
    "    lat_in_lvl=[]\n",
    "    for exp in exps:\n",
    "        vals=np.array(resp[lvl][exp]).mean()\n",
    "        lat_in_lvl.append(vals)\n",
    "    avg.append(np.mean(lat_in_lvl))"
   ]
  },
  {
   "cell_type": "code",
   "execution_count": 54,
   "id": "ec905d8f",
   "metadata": {},
   "outputs": [],
   "source": [
    "avg_max=[]\n",
    "for lvl in fam_groups:\n",
    "    exps=list(max_resp[lvl].keys())\n",
    "    max_in_lvl=[]\n",
    "    for exp in exps:\n",
    "        vals=np.array(max_resp[lvl][exp]).mean()\n",
    "        max_in_lvl.append(vals)\n",
    "    avg_max.append(np.mean(max_in_lvl))\n",
    "    \n",
    "avg_min=[]\n",
    "for lvl in fam_groups:\n",
    "    exps=list(min_resp[lvl].keys())\n",
    "    min_in_lvl=[]\n",
    "    for exp in exps:\n",
    "        vals=np.array(min_resp[lvl][exp]).mean()\n",
    "        min_in_lvl.append(vals)\n",
    "    avg_min.append(np.mean(min_in_lvl))\n",
    "\n",
    "\n"
   ]
  },
  {
   "cell_type": "code",
   "execution_count": null,
   "id": "73e951c0",
   "metadata": {},
   "outputs": [],
   "source": []
  },
  {
   "cell_type": "markdown",
   "id": "e7d037a9",
   "metadata": {},
   "source": [
    "Dropping nan values."
   ]
  },
  {
   "cell_type": "code",
   "execution_count": 62,
   "id": "aca9692a",
   "metadata": {},
   "outputs": [],
   "source": [
    "import math \n",
    "fam_groups_opt=[]\n",
    "avg_opt=[]\n",
    "avg_max_opt=[]\n",
    "avg_min_opt=[]\n",
    "\n",
    "\n",
    "for i in range(len(fam_groups)):\n",
    "    if not math.isnan(avg[i]):\n",
    "        fam_groups_opt.append(fam_groups[i])\n",
    "        avg_opt.append(avg[i])\n",
    "        avg_max_opt.append(avg_max[i])\n",
    "        avg_min_opt.append(avg_min[i])\n",
    "        \n",
    "    \n"
   ]
  },
  {
   "cell_type": "code",
   "execution_count": 122,
   "id": "cc08e1a1",
   "metadata": {},
   "outputs": [
    {
     "data": {
      "text/plain": [
       "<matplotlib.legend.Legend at 0x7fc92db7bd60>"
      ]
     },
     "execution_count": 122,
     "metadata": {},
     "output_type": "execute_result"
    },
    {
     "data": {
      "image/png": "[encoded data removed]",
      "text/plain": [
       "<Figure size 432x288 with 1 Axes>"
      ]
     },
     "metadata": {
      "needs_background": "light"
     },
     "output_type": "display_data"
    }
   ],
   "source": [
    "plt.plot(fam_groups_opt,avg_opt)\n",
    "plt.xlabel('familiarty group')\n",
    "plt.ylabel('average latency')\n",
    "\n",
    "\n",
    "plt.axhline(y=avg_opt[0], xmin=0, xmax=0.16,color='k',label='0')    \n",
    "#average from 1:10\n",
    "ind_1=[]\n",
    "for i in range(1,len(fam_groups_opt)):\n",
    "    if fam_groups_opt[i]>10:\n",
    "        break\n",
    "    ind_1.append(i)\n",
    "avg_1=[]\n",
    "for i in ind_1:\n",
    "    avg_1.append(avg_opt[i])\n",
    "plt.axhline(y=np.array(avg_1).mean(), xmin=0.16, xmax=0.32,color='k',label='1:10')  \n",
    "\n",
    "\n",
    "ind_2=[]\n",
    "for i in range(ind_1[-1],len(fam_groups_opt)):\n",
    "    if fam_groups_opt[i]>20:\n",
    "        break\n",
    "    ind_2.append(i)\n",
    "avg_2=[]\n",
    "for i in ind_2:\n",
    "    avg_2.append(avg_opt[i])\n",
    "plt.axhline(y=np.array(avg_2).mean(), xmin=0.32, xmax=0.48,color='b',label='10:20')  \n",
    "\n",
    "ind_3=[]\n",
    "for i in range(ind_2[-1],len(fam_groups_opt)):\n",
    "    if fam_groups_opt[i]>30:\n",
    "        break\n",
    "    ind_3.append(i)\n",
    "avg_3=[]\n",
    "for i in ind_3:\n",
    "    avg_3.append(avg_opt[i])\n",
    "plt.axhline(y=np.array(avg_3).mean(), xmin=0.48, xmax=0.64,color='r',label='20:30')  \n",
    "\n",
    "ind_4=[]\n",
    "for i in range(ind_3[-1],len(fam_groups_opt)):\n",
    "    if fam_groups_opt[i]>40:\n",
    "        break\n",
    "    ind_4.append(i)\n",
    "avg_4=[]\n",
    "for i in ind_4:\n",
    "    avg_4.append(avg_opt[i])\n",
    "plt.axhline(y=np.array(avg_4).mean(), xmin=0.64, xmax=0.8,color='g',label='30:40') \n",
    "\n",
    "ind_5=[]\n",
    "for i in range(ind_4[-1],len(fam_groups_opt)):\n",
    "    if fam_groups_opt[i]>50:\n",
    "        break\n",
    "    ind_5.append(i)\n",
    "avg_5=[]\n",
    "for i in ind_5:\n",
    "    avg_5.append(avg_opt[i])\n",
    "plt.axhline(y=np.array(avg_5).mean(), xmin=0.8, xmax=0.96,color='k',label='40:50') \n",
    "plt.legend()\n",
    "\n",
    "\n",
    "\n",
    "\n",
    "\n"
   ]
  },
  {
   "cell_type": "code",
   "execution_count": 138,
   "id": "d9a755fb",
   "metadata": {},
   "outputs": [
    {
     "name": "stdout",
     "output_type": "stream",
     "text": [
      "[0.4597332015810277, 0.36615415466632584, 0.3930840373486495, 0.41108280780387557, 0.3363568475571667, 0.37035790646288896]\n",
      "[0, 1, 10, 20, 30, 40]\n",
      "(6,)\n",
      "(6,)\n"
     ]
    },
    {
     "data": {
      "text/plain": [
       "[<matplotlib.lines.Line2D at 0x7fc63fe47610>]"
      ]
     },
     "execution_count": 138,
     "metadata": {},
     "output_type": "execute_result"
    },
    {
     "data": {
      "image/png": "[encoded data removed]",
      "text/plain": [
       "<Figure size 432x288 with 1 Axes>"
      ]
     },
     "metadata": {
      "needs_background": "light"
     },
     "output_type": "display_data"
    }
   ],
   "source": [
    "_=[\n",
    "    avg_opt[0],np.array(avg_1).mean(),np.array(avg_2).mean(),np.array(avg_3).mean(),np.array(avg_4).mean(),np.array(avg_5).mean()\n",
    "]\n",
    "__=[0,1,10,20,30,40]\n",
    "print(_)\n",
    "print(__)\n",
    "print(np.array(_).shape)\n",
    "print(np.array(__).shape)\n",
    "plt.plot(__,_)\n",
    "         "
   ]
  },
  {
   "cell_type": "code",
   "execution_count": 64,
   "id": "93f589d6",
   "metadata": {},
   "outputs": [
    {
     "data": {
      "text/plain": [
       "Text(0, 0.5, 'max dff')"
      ]
     },
     "execution_count": 64,
     "metadata": {},
     "output_type": "execute_result"
    },
    {
     "data": {
      "image/png": "[encoded data removed]",
      "text/plain": [
       "<Figure size 432x288 with 1 Axes>"
      ]
     },
     "metadata": {
      "needs_background": "light"
     },
     "output_type": "display_data"
    }
   ],
   "source": [
    "plt.plot(fam_groups_opt,avg_max_opt)\n",
    "plt.xlabel('familiarty group')\n",
    "plt.ylabel('max dff')"
   ]
  },
  {
   "cell_type": "code",
   "execution_count": 66,
   "id": "50c20a3a",
   "metadata": {},
   "outputs": [
    {
     "data": {
      "text/plain": [
       "<matplotlib.legend.Legend at 0x7fcaddfedbb0>"
      ]
     },
     "execution_count": 66,
     "metadata": {},
     "output_type": "execute_result"
    },
    {
     "data": {
      "image/png": "[encoded data removed]",
      "text/plain": [
       "<Figure size 432x288 with 1 Axes>"
      ]
     },
     "metadata": {
      "needs_background": "light"
     },
     "output_type": "display_data"
    }
   ],
   "source": [
    "plt.plot(fam_groups_opt,avg_opt,label='Average latency')\n",
    "\n",
    "plt.plot(fam_groups_opt,avg_max_opt,label='Average max dff')\n",
    "plt.xlabel('familiarity group')\n",
    "plt.ylabel('Time (s)')\n",
    "plt.legend()\n",
    "\n",
    "\n"
   ]
  },
  {
   "cell_type": "markdown",
   "id": "a059d8a4",
   "metadata": {},
   "source": [
    "this doesn't give great results. as the latency reponse does not decrease in great amount after showing large number of showing the image. the algorithm might be wrong."
   ]
  },
  {
   "cell_type": "markdown",
   "id": "0f8fa8ab",
   "metadata": {},
   "source": [
    "## Calculating the latency response in different way."
   ]
  },
  {
   "cell_type": "code",
   "execution_count": 80,
   "id": "6f16535d",
   "metadata": {},
   "outputs": [
    {
     "name": "stdout",
     "output_type": "stream",
     "text": [
      "0 1\n",
      "[0]\n",
      "1 10\n",
      "[1 2 4 6 8]\n",
      "10 20\n",
      "[10 12 14 16 18]\n",
      "20 30\n",
      "[20 22 24 26 28]\n",
      "30 40\n",
      "[30 32 34 36 38]\n",
      "40 50\n",
      "[40 42 44 46 48]\n"
     ]
    }
   ],
   "source": [
    "fam_groups_alg_2=[0,1,10,20,30,40,50]\n",
    "\n",
    "resp_alg_2={}\n",
    "max_resp_alg_2={}\n",
    "common_start_time=310\n",
    "num_of_iter=550\n",
    "\n",
    "\n",
    "for i in range(len(fam_groups_alg_2)):\n",
    "    try:\n",
    "        current_lvl=fam_groups_alg_2[i]\n",
    "        next_lvl=fam_groups_alg_2[i+1]\n",
    "        lvl_downloaded=fam_groups[np.where((fam_groups>=current_lvl)&(fam_groups<next_lvl))]\n",
    "        for spec_lvl in lvl_downloaded:\n",
    "            if lvl in full_cat_exp_id_cells.keys():\n",
    "                for exp_key in full_cat_exp_id_cells[lvl]['Vip'].keys():\n",
    "                    if not full_cat_exp_id_cells[lvl]['Vip'][exp_key].size==0:\n",
    "    except:\n",
    "        pass"
   ]
  },
  {
   "cell_type": "markdown",
   "id": "e9d106a0",
   "metadata": {},
   "source": [
    "## Two dots for max dff considering prior exposure to image set only."
   ]
  },
  {
   "cell_type": "code",
   "execution_count": null,
   "id": "e2594008",
   "metadata": {},
   "outputs": [],
   "source": [
    "novel_dff= LinkedList()\n",
    "fam_dff=LinkedList()\n",
    "\n",
    "common_start_time=310\n",
    "num_of_iter=550\n",
    "\n",
    "\n",
    "for lvl in fam_groups:\n",
    "       if lvl in full_cat_exp_id_cells.keys():\n",
    "        for exp_key in full_cat_exp_id_cells[lvl]['Vip'].keys():\n",
    "            if not full_cat_exp_id_cells[lvl]['Vip'][exp_key].size==0:\n",
    "                stimulus_table_tmp = experiments[exp_key].stimulus_presentations\n",
    "                stimulus_table_tmp=stimulus_table_tmp[stimulus_table_tmp['image_name']=='im000']\n",
    "                for n_id in full_cat_exp_id_cells[lvl]['Vip'][exp_key]:\n",
    "                    stimuli_presentatoins_times=stimulus_table_tmp[stimulus_table_tmp['start_time']>=common_start_time]['start_time'].values\n",
    "                    presnet_count=0;\n",
    "                    for start_time in stimuli_presentatoins_times:\n",
    "                        tmp_test__ =neural_data[((neural_data['ophys_experiment_id']==exp_key)&(neural_data['cell_specimen_id']==n_id)&(neural_data['timestamps']>=start_time)&(neural_data['timestamps']<start_time+0.75))]\n",
    "                        response= tmp_test__['dff'].values\n",
    "                        if presnet_count==0:\n",
    "                            novel_dff.insert(max(response))\n",
    "                        else:\n",
    "                            fam_dff.insert(max(response))\n",
    "                            presnet_count =1\n",
    "\n",
    "\n",
    "\n",
    "\n",
    "\n",
    "                                "
   ]
  },
  {
   "cell_type": "code",
   "execution_count": null,
   "id": "3b2031fa",
   "metadata": {},
   "outputs": [],
   "source": [
    "\n",
    "count_dff_novel=0\n",
    "sum_dff_novel=0\n",
    "\n",
    "current = novel_dff.head\n",
    "while(current):\n",
    "    count_dff_novel +=1\n",
    "    sum_dff_novel +=current.data       \n",
    "    current = current.next\n",
    "mean_novel_dff=sum_dff_novel/count_dff_novel"
   ]
  },
  {
   "cell_type": "code",
   "execution_count": null,
   "id": "b5584042",
   "metadata": {},
   "outputs": [],
   "source": [
    "\n",
    "count_dff_fam=0\n",
    "sum_dff_fam=0\n",
    "\n",
    "current = fam_dff.head\n",
    "while(current):\n",
    "    count_dff_fam +=1\n",
    "    sum_dff_fam +=current.data       \n",
    "    current = current.next\n",
    "mean_fam_dff=sum_dff_fam/count_dff_fam\n"
   ]
  },
  {
   "cell_type": "code",
   "execution_count": null,
   "id": "76704118",
   "metadata": {},
   "outputs": [],
   "source": [
    "print(mean_novel_dff)\n",
    "print(mean_fam_dff)\n",
    "plt.plot([0,1],[mean_novel_dff,mean_fam_dff])\n",
    "plt.xlabel('familiarity')\n",
    "plt.ylabel('average max dff')\n",
    "\n"
   ]
  },
  {
   "cell_type": "markdown",
   "id": "083a8f32",
   "metadata": {},
   "source": [
    "## Two dots for every different targeted structure(VISp)\n"
   ]
  },
  {
   "cell_type": "code",
   "execution_count": null,
   "id": "84917168",
   "metadata": {},
   "outputs": [],
   "source": [
    "#targeted_structure\n",
    "novel_lat_visp=LinkedList()\n",
    "fam_lat_visp=LinkedList()\n",
    "max_dff_visp=LinkedList()\n",
    "\n",
    "common_start_time=310\n",
    "num_of_iter=550\n",
    "              \n",
    "\n",
    "\n",
    "\n",
    "for lvl in fam_groups:\n",
    "       if lvl in full_cat_exp_id_cells.keys():\n",
    "        for exp_key in full_cat_exp_id_cells[lvl]['Vip'].keys():\n",
    "            if not full_cat_exp_id_cells[lvl]['Vip'][exp_key].size==0 and expermintal_table.loc[exp_key,'targeted_structure']=='VISp':\n",
    "                stimulus_table_tmp = experiments[exp_key].stimulus_presentations\n",
    "                for n_id in full_cat_exp_id_cells[lvl]['Vip'][exp_key]:\n",
    "                    start_time_stimuli=stimulus_table_tmp[stimulus_table_tmp['start_time']>=common_start_time]['start_time'].values[0]\n",
    "                    tmp_test__ =neural_data[((neural_data['ophys_experiment_id']==exp_key)&(neural_data['cell_specimen_id']==n_id)&(neural_data['timestamps']>start_time_stimuli))]\n",
    "\n",
    "                    max_size=26#\n",
    "                    count=0;\n",
    "                    avg_resp={'resp':np.zeros(max_size)}\n",
    "                    for i in range(0,num_of_iter):\n",
    "                        tmp_tst=tmp_test__[((tmp_test__['timestamps']>=(i*0.75)+start_time_stimuli )&(tmp_test__['timestamps']<=((i*0.75)+start_time_stimuli+0.75)))]\n",
    "                        for j in range(len(tmp_tst['dff'].values)):\n",
    "                            avg_resp['resp'][j] +=tmp_tst['dff'].values[j]\n",
    "                        if not tmp_tst['timestamps'].values.size==0:\n",
    "                                count +=1\n",
    "\n",
    "                    response=(avg_resp['resp']/count)\n",
    "                    time=np.linspace(0,0.75,len(response))\n",
    "                    \n",
    "                                    \n",
    "                    if lvl==0:\n",
    "                        novel_lat_visp.insert(time[np.where(response == np.amax(response))])\n",
    "                        max_dff_visp.insert(max(response))\n",
    "                    else:\n",
    "                        fam_lat_visp.insert(time[np.where(response == np.amax(response))])\n",
    "                        max_dff_visp.insert(max(response))\n",
    "\n",
    "\n",
    "\n",
    "\n",
    "\n",
    "                                "
   ]
  },
  {
   "cell_type": "code",
   "execution_count": null,
   "id": "917bc8aa",
   "metadata": {},
   "outputs": [],
   "source": [
    "count_dff_novel_visp=0\n",
    "sum_dff_novel_visp=0\n",
    "\n",
    "current = max_dff_visp.head\n",
    "while(current):\n",
    "    count_dff_novel_visp +=1\n",
    "    sum_dff_novel_visp +=current.data       \n",
    "    current = current.next\n",
    "mean_max_dff_visp=sum_dff_novel_visp/count_dff_novel_visp"
   ]
  },
  {
   "cell_type": "code",
   "execution_count": null,
   "id": "574585dc",
   "metadata": {},
   "outputs": [],
   "source": [
    "count_fam_lat_visp=0\n",
    "sum_fam_lat_visp=0\n",
    "\n",
    "current = fam_lat_visp.head\n",
    "while(current):\n",
    "    count_fam_lat_visp +=1\n",
    "    sum_fam_lat_visp +=current.data       \n",
    "    current = current.next\n",
    "mean_fam_lat_visp=sum_fam_lat_visp/count_fam_lat_visp"
   ]
  },
  {
   "cell_type": "code",
   "execution_count": null,
   "id": "abc08837",
   "metadata": {},
   "outputs": [],
   "source": [
    "count_novel_lat_visp=0\n",
    "sum_novel_lat_visp=0\n",
    "\n",
    "current = novel_lat_visp.head\n",
    "while(current):\n",
    "    count_novel_lat_visp +=1\n",
    "    sum_novel_lat_visp +=current.data       \n",
    "    current = current.next\n",
    "mean_novel_lat_visp=sum_novel_lat_visp/count_novel_lat_visp"
   ]
  },
  {
   "cell_type": "markdown",
   "id": "124f3aa2",
   "metadata": {},
   "source": [
    "# Two dots considering prior exposure to image set only."
   ]
  },
  {
   "cell_type": "code",
   "execution_count": 250,
   "id": "ebec1057",
   "metadata": {},
   "outputs": [],
   "source": [
    "novel_lat=[]\n",
    "fam_lat=[]\n",
    "\n",
    "common_start_time=310\n",
    "num_of_iter=550\n",
    "\n",
    "\n",
    "for lvl in fam_groups:\n",
    "       if lvl in full_cat_exp_id_cells.keys():\n",
    "        for exp_key in full_cat_exp_id_cells[lvl]['Vip'].keys():\n",
    "            if not full_cat_exp_id_cells[lvl]['Vip'][exp_key].size==0:\n",
    "                stimulus_table_tmp = experiments[exp_key].stimulus_presentations.drop(columns = ['image_set']) \n",
    "                lst_lat=[]\n",
    "                for n_id in full_cat_exp_id_cells[lvl]['Vip'][exp_key]:\n",
    "                    start_time_stimuli=stimulus_table_tmp[stimulus_table_tmp['start_time']>=common_start_time]['start_time'].values[0]\n",
    "                    tmp_test__ =neural_data[((neural_data['ophys_experiment_id']==exp_key)&(neural_data['cell_specimen_id']==n_id)&(neural_data['timestamps']>start_time_stimuli))]\n",
    "\n",
    "                    max_size=0\n",
    "                    #get max size of array(Approximation)\n",
    "                    for i in range(0,num_of_iter):\n",
    "                        tmp_tst=tmp_test__[((tmp_test__['timestamps']>=(i*0.75)+start_time_stimuli )&(tmp_test__['timestamps']<=((i*0.75)+start_time_stimuli+0.75)))]\n",
    "                        max_size=max(max_size,len(tmp_tst['dff'].values))\n",
    "\n",
    "                    count=0;\n",
    "                    avg_resp={'resp':np.zeros(max_size)}\n",
    "                    for i in range(0,num_of_iter):\n",
    "                        tmp_tst=tmp_test__[((tmp_test__['timestamps']>=(i*0.75)+start_time_stimuli )&(tmp_test__['timestamps']<=((i*0.75)+start_time_stimuli+0.75)))]\n",
    "                        for j in range(len(tmp_tst['dff'].values)):\n",
    "                            avg_resp['resp'][j] +=tmp_tst['dff'].values[j]\n",
    "                        if not tmp_tst['timestamps'].values.size==0:\n",
    "                                count +=1\n",
    "\n",
    "                    response=(avg_resp['resp']/count)\n",
    "                    time=np.linspace(0,0.75,len(response))\n",
    "                    lst_lat.append(time[np.where(response == np.amax(response))])\n",
    "                    \n",
    "                if lvl==0:\n",
    "                    novel_lat.append(np.array(lst_lat).mean())\n",
    "                else:\n",
    "                    fam_lat.append(np.array(lst_lat).mean())\n",
    "\n",
    "mean_novel=np.array(novel_lat).mean()\n",
    "mean_fam=np.array(fam_lat).mean()\n",
    "\n",
    "\n",
    "\n",
    "\n",
    "\n",
    "\n",
    "                                "
   ]
  },
  {
   "cell_type": "code",
   "execution_count": 256,
   "id": "1a7d207b",
   "metadata": {},
   "outputs": [
    {
     "name": "stdout",
     "output_type": "stream",
     "text": [
      "0.4597332015810277\n",
      "0.36587796008985773\n"
     ]
    },
    {
     "data": {
      "text/plain": [
       "Text(0.5, 0, 'familiarity')"
      ]
     },
     "execution_count": 256,
     "metadata": {},
     "output_type": "execute_result"
    },
    {
     "data": {
      "image/png": "[encoded data removed]",
      "text/plain": [
       "<Figure size 432x288 with 1 Axes>"
      ]
     },
     "metadata": {
      "needs_background": "light"
     },
     "output_type": "display_data"
    }
   ],
   "source": [
    "print(mean_novel)\n",
    "print(mean_fam)\n",
    "plt.plot([0,1],[mean_novel,mean_fam])\n",
    "plt.xlabel('familiarity')\n",
    "#plt.ylalbel('avg latency response')"
   ]
  },
  {
   "cell_type": "markdown",
   "id": "be964b99",
   "metadata": {},
   "source": [
    "## Two dots 500 flashes only"
   ]
  },
  {
   "cell_type": "code",
   "execution_count": null,
   "id": "5386e534",
   "metadata": {},
   "outputs": [],
   "source": [
    "novel_lat_500=[]\n",
    "fam_lat_500=[]\n",
    "\n",
    "common_start_time=310\n",
    "num_of_iter=550\n",
    "\n",
    "\n",
    "for lvl in fam_groups:\n",
    "       if lvl in full_cat_exp_id_cells.keys():\n",
    "        for exp_key in full_cat_exp_id_cells[lvl]['Vip'].keys():\n",
    "            if not full_cat_exp_id_cells[lvl]['Vip'][exp_key].size==0:\n",
    "                \n",
    "                stimulus_table_tmp = experiments[exp_key].stimulus_presentations\n",
    "                stimulus_table_tmp=stimulus_table_tmp[stimulus_table_tmp['image_name']=='im000']\n",
    "                #lst_lat=[]\n",
    "                for n_id in full_cat_exp_id_cells[lvl]['Vip'][exp_key]:\n",
    "                    stimuli_presentatoins_times=stimulus_table_tmp[stimulus_table_tmp['start_time']>=common_start_time]['start_time'].values\n",
    "                    #lst_lat_stim=[]\n",
    "                    presnet_count=0;\n",
    "                    for start_time in stimuli_presentatoins_times:\n",
    "                        \n",
    "                        tmp_test__ =neural_data[((neural_data['ophys_experiment_id']==exp_key)&(neural_data['cell_specimen_id']==n_id)&(neural_data['timestamps']>=start_time)&(neural_data['timestamps']<start_time+0.75))]\n",
    "                        \n",
    "                        #max_size=26\n",
    "                        #lst_lat_stim.append(time[np.where(response == np.amax(tmp_test__['dff'].values))])\n",
    "                    \n",
    "                        ######\n",
    "                        #lst_lat.append(np.array(lst_lat_stim).mean())\n",
    "                        response= tmp_test__['dff'].values\n",
    "                        time=np.linspace(0,0.75,len(response))\n",
    "                        if presnet_count==0:\n",
    "                            novel_lat_500.append(time[np.where(response == np.amax(response))])\n",
    "                        else:\n",
    "                            fam_lat_500.append(time[np.where(response == np.amax(response))])\n",
    "                            presnet_count =1\n",
    "                        \n",
    "            \n",
    "                \n",
    "                    \n",
    "                    \n",
    "                    \n",
    "mean_novel_500=np.array(novel_lat_500).mean()\n",
    "mean_fam_500=np.array(fam_lat_500).mean()\n",
    "\n"
   ]
  },
  {
   "cell_type": "code",
   "execution_count": null,
   "id": "1a6d3785",
   "metadata": {},
   "outputs": [],
   "source": [
    "plt.plot([0,1],[mean_novel_500,mean_fam_500])\n",
    "plt.xlabel('familiarity')\n",
    "plt.ylalbel('avg latency response')"
   ]
  },
  {
   "cell_type": "markdown",
   "id": "dcb166c1",
   "metadata": {},
   "source": [
    "## Only for testing"
   ]
  },
  {
   "cell_type": "code",
   "execution_count": 43,
   "id": "31abb73f",
   "metadata": {},
   "outputs": [
    {
     "name": "stdout",
     "output_type": "stream",
     "text": [
      "['im000' 'im073' 'im054' 'im035' 'im106' 'omitted' 'im075' 'im031' 'im045']\n",
      "493\n",
      "479\n",
      "604\n",
      "535\n",
      "571\n",
      "170\n",
      "672\n"
     ]
    }
   ],
   "source": [
    "#print(full_cat_exp_id_cells)\n",
    "stimulus_table_tmp = experiments[795953296].stimulus_presentations\n",
    "print(stimulus_table_tmp['image_name'].unique())\n",
    "print(len(stimulus_table_tmp[stimulus_table_tmp['image_name']=='im000']))\n",
    "print(len(stimulus_table_tmp[stimulus_table_tmp['image_name']=='im073']))\n",
    "print(len(stimulus_table_tmp[stimulus_table_tmp['image_name']=='im054']))\n",
    "print(len(stimulus_table_tmp[stimulus_table_tmp['image_name']=='im035']))\n",
    "print(len(stimulus_table_tmp[stimulus_table_tmp['image_name']=='im106']))\n",
    "print(len(stimulus_table_tmp[stimulus_table_tmp['image_name']=='omitted']))\n",
    "print(len(stimulus_table_tmp[stimulus_table_tmp['image_name']=='im075']))\n"
   ]
  },
  {
   "cell_type": "code",
   "execution_count": 60,
   "id": "bffe565a",
   "metadata": {},
   "outputs": [
    {
     "name": "stdout",
     "output_type": "stream",
     "text": [
      "[0, 2, 4, 6, 10, 14, 16, 18, 20, 22, 24, 26, 28, 32, 36, 42, 44, 46, 48, 50, 52, 54, 56]\n",
      "[0.4597332015810277, 0.40064671353491227, 0.32936381074168797, 0.3987365291713118, 0.3358695652173913, 0.38363742236024845, 0.3575109766545298, 0.40828804347826086, 0.48011417903281706, 0.375746536072623, 0.43280632411067194, 0.4502508361204013, 0.31649616368286443, 0.3056696170838737, 0.3869047619047619, 0.33459238406183367, 0.31528669084821426, 0.3759191176470588, 0.38428730187727267, 0.4251571824381926, 0.3795704219187675, 0.28058379120879123, 0.30991586538461535]\n"
     ]
    }
   ],
   "source": [
    "print(fam_groups_opt)\n",
    "print(avg_opt)"
   ]
  },
  {
   "cell_type": "code",
   "execution_count": 139,
   "id": "dd3d02ce",
   "metadata": {},
   "outputs": [
    {
     "data": {
      "text/plain": [
       "Text(0.5, 1.0, '1-10 level')"
      ]
     },
     "execution_count": 139,
     "metadata": {},
     "output_type": "execute_result"
    },
    {
     "data": {
      "image/png": "[encoded data removed]",
      "text/plain": [
       "<Figure size 432x288 with 1 Axes>"
      ]
     },
     "metadata": {
      "needs_background": "light"
     },
     "output_type": "display_data"
    }
   ],
   "source": [
    "experiment_id=795953296\n",
    "neuro_id=1086490480\n",
    "common_start_time=310\n",
    "tmp_test__ =neural_data[((neural_data['ophys_experiment_id']==experiment_id)&(neural_data['cell_specimen_id']==neuro_id)&(neural_data['timestamps']>common_start_time))]\n",
    "start_time_for_neural=tmp_test__['timestamps'].values[0]\n",
    "\n",
    "stimulus_table_tmp = experiments[experiment_id].stimulus_presentations.drop(columns = ['image_set']) # dropping the 'image_set' column to avoid confusion. Image_set column contains a unique string for set of images presented in a session.\n",
    "start_index_stimulus=stimulus_table_tmp[stimulus_table_tmp['start_time']>=start_time_for_neural-0.5].index[0]\n",
    "for time in stimulus_table_tmp['start_time'].values[start_index_stimulus:start_index_stimulus+15]:\n",
    "     plt.axvline(x=time, ymin=0, ymax=1,color='r')\n",
    "\n",
    "for time in stimulus_table_tmp['stop_time'].values[1:15]:\n",
    "     plt.axvline(x=time, ymin=0, ymax=1,color='k')    \n",
    "\n",
    "plt.plot(tmp_test__['timestamps'][0:300],tmp_test__['dff'][0:300])\n",
    "plt.xlabel('Time(s)')\n",
    "plt.ylabel('dff(s)')\n",
    "plt.xlim((310,320))\n",
    "plt.title('1-10 level')"
   ]
  },
  {
   "cell_type": "code",
   "execution_count": null,
   "id": "1d6cd35e",
   "metadata": {},
   "outputs": [],
   "source": []
  },
  {
   "cell_type": "code",
   "execution_count": 189,
   "id": "b7e9308f",
   "metadata": {},
   "outputs": [
    {
     "data": {
      "text/plain": [
       "[<matplotlib.lines.Line2D at 0x7fc89d2b5ca0>]"
      ]
     },
     "execution_count": 189,
     "metadata": {},
     "output_type": "execute_result"
    },
    {
     "data": {
      "image/png": "[encoded data removed]",
      "text/plain": [
       "<Figure size 432x288 with 1 Axes>"
      ]
     },
     "metadata": {
      "needs_background": "light"
     },
     "output_type": "display_data"
    }
   ],
   "source": [
    "\n",
    "\n",
    "experiment_id=795953296\n",
    "avg_of_avg={0:[],100:[],200:[],300:[],400:[],500:[]}\n",
    "for neuro_id in full_cat_exp_id_cells[0]['Vip'][experiment_id]:\n",
    "                     \n",
    "    common_start_time=310\n",
    "\n",
    "    tmp_test__ =neural_data[((neural_data['ophys_experiment_id']==experiment_id)&(neural_data['cell_specimen_id']==neuro_id)&(neural_data['timestamps']>common_start_time))]\n",
    "    start_time_for_neural=tmp_test__['timestamps'].values[0]\n",
    "\n",
    "    stimulus_table_tmp = experiments[experiment_id].stimulus_presentations.drop(columns = ['image_set']) # dropping the 'image_set' column to avoid confusion. Image_set column contains a unique string for set of images presented in a session.\n",
    "    start_index_stimulus=stimulus_table_tmp[stimulus_table_tmp['start_time']>=start_time_for_neural-0.5].index[0]\n",
    "\n",
    "\n",
    "\n",
    "    fam_tst_groups=[0,100,200,300,400,500]\n",
    "\n",
    "    start_time_stimuli=stimulus_table_tmp[stimulus_table_tmp['start_time']>=common_start_time]['start_time'].values[0]\n",
    "    tmp_test__ =neural_data[((neural_data['ophys_experiment_id']==experiment_id)&(neural_data['cell_specimen_id']==neuro_id)&(neural_data['timestamps']>start_time_stimuli))]\n",
    "\n",
    "\n",
    "    avg_tst_resp=[]\n",
    "    for lvl in range(6):\n",
    "        try:\n",
    "            current_fam_tst=fam_tst_groups[lvl]\n",
    "            nxt_fam_tst=fam_tst_groups[lvl+1]\n",
    "            max_size=0\n",
    "            for i in range(current_fam_tst,nxt_fam_tst):\n",
    "                tmp_tst=tmp_test__[((tmp_test__['timestamps']>=(i*0.75)+start_time_stimuli )&(tmp_test__['timestamps']<=((i*0.75)+start_time_stimuli+0.75)))]\n",
    "                max_size=max(max_size,len(tmp_tst['dff'].values))\n",
    "\n",
    "            #avg_tst_resp.update({current_fam_tst:0})\n",
    "            lst_lat=np.zeros(max_size)\n",
    "            count=0;\n",
    "            for i in range(current_fam_tst,nxt_fam_tst):\n",
    "                tmp_tst=tmp_test__[((tmp_test__['timestamps']>=(i*0.75)+start_time_stimuli )&(tmp_test__['timestamps']<=((i*0.75)+start_time_stimuli+0.75)))]\n",
    "                for j in range(len(tmp_tst['dff'].values)):\n",
    "                    lst_lat[j] +=tmp_tst['dff'].values[j]\n",
    "                if not tmp_tst['timestamps'].values.size==0:\n",
    "                        count +=1\n",
    "\n",
    "\n",
    "            response=(lst_lat/count)\n",
    "            time=np.linspace(0,0.75,len(response))\n",
    "            avg_tst_resp.append(time[np.where(response == np.amax(response))][0])\n",
    "        except:\n",
    "           pass\n",
    "    avg_of_avg[0].append(avg_tst_resp[0])\n",
    "    avg_of_avg[100].append(avg_tst_resp[0])\n",
    "    avg_of_avg[200].append(avg_tst_resp[1])\n",
    "    avg_of_avg[300].append(avg_tst_resp[2])\n",
    "    avg_of_avg[400].append(avg_tst_resp[3])\n",
    "    \n",
    "avg_avg_opt=[]\n",
    "avg_avg_opt.append(np.array(avg_of_avg[0]).mean())\n",
    "avg_avg_opt.append(np.array(avg_of_avg[100]).mean())\n",
    "avg_avg_opt.append(np.array(avg_of_avg[200]).mean())\n",
    "avg_avg_opt.append(np.array(avg_of_avg[300]).mean())\n",
    "avg_avg_opt.append(np.array(avg_of_avg[400]).mean())\n",
    "plt.plot([0,10,200,300,400],avg_avg_opt)"
   ]
  },
  {
   "cell_type": "code",
   "execution_count": 194,
   "id": "fdf2b03c",
   "metadata": {},
   "outputs": [
    {
     "data": {
      "text/plain": [
       "[<matplotlib.lines.Line2D at 0x7fcb091c1f70>]"
      ]
     },
     "execution_count": 194,
     "metadata": {},
     "output_type": "execute_result"
    },
    {
     "data": {
      "image/png": "[encoded data removed]",
      "text/plain": [
       "<Figure size 432x288 with 1 Axes>"
      ]
     },
     "metadata": {
      "needs_background": "light"
     },
     "output_type": "display_data"
    }
   ],
   "source": [
    "\n",
    "experiment_id=796308505\n",
    "avg_of_avg={0:[],100:[],200:[],300:[],400:[],500:[]}\n",
    "for neuro_id in full_cat_exp_id_cells[2]['Vip'][experiment_id]:\n",
    "                     \n",
    "    common_start_time=310\n",
    "\n",
    "    tmp_test__ =neural_data[((neural_data['ophys_experiment_id']==experiment_id)&(neural_data['cell_specimen_id']==neuro_id)&(neural_data['timestamps']>common_start_time))]\n",
    "    start_time_for_neural=tmp_test__['timestamps'].values[0]\n",
    "\n",
    "    stimulus_table_tmp = experiments[experiment_id].stimulus_presentations.drop(columns = ['image_set']) # dropping the 'image_set' column to avoid confusion. Image_set column contains a unique string for set of images presented in a session.\n",
    "    start_index_stimulus=stimulus_table_tmp[stimulus_table_tmp['start_time']>=start_time_for_neural-0.5].index[0]\n",
    "\n",
    "\n",
    "\n",
    "    fam_tst_groups=[0,100,200,300,400,500]\n",
    "\n",
    "    start_time_stimuli=stimulus_table_tmp[stimulus_table_tmp['start_time']>=common_start_time]['start_time'].values[0]\n",
    "    tmp_test__ =neural_data[((neural_data['ophys_experiment_id']==experiment_id)&(neural_data['cell_specimen_id']==neuro_id)&(neural_data['timestamps']>start_time_stimuli))]\n",
    "\n",
    "\n",
    "    avg_tst_resp=[]\n",
    "    for lvl in range(6):\n",
    "        try:\n",
    "            current_fam_tst=fam_tst_groups[lvl]\n",
    "            nxt_fam_tst=fam_tst_groups[lvl+1]\n",
    "            max_size=0\n",
    "            for i in range(current_fam_tst,nxt_fam_tst):\n",
    "                tmp_tst=tmp_test__[((tmp_test__['timestamps']>=(i*0.75)+start_time_stimuli )&(tmp_test__['timestamps']<=((i*0.75)+start_time_stimuli+0.75)))]\n",
    "                max_size=max(max_size,len(tmp_tst['dff'].values))\n",
    "\n",
    "            #avg_tst_resp.update({current_fam_tst:0})\n",
    "            lst_lat=np.zeros(max_size)\n",
    "            count=0;\n",
    "            for i in range(current_fam_tst,nxt_fam_tst):\n",
    "                tmp_tst=tmp_test__[((tmp_test__['timestamps']>=(i*0.75)+start_time_stimuli )&(tmp_test__['timestamps']<=((i*0.75)+start_time_stimuli+0.75)))]\n",
    "                for j in range(len(tmp_tst['dff'].values)):\n",
    "                    lst_lat[j] +=tmp_tst['dff'].values[j]\n",
    "                if not tmp_tst['timestamps'].values.size==0:\n",
    "                        count +=1\n",
    "\n",
    "\n",
    "            response=(lst_lat/count)\n",
    "            time=np.linspace(0,0.75,len(response))\n",
    "            avg_tst_resp.append(time[np.where(response == np.amax(response))][0])\n",
    "        except:\n",
    "           pass\n",
    "    avg_of_avg[0].append(avg_tst_resp[0])\n",
    "    avg_of_avg[100].append(avg_tst_resp[0])\n",
    "    avg_of_avg[200].append(avg_tst_resp[1])\n",
    "    avg_of_avg[300].append(avg_tst_resp[2])\n",
    "    avg_of_avg[400].append(avg_tst_resp[3])\n",
    "    \n",
    "avg_avg_opt=[]\n",
    "avg_avg_opt.append(np.array(avg_of_avg[0]).mean())\n",
    "avg_avg_opt.append(np.array(avg_of_avg[100]).mean())\n",
    "avg_avg_opt.append(np.array(avg_of_avg[200]).mean())\n",
    "avg_avg_opt.append(np.array(avg_of_avg[300]).mean())\n",
    "avg_avg_opt.append(np.array(avg_of_avg[400]).mean())\n",
    "plt.plot([0,10,200,300,400],avg_avg_opt)"
   ]
  },
  {
   "cell_type": "code",
   "execution_count": 196,
   "id": "41f75a27",
   "metadata": {},
   "outputs": [
    {
     "data": {
      "text/plain": [
       "[<matplotlib.lines.Line2D at 0x7fc72af7f610>]"
      ]
     },
     "execution_count": 196,
     "metadata": {},
     "output_type": "execute_result"
    },
    {
     "data": {
      "image/png": "[encoded data removed]",
      "text/plain": [
       "<Figure size 432x288 with 1 Axes>"
      ]
     },
     "metadata": {
      "needs_background": "light"
     },
     "output_type": "display_data"
    }
   ],
   "source": [
    "\n",
    "experiment_id=833631914\n",
    "avg_of_avg={0:[],100:[],200:[],300:[],400:[],500:[]}\n",
    "for neuro_id in full_cat_exp_id_cells[4]['Vip'][experiment_id]:\n",
    "                     \n",
    "    common_start_time=310\n",
    "\n",
    "    tmp_test__ =neural_data[((neural_data['ophys_experiment_id']==experiment_id)&(neural_data['cell_specimen_id']==neuro_id)&(neural_data['timestamps']>common_start_time))]\n",
    "    start_time_for_neural=tmp_test__['timestamps'].values[0]\n",
    "\n",
    "    stimulus_table_tmp = experiments[experiment_id].stimulus_presentations.drop(columns = ['image_set']) # dropping the 'image_set' column to avoid confusion. Image_set column contains a unique string for set of images presented in a session.\n",
    "    start_index_stimulus=stimulus_table_tmp[stimulus_table_tmp['start_time']>=start_time_for_neural-0.5].index[0]\n",
    "\n",
    "\n",
    "\n",
    "    fam_tst_groups=[0,100,200,300,400,500]\n",
    "\n",
    "    start_time_stimuli=stimulus_table_tmp[stimulus_table_tmp['start_time']>=common_start_time]['start_time'].values[0]\n",
    "    tmp_test__ =neural_data[((neural_data['ophys_experiment_id']==experiment_id)&(neural_data['cell_specimen_id']==neuro_id)&(neural_data['timestamps']>start_time_stimuli))]\n",
    "\n",
    "\n",
    "    avg_tst_resp=[]\n",
    "    for lvl in range(6):\n",
    "        try:\n",
    "            current_fam_tst=fam_tst_groups[lvl]\n",
    "            nxt_fam_tst=fam_tst_groups[lvl+1]\n",
    "            max_size=0\n",
    "            for i in range(current_fam_tst,nxt_fam_tst):\n",
    "                tmp_tst=tmp_test__[((tmp_test__['timestamps']>=(i*0.75)+start_time_stimuli )&(tmp_test__['timestamps']<=((i*0.75)+start_time_stimuli+0.75)))]\n",
    "                max_size=max(max_size,len(tmp_tst['dff'].values))\n",
    "\n",
    "            #avg_tst_resp.update({current_fam_tst:0})\n",
    "            lst_lat=np.zeros(max_size)\n",
    "            count=0;\n",
    "            for i in range(current_fam_tst,nxt_fam_tst):\n",
    "                tmp_tst=tmp_test__[((tmp_test__['timestamps']>=(i*0.75)+start_time_stimuli )&(tmp_test__['timestamps']<=((i*0.75)+start_time_stimuli+0.75)))]\n",
    "                for j in range(len(tmp_tst['dff'].values)):\n",
    "                    lst_lat[j] +=tmp_tst['dff'].values[j]\n",
    "                if not tmp_tst['timestamps'].values.size==0:\n",
    "                        count +=1\n",
    "\n",
    "\n",
    "            response=(lst_lat/count)\n",
    "            time=np.linspace(0,0.75,len(response))\n",
    "            avg_tst_resp.append(time[np.where(response == np.amax(response))][0])\n",
    "        except:\n",
    "           pass\n",
    "    avg_of_avg[0].append(avg_tst_resp[0])\n",
    "    avg_of_avg[100].append(avg_tst_resp[0])\n",
    "    avg_of_avg[200].append(avg_tst_resp[1])\n",
    "    avg_of_avg[300].append(avg_tst_resp[2])\n",
    "    avg_of_avg[400].append(avg_tst_resp[3])\n",
    "    \n",
    "avg_avg_opt=[]\n",
    "avg_avg_opt.append(np.array(avg_of_avg[0]).mean())\n",
    "avg_avg_opt.append(np.array(avg_of_avg[100]).mean())\n",
    "avg_avg_opt.append(np.array(avg_of_avg[200]).mean())\n",
    "avg_avg_opt.append(np.array(avg_of_avg[300]).mean())\n",
    "avg_avg_opt.append(np.array(avg_of_avg[400]).mean())\n",
    "plt.plot([0,10,200,300,400],avg_avg_opt)"
   ]
  },
  {
   "cell_type": "code",
   "execution_count": 201,
   "id": "26f6e017",
   "metadata": {},
   "outputs": [
    {
     "data": {
      "text/plain": [
       "[<matplotlib.lines.Line2D at 0x7fc5ca6bd250>]"
      ]
     },
     "execution_count": 201,
     "metadata": {},
     "output_type": "execute_result"
    },
    {
     "data": {
      "image/png": "[encoded data removed]",
      "text/plain": [
       "<Figure size 432x288 with 1 Axes>"
      ]
     },
     "metadata": {
      "needs_background": "light"
     },
     "output_type": "display_data"
    }
   ],
   "source": [
    "\n",
    "experiment_id=1067133170\n",
    "avg_of_avg={0:[],100:[],200:[],300:[],400:[],500:[]}\n",
    "for neuro_id in full_cat_exp_id_cells[16]['Vip'][experiment_id]:\n",
    "                     \n",
    "    common_start_time=310\n",
    "\n",
    "    tmp_test__ =neural_data[((neural_data['ophys_experiment_id']==experiment_id)&(neural_data['cell_specimen_id']==neuro_id)&(neural_data['timestamps']>common_start_time))]\n",
    "    start_time_for_neural=tmp_test__['timestamps'].values[0]\n",
    "\n",
    "    stimulus_table_tmp = experiments[experiment_id].stimulus_presentations.drop(columns = ['image_set']) # dropping the 'image_set' column to avoid confusion. Image_set column contains a unique string for set of images presented in a session.\n",
    "    start_index_stimulus=stimulus_table_tmp[stimulus_table_tmp['start_time']>=start_time_for_neural-0.5].index[0]\n",
    "\n",
    "\n",
    "\n",
    "    fam_tst_groups=[0,100,200,300,400,500]\n",
    "\n",
    "    start_time_stimuli=stimulus_table_tmp[stimulus_table_tmp['start_time']>=common_start_time]['start_time'].values[0]\n",
    "    tmp_test__ =neural_data[((neural_data['ophys_experiment_id']==experiment_id)&(neural_data['cell_specimen_id']==neuro_id)&(neural_data['timestamps']>start_time_stimuli))]\n",
    "\n",
    "\n",
    "    avg_tst_resp=[]\n",
    "    for lvl in range(6):\n",
    "        try:\n",
    "            current_fam_tst=fam_tst_groups[lvl]\n",
    "            nxt_fam_tst=fam_tst_groups[lvl+1]\n",
    "            max_size=0\n",
    "            for i in range(current_fam_tst,nxt_fam_tst):\n",
    "                tmp_tst=tmp_test__[((tmp_test__['timestamps']>=(i*0.75)+start_time_stimuli )&(tmp_test__['timestamps']<=((i*0.75)+start_time_stimuli+0.75)))]\n",
    "                max_size=max(max_size,len(tmp_tst['dff'].values))\n",
    "\n",
    "            #avg_tst_resp.update({current_fam_tst:0})\n",
    "            lst_lat=np.zeros(max_size)\n",
    "            count=0;\n",
    "            for i in range(current_fam_tst,nxt_fam_tst):\n",
    "                tmp_tst=tmp_test__[((tmp_test__['timestamps']>=(i*0.75)+start_time_stimuli )&(tmp_test__['timestamps']<=((i*0.75)+start_time_stimuli+0.75)))]\n",
    "                for j in range(len(tmp_tst['dff'].values)):\n",
    "                    lst_lat[j] +=tmp_tst['dff'].values[j]\n",
    "                if not tmp_tst['timestamps'].values.size==0:\n",
    "                        count +=1\n",
    "\n",
    "\n",
    "            response=(lst_lat/count)\n",
    "            time=np.linspace(0,0.75,len(response))\n",
    "            avg_tst_resp.append(time[np.where(response == np.amax(response))][0])\n",
    "        except:\n",
    "           pass\n",
    "    avg_of_avg[0].append(avg_tst_resp[0])\n",
    "    avg_of_avg[100].append(avg_tst_resp[0])\n",
    "    avg_of_avg[200].append(avg_tst_resp[1])\n",
    "    avg_of_avg[300].append(avg_tst_resp[2])\n",
    "    avg_of_avg[400].append(avg_tst_resp[3])\n",
    "    \n",
    "avg_avg_opt=[]\n",
    "avg_avg_opt.append(np.array(avg_of_avg[0]).mean())\n",
    "avg_avg_opt.append(np.array(avg_of_avg[100]).mean())\n",
    "avg_avg_opt.append(np.array(avg_of_avg[200]).mean())\n",
    "avg_avg_opt.append(np.array(avg_of_avg[300]).mean())\n",
    "avg_avg_opt.append(np.array(avg_of_avg[400]).mean())\n",
    "plt.plot([0,10,200,300,400],avg_avg_opt)"
   ]
  },
  {
   "cell_type": "code",
   "execution_count": 202,
   "id": "f8c2434c",
   "metadata": {},
   "outputs": [
    {
     "data": {
      "text/plain": [
       "[<matplotlib.lines.Line2D at 0x7fc89d16a910>]"
      ]
     },
     "execution_count": 202,
     "metadata": {},
     "output_type": "execute_result"
    },
    {
     "data": {
      "image/png": "[encoded data removed]",
      "text/plain": [
       "<Figure size 432x288 with 1 Axes>"
      ]
     },
     "metadata": {
      "needs_background": "light"
     },
     "output_type": "display_data"
    }
   ],
   "source": [
    "\n",
    "experiment_id=932331541\n",
    "avg_of_avg={0:[],100:[],200:[],300:[],400:[],500:[]}\n",
    "for neuro_id in full_cat_exp_id_cells[26]['Vip'][experiment_id]:\n",
    "                     \n",
    "    common_start_time=310\n",
    "\n",
    "    tmp_test__ =neural_data[((neural_data['ophys_experiment_id']==experiment_id)&(neural_data['cell_specimen_id']==neuro_id)&(neural_data['timestamps']>common_start_time))]\n",
    "    start_time_for_neural=tmp_test__['timestamps'].values[0]\n",
    "\n",
    "    stimulus_table_tmp = experiments[experiment_id].stimulus_presentations.drop(columns = ['image_set']) # dropping the 'image_set' column to avoid confusion. Image_set column contains a unique string for set of images presented in a session.\n",
    "    start_index_stimulus=stimulus_table_tmp[stimulus_table_tmp['start_time']>=start_time_for_neural-0.5].index[0]\n",
    "\n",
    "\n",
    "\n",
    "    fam_tst_groups=[0,100,200,300,400,500]\n",
    "\n",
    "    start_time_stimuli=stimulus_table_tmp[stimulus_table_tmp['start_time']>=common_start_time]['start_time'].values[0]\n",
    "    tmp_test__ =neural_data[((neural_data['ophys_experiment_id']==experiment_id)&(neural_data['cell_specimen_id']==neuro_id)&(neural_data['timestamps']>start_time_stimuli))]\n",
    "\n",
    "\n",
    "    avg_tst_resp=[]\n",
    "    for lvl in range(6):\n",
    "        try:\n",
    "            current_fam_tst=fam_tst_groups[lvl]\n",
    "            nxt_fam_tst=fam_tst_groups[lvl+1]\n",
    "            max_size=0\n",
    "            for i in range(current_fam_tst,nxt_fam_tst):\n",
    "                tmp_tst=tmp_test__[((tmp_test__['timestamps']>=(i*0.75)+start_time_stimuli )&(tmp_test__['timestamps']<=((i*0.75)+start_time_stimuli+0.75)))]\n",
    "                max_size=max(max_size,len(tmp_tst['dff'].values))\n",
    "\n",
    "            #avg_tst_resp.update({current_fam_tst:0})\n",
    "            lst_lat=np.zeros(max_size)\n",
    "            count=0;\n",
    "            for i in range(current_fam_tst,nxt_fam_tst):\n",
    "                tmp_tst=tmp_test__[((tmp_test__['timestamps']>=(i*0.75)+start_time_stimuli )&(tmp_test__['timestamps']<=((i*0.75)+start_time_stimuli+0.75)))]\n",
    "                for j in range(len(tmp_tst['dff'].values)):\n",
    "                    lst_lat[j] +=tmp_tst['dff'].values[j]\n",
    "                if not tmp_tst['timestamps'].values.size==0:\n",
    "                        count +=1\n",
    "\n",
    "\n",
    "            response=(lst_lat/count)\n",
    "            time=np.linspace(0,0.75,len(response))\n",
    "            avg_tst_resp.append(time[np.where(response == np.amax(response))][0])\n",
    "        except:\n",
    "           pass\n",
    "    avg_of_avg[0].append(avg_tst_resp[0])\n",
    "    avg_of_avg[100].append(avg_tst_resp[0])\n",
    "    avg_of_avg[200].append(avg_tst_resp[1])\n",
    "    avg_of_avg[300].append(avg_tst_resp[2])\n",
    "    avg_of_avg[400].append(avg_tst_resp[3])\n",
    "    \n",
    "avg_avg_opt=[]\n",
    "avg_avg_opt.append(np.array(avg_of_avg[0]).mean())\n",
    "avg_avg_opt.append(np.array(avg_of_avg[100]).mean())\n",
    "avg_avg_opt.append(np.array(avg_of_avg[200]).mean())\n",
    "avg_avg_opt.append(np.array(avg_of_avg[300]).mean())\n",
    "avg_avg_opt.append(np.array(avg_of_avg[400]).mean())\n",
    "plt.plot([0,10,200,300,400],avg_avg_opt)"
   ]
  },
  {
   "cell_type": "code",
   "execution_count": 207,
   "id": "d1760355",
   "metadata": {},
   "outputs": [
    {
     "data": {
      "text/plain": [
       "[<matplotlib.lines.Line2D at 0x7fc89d1948b0>]"
      ]
     },
     "execution_count": 207,
     "metadata": {},
     "output_type": "execute_result"
    },
    {
     "data": {
      "image/png": "[encoded data removed]",
      "text/plain": [
       "<Figure size 432x288 with 1 Axes>"
      ]
     },
     "metadata": {
      "needs_background": "light"
     },
     "output_type": "display_data"
    }
   ],
   "source": [
    "\n",
    "experiment_id=1052412559\n",
    "avg_of_avg={0:[],100:[],200:[],300:[],400:[],500:[]}\n",
    "for neuro_id in full_cat_exp_id_cells[36]['Vip'][experiment_id]:\n",
    "                     \n",
    "    common_start_time=310\n",
    "\n",
    "    tmp_test__ =neural_data[((neural_data['ophys_experiment_id']==experiment_id)&(neural_data['cell_specimen_id']==neuro_id)&(neural_data['timestamps']>common_start_time))]\n",
    "    start_time_for_neural=tmp_test__['timestamps'].values[0]\n",
    "\n",
    "    stimulus_table_tmp = experiments[experiment_id].stimulus_presentations.drop(columns = ['image_set']) # dropping the 'image_set' column to avoid confusion. Image_set column contains a unique string for set of images presented in a session.\n",
    "    start_index_stimulus=stimulus_table_tmp[stimulus_table_tmp['start_time']>=start_time_for_neural-0.5].index[0]\n",
    "\n",
    "\n",
    "\n",
    "    fam_tst_groups=[0,100,200,300,400,500]\n",
    "\n",
    "    start_time_stimuli=stimulus_table_tmp[stimulus_table_tmp['start_time']>=common_start_time]['start_time'].values[0]\n",
    "    tmp_test__ =neural_data[((neural_data['ophys_experiment_id']==experiment_id)&(neural_data['cell_specimen_id']==neuro_id)&(neural_data['timestamps']>start_time_stimuli))]\n",
    "\n",
    "\n",
    "    avg_tst_resp=[]\n",
    "    for lvl in range(6):\n",
    "        try:\n",
    "            current_fam_tst=fam_tst_groups[lvl]\n",
    "            nxt_fam_tst=fam_tst_groups[lvl+1]\n",
    "            max_size=0\n",
    "            for i in range(current_fam_tst,nxt_fam_tst):\n",
    "                tmp_tst=tmp_test__[((tmp_test__['timestamps']>=(i*0.75)+start_time_stimuli )&(tmp_test__['timestamps']<=((i*0.75)+start_time_stimuli+0.75)))]\n",
    "                max_size=max(max_size,len(tmp_tst['dff'].values))\n",
    "\n",
    "            #avg_tst_resp.update({current_fam_tst:0})\n",
    "            lst_lat=np.zeros(max_size)\n",
    "            count=0;\n",
    "            for i in range(current_fam_tst,nxt_fam_tst):\n",
    "                tmp_tst=tmp_test__[((tmp_test__['timestamps']>=(i*0.75)+start_time_stimuli )&(tmp_test__['timestamps']<=((i*0.75)+start_time_stimuli+0.75)))]\n",
    "                for j in range(len(tmp_tst['dff'].values)):\n",
    "                    lst_lat[j] +=tmp_tst['dff'].values[j]\n",
    "                if not tmp_tst['timestamps'].values.size==0:\n",
    "                        count +=1\n",
    "\n",
    "\n",
    "            response=(lst_lat/count)\n",
    "            time=np.linspace(0,0.75,len(response))\n",
    "            avg_tst_resp.append(time[np.where(response == np.amax(response))][0])\n",
    "        except:\n",
    "           pass\n",
    "    avg_of_avg[0].append(avg_tst_resp[0])\n",
    "    avg_of_avg[100].append(avg_tst_resp[0])\n",
    "    avg_of_avg[200].append(avg_tst_resp[1])\n",
    "    avg_of_avg[300].append(avg_tst_resp[2])\n",
    "    avg_of_avg[400].append(avg_tst_resp[3])\n",
    "    \n",
    "avg_avg_opt=[]\n",
    "avg_avg_opt.append(np.array(avg_of_avg[0]).mean())\n",
    "avg_avg_opt.append(np.array(avg_of_avg[100]).mean())\n",
    "avg_avg_opt.append(np.array(avg_of_avg[200]).mean())\n",
    "avg_avg_opt.append(np.array(avg_of_avg[300]).mean())\n",
    "avg_avg_opt.append(np.array(avg_of_avg[400]).mean())\n",
    "plt.plot([0,10,200,300,400],avg_avg_opt)"
   ]
  },
  {
   "cell_type": "code",
   "execution_count": 208,
   "id": "ccf780c6",
   "metadata": {},
   "outputs": [
    {
     "data": {
      "text/plain": [
       "[<matplotlib.lines.Line2D at 0x7fc5ccd59550>]"
      ]
     },
     "execution_count": 208,
     "metadata": {},
     "output_type": "execute_result"
    },
    {
     "data": {
      "image/png": "[encoded data removed]",
      "text/plain": [
       "<Figure size 432x288 with 1 Axes>"
      ]
     },
     "metadata": {
      "needs_background": "light"
     },
     "output_type": "display_data"
    }
   ],
   "source": [
    "\n",
    "experiment_id=916803626\n",
    "avg_of_avg={0:[],100:[],200:[],300:[],400:[],500:[]}\n",
    "for neuro_id in full_cat_exp_id_cells[46]['Vip'][experiment_id]:\n",
    "                     \n",
    "    common_start_time=310\n",
    "\n",
    "    tmp_test__ =neural_data[((neural_data['ophys_experiment_id']==experiment_id)&(neural_data['cell_specimen_id']==neuro_id)&(neural_data['timestamps']>common_start_time))]\n",
    "    start_time_for_neural=tmp_test__['timestamps'].values[0]\n",
    "\n",
    "    stimulus_table_tmp = experiments[experiment_id].stimulus_presentations.drop(columns = ['image_set']) # dropping the 'image_set' column to avoid confusion. Image_set column contains a unique string for set of images presented in a session.\n",
    "    start_index_stimulus=stimulus_table_tmp[stimulus_table_tmp['start_time']>=start_time_for_neural-0.5].index[0]\n",
    "\n",
    "\n",
    "\n",
    "    fam_tst_groups=[0,100,200,300,400,500]\n",
    "\n",
    "    start_time_stimuli=stimulus_table_tmp[stimulus_table_tmp['start_time']>=common_start_time]['start_time'].values[0]\n",
    "    tmp_test__ =neural_data[((neural_data['ophys_experiment_id']==experiment_id)&(neural_data['cell_specimen_id']==neuro_id)&(neural_data['timestamps']>start_time_stimuli))]\n",
    "\n",
    "\n",
    "    avg_tst_resp=[]\n",
    "    for lvl in range(6):\n",
    "        try:\n",
    "            current_fam_tst=fam_tst_groups[lvl]\n",
    "            nxt_fam_tst=fam_tst_groups[lvl+1]\n",
    "            max_size=0\n",
    "            for i in range(current_fam_tst,nxt_fam_tst):\n",
    "                tmp_tst=tmp_test__[((tmp_test__['timestamps']>=(i*0.75)+start_time_stimuli )&(tmp_test__['timestamps']<=((i*0.75)+start_time_stimuli+0.75)))]\n",
    "                max_size=max(max_size,len(tmp_tst['dff'].values))\n",
    "\n",
    "            #avg_tst_resp.update({current_fam_tst:0})\n",
    "            lst_lat=np.zeros(max_size)\n",
    "            count=0;\n",
    "            for i in range(current_fam_tst,nxt_fam_tst):\n",
    "                tmp_tst=tmp_test__[((tmp_test__['timestamps']>=(i*0.75)+start_time_stimuli )&(tmp_test__['timestamps']<=((i*0.75)+start_time_stimuli+0.75)))]\n",
    "                for j in range(len(tmp_tst['dff'].values)):\n",
    "                    lst_lat[j] +=tmp_tst['dff'].values[j]\n",
    "                if not tmp_tst['timestamps'].values.size==0:\n",
    "                        count +=1\n",
    "\n",
    "\n",
    "            response=(lst_lat/count)\n",
    "            time=np.linspace(0,0.75,len(response))\n",
    "            avg_tst_resp.append(time[np.where(response == np.amax(response))][0])\n",
    "        except:\n",
    "           pass\n",
    "    avg_of_avg[0].append(avg_tst_resp[0])\n",
    "    avg_of_avg[100].append(avg_tst_resp[0])\n",
    "    avg_of_avg[200].append(avg_tst_resp[1])\n",
    "    avg_of_avg[300].append(avg_tst_resp[2])\n",
    "    avg_of_avg[400].append(avg_tst_resp[3])\n",
    "    \n",
    "avg_avg_opt=[]\n",
    "avg_avg_opt.append(np.array(avg_of_avg[0]).mean())\n",
    "avg_avg_opt.append(np.array(avg_of_avg[100]).mean())\n",
    "avg_avg_opt.append(np.array(avg_of_avg[200]).mean())\n",
    "avg_avg_opt.append(np.array(avg_of_avg[300]).mean())\n",
    "avg_avg_opt.append(np.array(avg_of_avg[400]).mean())\n",
    "plt.plot([0,10,200,300,400],avg_avg_opt)"
   ]
  },
  {
   "cell_type": "code",
   "execution_count": 211,
   "id": "0159c0f8",
   "metadata": {},
   "outputs": [
    {
     "data": {
      "text/plain": [
       "[<matplotlib.lines.Line2D at 0x7fc5af496790>]"
      ]
     },
     "execution_count": 211,
     "metadata": {},
     "output_type": "execute_result"
    },
    {
     "data": {
      "image/png": "[encoded data removed]",
      "text/plain": [
       "<Figure size 432x288 with 1 Axes>"
      ]
     },
     "metadata": {
      "needs_background": "light"
     },
     "output_type": "display_data"
    }
   ],
   "source": [
    "\n",
    "experiment_id=939471285\n",
    "avg_of_avg={0:[],100:[],200:[],300:[],400:[],500:[]}\n",
    "for neuro_id in full_cat_exp_id_cells[56]['Vip'][experiment_id]:\n",
    "                     \n",
    "    common_start_time=310\n",
    "\n",
    "    tmp_test__ =neural_data[((neural_data['ophys_experiment_id']==experiment_id)&(neural_data['cell_specimen_id']==neuro_id)&(neural_data['timestamps']>common_start_time))]\n",
    "    start_time_for_neural=tmp_test__['timestamps'].values[0]\n",
    "\n",
    "    stimulus_table_tmp = experiments[experiment_id].stimulus_presentations.drop(columns = ['image_set']) # dropping the 'image_set' column to avoid confusion. Image_set column contains a unique string for set of images presented in a session.\n",
    "    start_index_stimulus=stimulus_table_tmp[stimulus_table_tmp['start_time']>=start_time_for_neural-0.5].index[0]\n",
    "\n",
    "\n",
    "\n",
    "    fam_tst_groups=[0,100,200,300,400,500]\n",
    "\n",
    "    start_time_stimuli=stimulus_table_tmp[stimulus_table_tmp['start_time']>=common_start_time]['start_time'].values[0]\n",
    "    tmp_test__ =neural_data[((neural_data['ophys_experiment_id']==experiment_id)&(neural_data['cell_specimen_id']==neuro_id)&(neural_data['timestamps']>start_time_stimuli))]\n",
    "\n",
    "\n",
    "    avg_tst_resp=[]\n",
    "    for lvl in range(6):\n",
    "        try:\n",
    "            current_fam_tst=fam_tst_groups[lvl]\n",
    "            nxt_fam_tst=fam_tst_groups[lvl+1]\n",
    "            max_size=0\n",
    "            for i in range(current_fam_tst,nxt_fam_tst):\n",
    "                tmp_tst=tmp_test__[((tmp_test__['timestamps']>=(i*0.75)+start_time_stimuli )&(tmp_test__['timestamps']<=((i*0.75)+start_time_stimuli+0.75)))]\n",
    "                max_size=max(max_size,len(tmp_tst['dff'].values))\n",
    "\n",
    "            #avg_tst_resp.update({current_fam_tst:0})\n",
    "            lst_lat=np.zeros(max_size)\n",
    "            count=0;\n",
    "            for i in range(current_fam_tst,nxt_fam_tst):\n",
    "                tmp_tst=tmp_test__[((tmp_test__['timestamps']>=(i*0.75)+start_time_stimuli )&(tmp_test__['timestamps']<=((i*0.75)+start_time_stimuli+0.75)))]\n",
    "                for j in range(len(tmp_tst['dff'].values)):\n",
    "                    lst_lat[j] +=tmp_tst['dff'].values[j]\n",
    "                if not tmp_tst['timestamps'].values.size==0:\n",
    "                        count +=1\n",
    "\n",
    "\n",
    "            response=(lst_lat/count)\n",
    "            time=np.linspace(0,0.75,len(response))\n",
    "            avg_tst_resp.append(time[np.where(response == np.amax(response))][0])\n",
    "        except:\n",
    "           pass\n",
    "    avg_of_avg[0].append(avg_tst_resp[0])\n",
    "    avg_of_avg[100].append(avg_tst_resp[0])\n",
    "    avg_of_avg[200].append(avg_tst_resp[1])\n",
    "    avg_of_avg[300].append(avg_tst_resp[2])\n",
    "    avg_of_avg[400].append(avg_tst_resp[3])\n",
    "    \n",
    "avg_avg_opt=[]\n",
    "avg_avg_opt.append(np.array(avg_of_avg[0]).mean())\n",
    "avg_avg_opt.append(np.array(avg_of_avg[100]).mean())\n",
    "avg_avg_opt.append(np.array(avg_of_avg[200]).mean())\n",
    "avg_avg_opt.append(np.array(avg_of_avg[300]).mean())\n",
    "avg_avg_opt.append(np.array(avg_of_avg[400]).mean())\n",
    "plt.plot([0,10,200,300,400],avg_avg_opt)"
   ]
  },
  {
   "cell_type": "code",
   "execution_count": 210,
   "id": "d6fef575",
   "metadata": {},
   "outputs": [
    {
     "name": "stdout",
     "output_type": "stream",
     "text": [
      "{939471285: array([1086614788, 1086617091, 1086612108, 1086611751, 1086611973,\n",
      "       1086611616, 1086617154, 1086611370, 1086617281, 1086617333,\n",
      "       1086612357, 1086611566, 1086617446, 1086613543, 1086611511,\n",
      "       1086615332, 1086615171, 1086613390, 1086612839, 1086611875,\n",
      "       1086612208, 1086615562, 1086614406, 1086613057, 1086613681,\n",
      "       1086615071]), 939471298: array([1086614167, 1086612760, 1086613571, 1086619576, 1086622574,\n",
      "       1086614561, 1086613892, 1086617380, 1086619162, 1086613421,\n",
      "       1086613239, 1086616011, 1086614769, 1086614990, 1086615161,\n",
      "       1086619643, 1086616538, 1086619782, 1086620847, 1086617850,\n",
      "       1086615711, 1086616782, 1086616905, 1086615292]), 939471290: array([1086616916, 1086618263, 1086616372, 1086616570, 1086621207,\n",
      "       1086618537]), 939471278: array([1086617963, 1086617759, 1086617479, 1086621143, 1086616882,\n",
      "       1086617069, 1086619172, 1086616124, 1086615960, 1086616320,\n",
      "       1086622167, 1086619386, 1086616552, 1086617319, 1086618949,\n",
      "       1086618466, 1086618632, 1086618778, 1086618119, 1086618325]), 939471272: array([1086618141, 1086614697, 1086615504, 1086615392, 1086614846,\n",
      "       1086616210, 1086616497, 1086613409, 1086614254, 1086614497,\n",
      "       1086615111, 1086615251, 1086616341, 1086617782, 1086616635,\n",
      "       1086616731, 1086616992, 1086617183, 1086617426, 1086614618]), 939471282: array([1086617522, 1086618582, 1086618026, 1086619723, 1086617684,\n",
      "       1086618271, 1086619875, 1086618766, 1086618894, 1086619184,\n",
      "       1086619347, 1086618143]), 939471269: array([1086616121, 1086618050, 1086616222, 1086616031, 1086614265,\n",
      "       1086616450, 1086614616, 1086615927, 1086613942, 1086613525])}\n"
     ]
    }
   ],
   "source": [
    "print(full_cat_exp_id_cells[56]['Vip'])\n",
    "#print(avg_tst_resp)"
   ]
  },
  {
   "cell_type": "code",
   "execution_count": 221,
   "id": "405611f3",
   "metadata": {},
   "outputs": [
    {
     "name": "stdout",
     "output_type": "stream",
     "text": [
      "{0: {'Vip': {795953296: array([1086493416, 1086491936, 1086491347, 1086491059, 1086493697,\n",
      "       1086491308, 1086490897, 1086491006, 1086491873, 1086490790,\n",
      "       1086490745, 1086490937, 1086490441, 1086492307, 1086490480,\n",
      "       1086490397, 1086490680, 1086490597, 1086490510, 1086492174,\n",
      "       1086491165, 1086491195, 1086491237, 1086491281, 1086491757,\n",
      "       1086491118, 1086492406, 1086491491, 1086491530, 1086492221,\n",
      "       1086491597, 1086491653, 1086490719]), 830093338: array([1086493993, 1086493441, 1086493543, 1086493384, 1086494677,\n",
      "       1086494581, 1086494760, 1086494176, 1086493808, 1086494288,\n",
      "       1086494149, 1086494248, 1086492984, 1086492915, 1086495267,\n",
      "       1086494076, 1086494537, 1086494863, 1086494804, 1086493148,\n",
      "       1086493213, 1086493082]), 968651977: array([], dtype=int64), 1050762972: array([], dtype=int64), 1050762969: array([], dtype=int64), 1050762966: array([], dtype=int64), 1050762977: array([], dtype=int64), 1050762974: array([], dtype=int64), 1050762975: array([], dtype=int64), 950833329: array([], dtype=int64), 932372699: array([], dtype=int64), 932372707: array([], dtype=int64), 932372711: array([], dtype=int64), 932372701: array([], dtype=int64), 932372705: array([], dtype=int64), 1067647876: array([], dtype=int64), 1067648397: array([], dtype=int64), 1053997501: array([], dtype=int64), 993862120: array([], dtype=int64), 849233390: array([], dtype=int64), 849233398: array([], dtype=int64), 849233402: array([], dtype=int64), 849233396: array([], dtype=int64), 849233404: array([], dtype=int64), 849233400: array([], dtype=int64), 882968566: array([], dtype=int64), 882968574: array([], dtype=int64), 882968568: array([], dtype=int64), 882968562: array([], dtype=int64), 882968564: array([], dtype=int64), 948689207: array([], dtype=int64), 948689205: array([], dtype=int64), 948689203: array([], dtype=int64), 948689192: array([], dtype=int64), 948689198: array([], dtype=int64), 948689196: array([], dtype=int64), 1004403369: array([], dtype=int64), 1005123568: array([], dtype=int64), 877669824: array([], dtype=int64), 877669819: array([], dtype=int64), 877669826: array([], dtype=int64), 877669815: array([], dtype=int64), 877669811: array([], dtype=int64), 877669817: array([], dtype=int64), 877669822: array([], dtype=int64), 921024195: array([], dtype=int64), 921024189: array([], dtype=int64), 921024201: array([], dtype=int64), 921024197: array([], dtype=int64), 921024187: array([], dtype=int64), 921024193: array([], dtype=int64), 964440177: array([], dtype=int64)}}, 1: {'Vip': {796108483: array([], dtype=int64), 830700800: array([], dtype=int64), 969809655: array([], dtype=int64), 953443028: array([], dtype=int64), 946513780: array([], dtype=int64), 946513790: array([], dtype=int64), 946513782: array([], dtype=int64), 946513788: array([], dtype=int64), 1068173247: array([], dtype=int64), 1054266228: array([], dtype=int64), 994053909: array([], dtype=int64), 851085109: array([], dtype=int64), 851085092: array([], dtype=int64), 851085105: array([], dtype=int64), 851085100: array([], dtype=int64), 851085103: array([], dtype=int64), 851085107: array([], dtype=int64), 885146237: array([], dtype=int64), 885146239: array([], dtype=int64), 885146245: array([], dtype=int64), 885146243: array([], dtype=int64), 885146249: array([], dtype=int64), 949723715: array([], dtype=int64), 949723713: array([], dtype=int64), 949723709: array([], dtype=int64), 949723723: array([], dtype=int64), 949723721: array([], dtype=int64), 949723719: array([], dtype=int64), 949723717: array([], dtype=int64), 1004890922: array([], dtype=int64), 1005299957: array([], dtype=int64), 877057349: array([], dtype=int64), 877057357: array([], dtype=int64), 877057341: array([], dtype=int64), 877057354: array([], dtype=int64), 877057351: array([], dtype=int64), 877057344: array([], dtype=int64), 877057336: array([], dtype=int64), 922122734: array([], dtype=int64), 922122728: array([], dtype=int64), 922122730: array([], dtype=int64), 922122742: array([], dtype=int64), 965228771: array([], dtype=int64)}}, 2: {'Vip': {796308505: array([1086493199, 1086491118, 1086491237, 1086491281, 1086492174,\n",
      "       1086493229, 1086491195, 1086492307, 1086490510, 1086493416,\n",
      "       1086491936, 1086492965, 1086490680, 1086490719, 1086490597,\n",
      "       1086490644, 1086490397, 1086490745, 1086492011, 1086490897,\n",
      "       1086491873, 1086490937, 1086492575, 1086492722, 1086490480,\n",
      "       1086493171, 1086491347, 1086490565, 1086491308, 1086491059,\n",
      "       1086491083, 1086492088, 1086491653, 1086491729, 1086492807,\n",
      "       1086491491, 1086492931, 1086491530, 1086492221, 1086493061,\n",
      "       1086490441, 1086491165, 1086490966, 1086491006, 1086491757,\n",
      "       1086493911, 1086492406, 1086491597, 1086490790]), 832115263: array([], dtype=int64), 938001540: array([1086493072, 1086492919, 1086491953, 1086492071, 1086492229,\n",
      "       1086492168, 1086491848, 1086492277, 1086492344, 1086492391,\n",
      "       1086492555, 1086492624, 1086492697]), 939319851: array([], dtype=int64), 971280274: array([], dtype=int64), 972200901: array([], dtype=int64), 1051249031: array([], dtype=int64), 1051249026: array([], dtype=int64), 1051249029: array([], dtype=int64), 1051460018: array([], dtype=int64), 1051460016: array([], dtype=int64), 958435448: array([], dtype=int64), 948704864: array([], dtype=int64), 948704866: array([], dtype=int64), 948704870: array([], dtype=int64), 948704862: array([], dtype=int64), 948704868: array([], dtype=int64), 948704860: array([], dtype=int64), 935514362: array([], dtype=int64), 935514373: array([], dtype=int64), 935514378: array([], dtype=int64), 935514360: array([], dtype=int64), 935514368: array([], dtype=int64), 935514375: array([], dtype=int64), 935514366: array([], dtype=int64), 1069286458: array([], dtype=int64), 1069286452: array([], dtype=int64), 1054813047: array([], dtype=int64), 994791582: array([], dtype=int64), 994956406: array([], dtype=int64), 853362765: array([], dtype=int64), 853362775: array([], dtype=int64), 853362777: array([], dtype=int64), 853362771: array([], dtype=int64), 853362773: array([], dtype=int64), 886587170: array([], dtype=int64), 886587164: array([], dtype=int64), 886587166: array([], dtype=int64), 886587172: array([], dtype=int64), 886587174: array([], dtype=int64), 886587162: array([], dtype=int64), 886587168: array([], dtype=int64), 886587160: array([], dtype=int64), 951213217: array([], dtype=int64), 951213209: array([], dtype=int64), 951213207: array([], dtype=int64), 951213203: array([], dtype=int64), 951213215: array([], dtype=int64), 951213211: array([], dtype=int64), 1006270853: array([], dtype=int64), 924198889: array([], dtype=int64), 924198895: array([], dtype=int64), 924198891: array([], dtype=int64), 924198883: array([], dtype=int64), 924198885: array([], dtype=int64), 929653466: array([], dtype=int64), 929653479: array([], dtype=int64), 929653468: array([], dtype=int64), 929653474: array([], dtype=int64), 805784331: array([], dtype=int64), 965928394: array([], dtype=int64)}}, 4: {'Vip': {833631914: array([1086494677, 1086493543, 1086494760, 1086494581, 1086494076,\n",
      "       1086494176, 1086495219, 1086494288, 1086493808, 1086492984,\n",
      "       1086493993, 1086493308, 1086493384, 1086493082, 1086494804,\n",
      "       1086492915, 1086493213]), 940354181: array([1086491848, 1086492919, 1086491953, 1086492030, 1086492071,\n",
      "       1086492697, 1086493022, 1086492880, 1086493047, 1086493180,\n",
      "       1086492555, 1086492624]), 936500611: array([], dtype=int64), 936500596: array([], dtype=int64), 936500623: array([], dtype=int64), 936500631: array([], dtype=int64), 936500602: array([], dtype=int64), 936500617: array([], dtype=int64), 936500627: array([], dtype=int64), 940433470: array([], dtype=int64), 940433468: array([], dtype=int64), 940433478: array([], dtype=int64), 940433466: array([], dtype=int64), 940433476: array([], dtype=int64), 940433474: array([], dtype=int64), 940433480: array([], dtype=int64), 887386989: array([], dtype=int64), 887386977: array([], dtype=int64), 887386979: array([], dtype=int64), 887386974: array([], dtype=int64), 887386991: array([], dtype=int64), 887386981: array([], dtype=int64), 888876949: array([], dtype=int64), 888876943: array([], dtype=int64), 888876941: array([], dtype=int64), 888876947: array([], dtype=int64), 888876951: array([], dtype=int64), 888876939: array([], dtype=int64), 1006511150: array([], dtype=int64), 1006813726: array([], dtype=int64), 807753318: array([], dtype=int64), 808621958: array([], dtype=int64)}}, 6: {'Vip': {1071070929: array([1086631138, 1086631077, 1086631390, 1086631342, 1086633221,\n",
      "       1086631288, 1086632408, 1086630628, 1086632542, 1086633247,\n",
      "       1086632097, 1086630543, 1086632335, 1086631567, 1086631455,\n",
      "       1086631205, 1086631720, 1086631914, 1086632192, 1086632371,\n",
      "       1086630685, 1086632558, 1086633283, 1086632005, 1086631620,\n",
      "       1086632159]), 1071440875: array([], dtype=int64), 1056171522: array([1086608874, 1086609716, 1086609998, 1086609031, 1086609651,\n",
      "       1086609332, 1086609408, 1086609466]), 1056171531: array([1086609690, 1086610142, 1086609789, 1086609639, 1086609989,\n",
      "       1086610075]), 1057725798: array([], dtype=int64), 1057725806: array([], dtype=int64), 1057725804: array([], dtype=int64), 891108763: array([], dtype=int64), 891108765: array([], dtype=int64), 891108767: array([], dtype=int64), 891108758: array([], dtype=int64), 891108769: array([], dtype=int64), 891108773: array([], dtype=int64), 891108760: array([], dtype=int64)}}, 10: {'Vip': {826587940: array([], dtype=int64), 1065523118: array([1086632066, 1086630477, 1086630543, 1086630685, 1086632639,\n",
      "       1086632131, 1086630818, 1086630937, 1086631018, 1086631077,\n",
      "       1086631138, 1086631205, 1086631288, 1086631342, 1086631390,\n",
      "       1086631455, 1086631567, 1086631620, 1086632159, 1086632788,\n",
      "       1086631673, 1086632803, 1086631720, 1086631784, 1086632849,\n",
      "       1086632852, 1086631879, 1086631914, 1086631967, 1086632005]), 992868972: array([1086500756, 1086500839, 1086500898, 1086500959, 1086501038,\n",
      "       1086501116, 1086501134, 1086501226, 1086501280, 1086501383,\n",
      "       1086501454, 1086501538, 1086501601, 1086501688, 1086502155]), 993341877: array([], dtype=int64)}}, 12: {'Vip': {1067133175: array([], dtype=int64), 1065523124: array([], dtype=int64), 993590480: array([], dtype=int64), 1003123177: array([], dtype=int64)}}, 14: {'Vip': {938003662: array([], dtype=int64), 1065966776: array([1086636504, 1086635667, 1086635780, 1086638857, 1086637718,\n",
      "       1086637780, 1086635952, 1086636001, 1086635909, 1086636072,\n",
      "       1086636427, 1086636301, 1086636172, 1086636616, 1086636740,\n",
      "       1086636841, 1086636900, 1086637323, 1086636976, 1086637236,\n",
      "       1086637037]), 1066177684: array([], dtype=int64), 1003444808: array([1086570589, 1086557082, 1086565735, 1086564793, 1086564955,\n",
      "       1086570977, 1086558904, 1086555432, 1086565038, 1086557997,\n",
      "       1086561830, 1086560592, 1086571350, 1086571447, 1086565124,\n",
      "       1086571653, 1086556696, 1086565788, 1086564241, 1086571974,\n",
      "       1086563032, 1086563829, 1086562169, 1086562430]), 1003770203: array([], dtype=int64), 875564408: array([], dtype=int64), 875564411: array([], dtype=int64), 875564417: array([], dtype=int64), 875564398: array([], dtype=int64), 875564370: array([], dtype=int64), 875564401: array([], dtype=int64), 875564420: array([], dtype=int64), 872499158: array([], dtype=int64), 872499144: array([], dtype=int64), 872499154: array([], dtype=int64), 872499160: array([], dtype=int64), 872499152: array([], dtype=int64), 872499156: array([], dtype=int64), 872499150: array([], dtype=int64), 803736273: array([], dtype=int64)}}, 16: {'Vip': {836258957: array([], dtype=int64), 940352989: array([], dtype=int64), 1067133170: array([1086635735, 1086635853, 1086637622, 1086635667, 1086635780,\n",
      "       1086638201, 1086638074, 1086635952, 1086637718, 1086636001,\n",
      "       1086636172, 1086636301, 1086636072, 1086636370, 1086638301,\n",
      "       1086636504, 1086636550, 1086636616, 1086638131, 1086636740,\n",
      "       1086636841, 1086638092, 1086636900, 1086636976, 1086637037,\n",
      "       1086638017, 1086638047, 1086637236, 1086637323]), 1004136916: array([1086556416, 1086559782, 1086561830, 1086569063, 1086560048,\n",
      "       1086556094, 1086557082, 1086557997, 1086556696, 1086559446,\n",
      "       1086566230, 1086569258, 1086558904, 1086555432, 1086557477,\n",
      "       1086555190, 1086563384, 1086565735, 1086560926, 1086565124,\n",
      "       1086561466, 1086567017, 1086560592, 1086563032, 1086563829,\n",
      "       1086562780, 1086562430, 1086565528]), 1004405226: array([], dtype=int64), 873970527: array([], dtype=int64), 873970535: array([], dtype=int64), 873970531: array([], dtype=int64), 873970521: array([], dtype=int64), 873970533: array([], dtype=int64), 873970525: array([], dtype=int64), 873970529: array([], dtype=int64), 809497730: array([], dtype=int64)}}, 18: {'Vip': {792815735: array([], dtype=int64), 836911939: array([1086494581, 1086493543, 1086493384, 1086494076, 1086494176,\n",
      "       1086494288, 1086493687, 1086493993, 1086493148, 1086494402,\n",
      "       1086494537, 1086493213, 1086493082, 1086494804, 1086494248,\n",
      "       1086492984]), 943134119: array([], dtype=int64), 1004889552: array([1086555190, 1086555432, 1086556094, 1086556696, 1086557082,\n",
      "       1086563032, 1086567589, 1086558341, 1086566230, 1086566746,\n",
      "       1086567897, 1086559188, 1086559446, 1086558904, 1086559782,\n",
      "       1086560048, 1086567017, 1086560592, 1086563384, 1086562780,\n",
      "       1086563829, 1086561466, 1086565528, 1086568461]), 875808247: array([], dtype=int64), 875808249: array([], dtype=int64), 875808245: array([], dtype=int64), 875808253: array([], dtype=int64), 875808255: array([], dtype=int64), 875808251: array([], dtype=int64), 875808238: array([], dtype=int64)}}, 20: {'Vip': {795073741: array([], dtype=int64), 945473009: array([1086514974, 1086514571, 1086515627, 1086515981, 1086516133,\n",
      "       1086516497, 1086515178, 1086515423, 1086516905]), 947716576: array([], dtype=int64), 847267616: array([1086505822, 1086501948, 1086502049, 1086502125, 1086502409,\n",
      "       1086506181, 1086506207, 1086506237, 1086506330, 1086502713,\n",
      "       1086502852, 1086504632, 1086506700, 1086502911, 1086504682,\n",
      "       1086502993, 1086506847, 1086506901, 1086507095, 1086503200,\n",
      "       1086503395, 1086507202, 1086503457, 1086503893, 1086504183]), 847267622: array([1086503465, 1086501370, 1086503568, 1086503624, 1086501466,\n",
      "       1086501719, 1086501825, 1086501922, 1086503764, 1086502017,\n",
      "       1086502251, 1086503941, 1086502393, 1086502454, 1086504078,\n",
      "       1086504116, 1086502559, 1086504209, 1086504281, 1086502719,\n",
      "       1086504333, 1086502810, 1086502899, 1086503123]), 847267624: array([1086512261, 1086512470, 1086517629, 1086512613, 1086512699,\n",
      "       1086516047, 1086513015, 1086516106, 1086513277, 1086513513,\n",
      "       1086513586, 1086518259, 1086513969, 1086514148, 1086514382,\n",
      "       1086514771, 1086514997, 1086515236]), 847267628: array([1086509483, 1086509704, 1086509814, 1086512931, 1086510762]), 847267630: array([1086673040, 1086673062, 1086673073, 1086673085, 1086673634,\n",
      "       1086673646, 1086673451, 1086673133, 1086673504, 1086673159,\n",
      "       1086673529, 1086673510, 1086673191, 1086673461, 1086673209,\n",
      "       1086673490, 1086673225, 1086673252, 1086673726, 1086673265,\n",
      "       1086673279, 1086673299, 1086673748, 1086673356, 1086673520,\n",
      "       1086673376]), 847267626: array([1086513599, 1086516698, 1086514260, 1086514444, 1086514603,\n",
      "       1086514954, 1086517612, 1086516885, 1086517070, 1086519006,\n",
      "       1086515397, 1086515602, 1086515937, 1086517818, 1086516181,\n",
      "       1086516555, 1086518297]), 848039121: array([], dtype=int64), 848039123: array([], dtype=int64), 848039125: array([], dtype=int64)}}, 22: {'Vip': {798404219: array([1086492088, 1086493365, 1086491165, 1086491118, 1086491059,\n",
      "       1086490441, 1086493967, 1086490680, 1086490597, 1086490644,\n",
      "       1086492307, 1086490397, 1086490897, 1086490790, 1086492965,\n",
      "       1086490480, 1086493416, 1086490510, 1086491308, 1086491347,\n",
      "       1086490565, 1086493991, 1086491281, 1086491757, 1086491653,\n",
      "       1086491491, 1086491006, 1086491083, 1086492011, 1086490745,\n",
      "       1086491195, 1086491237, 1086493007, 1086492931, 1086491597,\n",
      "       1086492499, 1086492406, 1086491530, 1086490719]), 948507789: array([1086514803, 1086514009, 1086514265, 1086516497, 1086514974,\n",
      "       1086514571, 1086516133, 1086516313, 1086516697, 1086516905,\n",
      "       1086515178, 1086515423, 1086515627, 1086515981]), 848760988: array([], dtype=int64), 848760990: array([], dtype=int64), 848760985: array([], dtype=int64), 848760983: array([], dtype=int64)}}, 24: {'Vip': {960953590: array([1086497765, 1086499205, 1086498401, 1086499596, 1086498544,\n",
      "       1086498699, 1086498800, 1086498889, 1086499249, 1086498976,\n",
      "       1086499101]), 961281512: array([], dtype=int64)}}, 26: {'Vip': {932331541: array([1086491848, 1086491953, 1086492030, 1086492168, 1086492229,\n",
      "       1086492277, 1086492344, 1086492391, 1086492880, 1086492505,\n",
      "       1086492555, 1086492624, 1086492697]), 933338719: array([], dtype=int64), 962473308: array([1086497765, 1086499205, 1086498125, 1086498401, 1086498699,\n",
      "       1086498800, 1086498889, 1086499684, 1086498976, 1086499101,\n",
      "       1086498544]), 963394081: array([], dtype=int64)}}, 28: {'Vip': {934476801: array([1086492391, 1086492880, 1086492505, 1086492624, 1086492697,\n",
      "       1086493022, 1086492277, 1086492344, 1086492030, 1086493047,\n",
      "       1086492555, 1086492919, 1086491953, 1086492168, 1086492229,\n",
      "       1086491848, 1086492071])}}, 32: {'Vip': {942596363: array([1086610792, 1086611037, 1086611112, 1086616209, 1086611513,\n",
      "       1086611596, 1086616255, 1086611966, 1086612107, 1086612517,\n",
      "       1086612759, 1086613042, 1086613178, 1086613337]), 942596349: array([1086612240, 1086612346, 1086612526, 1086617227, 1086612788,\n",
      "       1086612942, 1086613240, 1086613380, 1086613463, 1086613611,\n",
      "       1086613810, 1086617694, 1086614204, 1086614435, 1086615048,\n",
      "       1086615173, 1086615358, 1086615452, 1086615589, 1086615664,\n",
      "       1086615776, 1086616042, 1086616203, 1086616294, 1086618117,\n",
      "       1086616419, 1086616633, 1086618353, 1086616743, 1086616938,\n",
      "       1086617045, 1086617128]), 942596361: array([1086611897, 1086612115, 1086612212, 1086612606, 1086612763,\n",
      "       1086613428, 1086613589, 1086613911, 1086614098, 1086614269,\n",
      "       1086614739, 1086614960, 1086615184, 1086615622, 1086616018,\n",
      "       1086616283, 1086616430, 1086616518]), 942596353: array([1086613818, 1086623359, 1086613996, 1086614193, 1086623411,\n",
      "       1086614349, 1086623434, 1086614477, 1086614859, 1086615117,\n",
      "       1086615307, 1086623527, 1086620098, 1086620161, 1086616348,\n",
      "       1086616529, 1086616755, 1086617321, 1086617472, 1086623608,\n",
      "       1086617924, 1086618157, 1086618285, 1086618738, 1086618985,\n",
      "       1086619260, 1086619397, 1086623714]), 942596359: array([1086608464, 1086608795, 1086608539, 1086608911, 1086609026,\n",
      "       1086609196, 1086609383]), 942596355: array([1086611462, 1086611672, 1086612068, 1086612356, 1086612448,\n",
      "       1086613351, 1086622055, 1086613898, 1086614094, 1086614282,\n",
      "       1086614455, 1086614577, 1086614876, 1086615089, 1086615350,\n",
      "       1086615458, 1086615860, 1086616392, 1086616611, 1086622104,\n",
      "       1086616737, 1086616974, 1086617026]), 942596357: array([1086610786, 1086607381, 1086607474, 1086611012, 1086607571,\n",
      "       1086607624, 1086607807, 1086607875, 1086607962, 1086608013,\n",
      "       1086608091, 1086608200, 1086611367, 1086608277, 1086612036,\n",
      "       1086608423, 1086608538, 1086608665, 1086608757, 1086608935,\n",
      "       1086609014, 1086612231, 1086609111, 1086609175, 1086609274,\n",
      "       1086609310, 1086611119, 1086609378, 1086609464, 1086609554,\n",
      "       1086609638, 1086612398, 1086610934, 1086609792, 1086610072,\n",
      "       1086612677, 1086610189, 1086610348, 1086610444])}}, 34: {'Vip': {1052212181: array([], dtype=int64), 1052212179: array([], dtype=int64), 1052212170: array([], dtype=int64), 945586431: array([], dtype=int64), 945586433: array([], dtype=int64), 945586438: array([], dtype=int64), 945586440: array([], dtype=int64), 945586425: array([], dtype=int64), 945586429: array([], dtype=int64), 945586435: array([], dtype=int64)}}, 36: {'Vip': {1052412559: array([1086609112, 1086608874, 1086608979, 1086609294, 1086609567,\n",
      "       1086609651, 1086609332, 1086609408, 1086609466]), 1052412568: array([1086606909, 1086607009, 1086607055, 1086607358, 1086606824,\n",
      "       1086607103, 1086607139]), 1052637588: array([], dtype=int64), 1052637596: array([], dtype=int64), 1052637594: array([], dtype=int64), 947798783: array([], dtype=int64), 947798779: array([], dtype=int64), 947798777: array([], dtype=int64), 947798775: array([], dtype=int64), 947798785: array([], dtype=int64), 947798781: array([], dtype=int64), 947798771: array([], dtype=int64)}}, 42: {'Vip': {881001218: array([1086626372, 1086622218, 1086628259, 1086628309, 1086628322,\n",
      "       1086622792, 1086622861, 1086623052, 1086627563, 1086623216,\n",
      "       1086628425, 1086627594, 1086626455, 1086628661, 1086623367,\n",
      "       1086628730, 1086627633, 1086628766, 1086626524, 1086626555,\n",
      "       1086628971, 1086627409, 1086628999, 1086623908, 1086629049,\n",
      "       1086623985, 1086624117, 1086624211, 1086624288, 1086629151,\n",
      "       1086627655, 1086626706, 1086629259, 1086629281, 1086629325,\n",
      "       1086624473, 1086626800, 1086629408, 1086624749, 1086629470,\n",
      "       1086626843, 1086624876, 1086629540, 1086624972, 1086626946,\n",
      "       1086626978, 1086625078, 1086625171, 1086625450, 1086627003,\n",
      "       1086627036, 1086625572, 1086629772, 1086625687, 1086625779,\n",
      "       1086625818, 1086630023, 1086630036, 1086630052, 1086627164,\n",
      "       1086626036, 1086630120, 1086626137, 1086630167, 1086626337,\n",
      "       1086630336, 1086630350]), 881001210: array([1086624415, 1086624559, 1086624704, 1086624848, 1086625032,\n",
      "       1086625651, 1086626027, 1086626160, 1086626289, 1086626585,\n",
      "       1086626685, 1086626799, 1086627029, 1086627112]), 881001212: array([1086630950, 1086627189, 1086627261, 1086627395, 1086627527,\n",
      "       1086627590, 1086627791, 1086627910, 1086627966, 1086628058,\n",
      "       1086628143, 1086628210, 1086628275, 1086628331, 1086631010,\n",
      "       1086628708, 1086628876, 1086628977, 1086629069, 1086629252,\n",
      "       1086629356, 1086629441, 1086629620, 1086629724]), 881001216: array([1086620993, 1086621236, 1086621400, 1086621762]), 881949073: array([], dtype=int64), 881949079: array([], dtype=int64), 881949075: array([], dtype=int64), 881949066: array([], dtype=int64), 881949070: array([], dtype=int64), 881949077: array([], dtype=int64), 881949068: array([], dtype=int64), 881949081: array([], dtype=int64), 1003771765: array([], dtype=int64), 1004136930: array([], dtype=int64)}}, 44: {'Vip': {882551933: array([1086624559, 1086625032, 1086625414, 1086624704, 1086626905,\n",
      "       1086626027, 1086628034, 1086625584, 1086627112, 1086626585]), 882551947: array([1086616619, 1086615597, 1086615987, 1086617557, 1086617087,\n",
      "       1086615033, 1086616417, 1086615418]), 882551945: array([1086610234, 1086610906, 1086609459, 1086610990, 1086609188,\n",
      "       1086609042, 1086608141, 1086608077, 1086611219, 1086608712,\n",
      "       1086608561, 1086608258, 1086609945, 1086608793, 1086610030,\n",
      "       1086608929, 1086610127, 1086608599, 1086609261, 1086609327]), 882551939: array([1086623216, 1086630670, 1086630689, 1086622792, 1086623367,\n",
      "       1086626036, 1086623595, 1086630778, 1086625171, 1086623747,\n",
      "       1086627319, 1086626747, 1086626455, 1086627803, 1086626555,\n",
      "       1086627164, 1086625572, 1086623052, 1086627237, 1086625779,\n",
      "       1086630835, 1086625450, 1086624972, 1086626706, 1086623985,\n",
      "       1086624288, 1086626843, 1086624117, 1086622218, 1086626524]), 882551943: array([1086611097, 1086611703, 1086611015, 1086611556, 1086611319,\n",
      "       1086610967, 1086610582, 1086610037, 1086610343, 1086611441,\n",
      "       1086612493, 1086610469, 1086611948, 1086611834]), 882551937: array([1086622302, 1086621236, 1086621762, 1086622440, 1086620716,\n",
      "       1086620993, 1086622499, 1086623168, 1086621136]), 882551935: array([1086627966, 1086630049, 1086629192, 1086627261, 1086627395,\n",
      "       1086627527, 1086627791, 1086631169, 1086628210, 1086628331,\n",
      "       1086630556, 1086628143, 1086627910, 1086627189, 1086628539,\n",
      "       1086630004, 1086629252, 1086631261, 1086628708, 1086628785,\n",
      "       1086628876, 1086628977, 1086629724, 1086630588, 1086630313,\n",
      "       1086627662, 1086630515, 1086627590, 1086629356, 1086630650]), 882551950: array([1086610661, 1086608485, 1086610442, 1086614154, 1086610083,\n",
      "       1086608410, 1086609105, 1086609242, 1086609463, 1086609537,\n",
      "       1086609640, 1086614429, 1086610331, 1086611314, 1086609352,\n",
      "       1086610551, 1086612326, 1086609830, 1086610202, 1086609948,\n",
      "       1086608926, 1086611609, 1086609060, 1086610731, 1086610809,\n",
      "       1086610620, 1086608798, 1086608679, 1086612193, 1086612239,\n",
      "       1086611036, 1086611146])}}, 46: {'Vip': {965224600: array([], dtype=int64), 1048483608: array([], dtype=int64), 1048483613: array([], dtype=int64), 1048483611: array([], dtype=int64), 1048483604: array([], dtype=int64), 1048483616: array([], dtype=int64), 1048483614: array([], dtype=int64), 916803621: array([1086573413, 1086573585, 1086573689, 1086573960, 1086574120,\n",
      "       1086580854, 1086574630, 1086580914, 1086575485, 1086575766,\n",
      "       1086576100, 1086577313, 1086577739, 1086577989, 1086578427,\n",
      "       1086578594]), 916803626: array([1086565015, 1086559469, 1086560073, 1086560486, 1086560671,\n",
      "       1086560863, 1086561260, 1086561610, 1086562154, 1086562425,\n",
      "       1086562892, 1086563291, 1086563531, 1086565687, 1086564231,\n",
      "       1086564479, 1086564647]), 916803619: array([1086571383, 1086571654, 1086571958, 1086572394, 1086572670,\n",
      "       1086572887, 1086573210, 1086573514, 1086573986, 1086579670,\n",
      "       1086574181, 1086574473, 1086575038, 1086575488, 1086575711,\n",
      "       1086577062, 1086576588]), 917820358: array([], dtype=int64), 917820362: array([], dtype=int64), 917820379: array([], dtype=int64), 917820375: array([], dtype=int64), 917820370: array([], dtype=int64), 917820372: array([], dtype=int64)}}, 48: {'Vip': {967008454: array([1086495538, 1086495264, 1086495230, 1086495458, 1086496225,\n",
      "       1086495377, 1086497579, 1086495646, 1086497631, 1086495728,\n",
      "       1086495925, 1086497347, 1086496018, 1086495170, 1086496359,\n",
      "       1086496472, 1086496547, 1086496681, 1086497031, 1086496763,\n",
      "       1086496844]), 967876201: array([], dtype=int64), 1049610125: array([1086616791, 1086619295, 1086615428, 1086619456, 1086617078,\n",
      "       1086616937, 1086619731, 1086616237, 1086619890, 1086618688,\n",
      "       1086620024, 1086614791, 1086614734, 1086614574]), 1049610129: array([1086608210, 1086607669, 1086608875, 1086607586, 1086607936,\n",
      "       1086608062, 1086608171, 1086609012]), 1049610126: array([1086607494, 1086609672, 1086607396, 1086608240, 1086607011,\n",
      "       1086607590, 1086607174, 1086608590, 1086607662, 1086608396,\n",
      "       1086607738, 1086607860, 1086607926, 1086607975, 1086609831,\n",
      "       1086608509, 1086609893, 1086608843, 1086608100, 1086609084]), 1049610116: array([1086608087, 1086607129, 1086607198, 1086607438, 1086607057,\n",
      "       1086606969, 1086606854, 1086607345, 1086607382, 1086607249,\n",
      "       1086608288, 1086608151, 1086607747, 1086607527, 1086607616]), 1049610123: array([1086615409, 1086616223, 1086616102, 1086616403, 1086614936,\n",
      "       1086615304, 1086617003, 1086617476, 1086617376, 1086615199,\n",
      "       1086616758, 1086616873, 1086617117, 1086615099]), 1049610120: array([1086608242, 1086608280, 1086608326, 1086608470, 1086608559,\n",
      "       1086608635, 1086609230, 1086610900, 1086608912, 1086609023,\n",
      "       1086610005, 1086609304, 1086609427, 1086609563, 1086609726,\n",
      "       1086609490, 1086609624]), 919418503: array([], dtype=int64), 919418507: array([], dtype=int64), 919418513: array([], dtype=int64), 919418501: array([], dtype=int64)}}, 50: {'Vip': {1050485657: array([], dtype=int64), 1050485654: array([], dtype=int64), 1050485649: array([], dtype=int64), 1050485652: array([], dtype=int64), 1050485655: array([], dtype=int64), 1050485645: array([], dtype=int64), 938002058: array([], dtype=int64), 938002062: array([], dtype=int64), 938002068: array([], dtype=int64), 938002066: array([], dtype=int64), 938002060: array([], dtype=int64), 1052609309: array([], dtype=int64), 920288853: array([1086547862, 1086549111, 1086548737, 1086551180, 1086548925,\n",
      "       1086548561, 1086548371, 1086548140, 1086549044, 1086550655,\n",
      "       1086546846, 1086548194, 1086547295, 1086549477, 1086549580,\n",
      "       1086549645, 1086551310, 1086551357, 1086551510, 1086549826,\n",
      "       1086550000, 1086550485, 1086549264]), 920288851: array([1086570623, 1086569434, 1086569262, 1086569752, 1086570011,\n",
      "       1086570235, 1086569613, 1086568205, 1086568510, 1086568704,\n",
      "       1086568868]), 920288845: array([1086581699, 1086573585, 1086577516, 1086573413, 1086574420,\n",
      "       1086574630, 1086575766, 1086574952, 1086575485, 1086577739,\n",
      "       1086576860, 1086573689, 1086573960, 1086578427, 1086578594,\n",
      "       1086577144, 1086577313]), 920288849: array([1086561260, 1086566819, 1086561862, 1086560486, 1086566513,\n",
      "       1086560863, 1086560073, 1086560274, 1086560671, 1086559469,\n",
      "       1086566352, 1086563291, 1086563531, 1086559742, 1086562425,\n",
      "       1086562892, 1086563130, 1086568099, 1086564647, 1086561610,\n",
      "       1086562154, 1086564479, 1086564231]), 920288843: array([1086571383, 1086572887, 1086573210, 1086573514, 1086571958,\n",
      "       1086575038, 1086572394, 1086573986, 1086574181, 1086571766,\n",
      "       1086576935, 1086575488, 1086577279, 1086577062, 1086576588]), 920288855: array([1086557076, 1086555724, 1086554664, 1086556491, 1086554115])}}, 52: {'Vip': {939471259: array([1086615470, 1086615324, 1086615181, 1086615921, 1086616026,\n",
      "       1086616211, 1086616380, 1086614610, 1086617178, 1086617292,\n",
      "       1086613500, 1086613723, 1086615038, 1086614380, 1086614163,\n",
      "       1086614890]), 939471250: array([1086608714, 1086608508, 1086608631, 1086608192, 1086608295,\n",
      "       1086608919, 1086608996, 1086608014, 1086608090, 1086607493,\n",
      "       1086607419, 1086607661, 1086607567, 1086608450, 1086607869,\n",
      "       1086607938, 1086608361, 1086607769]), 939471245: array([1086613328, 1086612939, 1086613087, 1086613233, 1086612577,\n",
      "       1086612815, 1086614432, 1086612686, 1086613495, 1086613714,\n",
      "       1086614335, 1086614652, 1086614775, 1086613899, 1086614215,\n",
      "       1086614905, 1086613844]), 939471256: array([1086611347, 1086610983, 1086611421, 1086611532, 1086611172,\n",
      "       1086611262, 1086612038, 1086612224, 1086611625, 1086611654,\n",
      "       1086611747, 1086611827, 1086611901, 1086612129]), 939471248: array([1086611268, 1086610851, 1086614153, 1086610629, 1086610361,\n",
      "       1086610192, 1086612307, 1086613152, 1086611952, 1086612086,\n",
      "       1086612261, 1086614523, 1086610472, 1086611691, 1086614586,\n",
      "       1086613238, 1086612616, 1086611493]), 940433495: array([], dtype=int64), 940433490: array([], dtype=int64), 940433499: array([], dtype=int64), 940433497: array([], dtype=int64), 940433488: array([], dtype=int64), 940433493: array([], dtype=int64), 1053605418: array([], dtype=int64), 925843758: array([], dtype=int64), 925843756: array([], dtype=int64), 925843771: array([], dtype=int64), 925843765: array([], dtype=int64), 925843763: array([], dtype=int64)}}, 54: {'Vip': {944115814: array([1086608361, 1086607493, 1086607769, 1086607661, 1086607567,\n",
      "       1086608450, 1086607806, 1086607869, 1086607938, 1086609586,\n",
      "       1086608014, 1086607419, 1086609668, 1086608508, 1086608631,\n",
      "       1086608919, 1086608996, 1086608714, 1086608090, 1086608192]), 944115820: array([1086603649, 1086603851, 1086603702, 1086603794, 1086603534,\n",
      "       1086603219, 1086603159]), 944115825: array([1086611081, 1086611262, 1086611347, 1086610983, 1086611172,\n",
      "       1086612435, 1086611827, 1086611901, 1086612038, 1086612129,\n",
      "       1086611421, 1086611532, 1086611654]), 944115808: array([], dtype=int64), 944115831: array([1086615324, 1086616746, 1086615470, 1086617606, 1086616880,\n",
      "       1086616026, 1086616380, 1086614610, 1086617178, 1086617292,\n",
      "       1086615786, 1086614380, 1086613723, 1086613969, 1086615038,\n",
      "       1086614163, 1086613500, 1086614890]), 944115804: array([1086614335, 1086612939, 1086615491, 1086616375, 1086615295,\n",
      "       1086616414, 1086615206, 1086614432, 1086612686, 1086613495,\n",
      "       1086613714, 1086613844, 1086614215, 1086613087, 1086612577,\n",
      "       1086612815, 1086616462, 1086614652, 1086614775, 1086614905,\n",
      "       1086615049]), 930996067: array([], dtype=int64), 930996069: array([], dtype=int64), 930996076: array([], dtype=int64), 930996073: array([], dtype=int64), 930996078: array([], dtype=int64), 930996080: array([], dtype=int64), 930996082: array([], dtype=int64), 938002083: array([], dtype=int64), 938002073: array([], dtype=int64), 938002077: array([], dtype=int64), 938002081: array([], dtype=int64), 938002088: array([], dtype=int64), 938002071: array([], dtype=int64), 938002079: array([], dtype=int64), 1053774037: array([], dtype=int64)}}, 56: {'Vip': {939471285: array([1086614788, 1086617091, 1086612108, 1086611751, 1086611973,\n",
      "       1086611616, 1086617154, 1086611370, 1086617281, 1086617333,\n",
      "       1086612357, 1086611566, 1086617446, 1086613543, 1086611511,\n",
      "       1086615332, 1086615171, 1086613390, 1086612839, 1086611875,\n",
      "       1086612208, 1086615562, 1086614406, 1086613057, 1086613681,\n",
      "       1086615071]), 939471298: array([1086614167, 1086612760, 1086613571, 1086619576, 1086622574,\n",
      "       1086614561, 1086613892, 1086617380, 1086619162, 1086613421,\n",
      "       1086613239, 1086616011, 1086614769, 1086614990, 1086615161,\n",
      "       1086619643, 1086616538, 1086619782, 1086620847, 1086617850,\n",
      "       1086615711, 1086616782, 1086616905, 1086615292]), 939471290: array([1086616916, 1086618263, 1086616372, 1086616570, 1086621207,\n",
      "       1086618537]), 939471278: array([1086617963, 1086617759, 1086617479, 1086621143, 1086616882,\n",
      "       1086617069, 1086619172, 1086616124, 1086615960, 1086616320,\n",
      "       1086622167, 1086619386, 1086616552, 1086617319, 1086618949,\n",
      "       1086618466, 1086618632, 1086618778, 1086618119, 1086618325]), 939471272: array([1086618141, 1086614697, 1086615504, 1086615392, 1086614846,\n",
      "       1086616210, 1086616497, 1086613409, 1086614254, 1086614497,\n",
      "       1086615111, 1086615251, 1086616341, 1086617782, 1086616635,\n",
      "       1086616731, 1086616992, 1086617183, 1086617426, 1086614618]), 939471282: array([1086617522, 1086618582, 1086618026, 1086619723, 1086617684,\n",
      "       1086618271, 1086619875, 1086618766, 1086618894, 1086619184,\n",
      "       1086619347, 1086618143]), 939471269: array([1086616121, 1086618050, 1086616222, 1086616031, 1086614265,\n",
      "       1086616450, 1086614616, 1086615927, 1086613942, 1086613525])}}}\n"
     ]
    }
   ],
   "source": [
    "print(full_cat_exp_id_cells)\n"
   ]
  },
  {
   "cell_type": "code",
   "execution_count": 226,
   "id": "4a4a7d6e",
   "metadata": {},
   "outputs": [
    {
     "data": {
      "text/plain": [
       "Text(0.5, 1.0, '1-10 level')"
      ]
     },
     "execution_count": 226,
     "metadata": {},
     "output_type": "execute_result"
    },
    {
     "data": {
      "image/png": "[encoded data removed]",
      "text/plain": [
       "<Figure size 432x288 with 1 Axes>"
      ]
     },
     "metadata": {
      "needs_background": "light"
     },
     "output_type": "display_data"
    }
   ],
   "source": [
    "experiment_id=795953296\n",
    "neuro_id=1086490480\n",
    "common_start_time=310\n",
    "tmp_test__ =neural_data[((neural_data['ophys_experiment_id']==experiment_id)&(neural_data['cell_specimen_id']==neuro_id)&(neural_data['timestamps']>common_start_time))]\n",
    "start_time_for_neural=tmp_test__['timestamps'].values[0]\n",
    "\n",
    "stimulus_table_tmp = experiments[experiment_id].stimulus_presentations.drop(columns = ['image_set']) # dropping the 'image_set' column to avoid confusion. Image_set column contains a unique string for set of images presented in a session.\n",
    "start_index_stimulus=stimulus_table_tmp[stimulus_table_tmp['start_time']>=start_time_for_neural-0.5].index[0]\n",
    "for time in stimulus_table_tmp['start_time'].values[start_index_stimulus:start_index_stimulus+15]:\n",
    "     plt.axvline(x=time, ymin=0, ymax=1,color='r')\n",
    "\n",
    "for time in stimulus_table_tmp['stop_time'].values[1:200]:\n",
    "     plt.axvline(x=time, ymin=0, ymax=1,color='k')    \n",
    "\n",
    "plt.plot(tmp_test__['timestamps'][0:4000],tmp_test__['dff'][0:4000])\n",
    "plt.xlabel('Time(s)')\n",
    "plt.ylabel('dff(s)')\n",
    "#plt.xlim((310,320))\n",
    "plt.title('1-10 level')\n"
   ]
  },
  {
   "cell_type": "code",
   "execution_count": 13,
   "id": "144f81ef",
   "metadata": {},
   "outputs": [
    {
     "ename": "NameError",
     "evalue": "name 'stimulus_table_tmp' is not defined",
     "output_type": "error",
     "traceback": [
      "\u001b[0;31m---------------------------------------------------------------------------\u001b[0m",
      "\u001b[0;31mNameError\u001b[0m                                 Traceback (most recent call last)",
      "\u001b[0;32m<ipython-input-13-20bb9992ec88>\u001b[0m in \u001b[0;36m<module>\u001b[0;34m\u001b[0m\n\u001b[1;32m      3\u001b[0m \u001b[0;31m#stimulus_table_tmp[stimulus_table_tmp['is_change']==True].head(100)\u001b[0m\u001b[0;34m\u001b[0m\u001b[0;34m\u001b[0m\u001b[0;34m\u001b[0m\u001b[0m\n\u001b[1;32m      4\u001b[0m \u001b[0;34m\u001b[0m\u001b[0m\n\u001b[0;32m----> 5\u001b[0;31m \u001b[0mprint\u001b[0m\u001b[0;34m(\u001b[0m\u001b[0mstimulus_table_tmp\u001b[0m\u001b[0;34m[\u001b[0m\u001b[0;34m'image_name'\u001b[0m\u001b[0;34m]\u001b[0m\u001b[0;34m.\u001b[0m\u001b[0mvalues\u001b[0m\u001b[0;34m[\u001b[0m\u001b[0;36m0\u001b[0m\u001b[0;34m:\u001b[0m\u001b[0;36m300\u001b[0m\u001b[0;34m]\u001b[0m\u001b[0;34m)\u001b[0m\u001b[0;34m\u001b[0m\u001b[0;34m\u001b[0m\u001b[0m\n\u001b[0m\u001b[1;32m      6\u001b[0m \u001b[0;34m\u001b[0m\u001b[0m\n\u001b[1;32m      7\u001b[0m \u001b[0;34m\u001b[0m\u001b[0m\n",
      "\u001b[0;31mNameError\u001b[0m: name 'stimulus_table_tmp' is not defined"
     ]
    }
   ],
   "source": [
    "#stimulus_table_tmp = experiments[experiment_id].stimulus_presentations.drop(columns = ['image_set']) # dropping the 'image_set' column to avoid confusion. Image_set column contains a unique string for set of images presented in a session.start_index_stimulus=stimulus_table_tmp[stimulus_table_tmp['start_time']>=start_time_for_neural-0.5].index[0]\n",
    "#stimulus_table_tmp.head(500)\n",
    "#stimulus_table_tmp[stimulus_table_tmp['is_change']==True].head(100)\n",
    "\n",
    "print(stimulus_table_tmp['image_name'].values[0:300])\n",
    "\n",
    "   "
   ]
  },
  {
   "cell_type": "code",
   "execution_count": null,
   "id": "1a5d5144",
   "metadata": {},
   "outputs": [],
   "source": []
  }
 ],
 "metadata": {
  "kernelspec": {
   "display_name": "Python 3",
   "language": "python",
   "name": "python3"
  },
  "language_info": {
   "codemirror_mode": {
    "name": "ipython",
    "version": 3
   },
   "file_extension": ".py",
   "mimetype": "text/x-python",
   "name": "python",
   "nbconvert_exporter": "python",
   "pygments_lexer": "ipython3",
   "version": "3.8.8"
  }
 },
 "nbformat": 4,
 "nbformat_minor": 5
}
